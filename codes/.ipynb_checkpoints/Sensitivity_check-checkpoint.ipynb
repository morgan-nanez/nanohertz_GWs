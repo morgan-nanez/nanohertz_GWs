{
 "cells": [
  {
   "cell_type": "code",
   "execution_count": 2,
   "metadata": {},
   "outputs": [],
   "source": [
    "#!/usr/bin/env python\n",
    "\"\"\"look at sensisivity\"\"\"\n",
    "\n",
    "__author__ = \"Chiara M. F. Mingarelli\"\n",
    "__copyright__ = \"Copyright 2017, GWASAP project\"\n",
    "__credits__ = [\"Chiara Mingarelli\"]\n",
    "__license__ = \"GPL\"\n",
    "__version__ = \"0.0.1\"\n",
    "__maintainer__ = \"Chiara Mingarelli\"\n",
    "__email__ = \"mingarelli@gmail.com\""
   ]
  },
  {
   "cell_type": "code",
   "execution_count": 2,
   "metadata": {},
   "outputs": [],
   "source": [
    "from __future__ import division\n",
    "from IPython.display import display, Math, Latex\n",
    "import math\n",
    "from math import sqrt, cos, sin, pi\n",
    "import numpy as np\n",
    "import statsmodels.api as sm\n",
    "from scipy.interpolate import interp1d\n",
    "from scipy.integrate import quad\n",
    "from scipy.stats import norm\n",
    "import matplotlib.pyplot as plt\n",
    "import matplotlib.mlab as mlab\n",
    "import matplotlib.mlab as ml\n",
    "from matplotlib.ticker import FormatStrFormatter, LinearLocator, NullFormatter, NullLocator, MultipleLocator\n",
    "import matplotlib.ticker\n",
    "import matplotlib.colors\n",
    "from matplotlib.font_manager import FontProperties\n",
    "from matplotlib import rc, text\n",
    "import healpy as hp\n",
    "import astropy\n",
    "import astropy.units as u\n",
    "from astropy.cosmology import Planck15, z_at_value\n",
    "import time\n",
    "import collections\n",
    "\n",
    "%matplotlib inline\n",
    "%config InlineBackend.figure_format = \"retina\"\n",
    "\n"
   ]
  },
  {
   "cell_type": "code",
   "execution_count": 3,
   "metadata": {},
   "outputs": [],
   "source": [
    "# physical constants for natural units c = G = 1\n",
    "c=2.99792458*(10**8)\n",
    "G=6.67428*(10**(-11))\n",
    "s_mass=G*(1.98892*10**(30))/(c**3)\n",
    "\n",
    "# common function shortcuts\n",
    "log10 = np.log10\n",
    "pi = np.pi\n",
    "sqrt = np.sqrt"
   ]
  },
  {
   "cell_type": "code",
   "execution_count": 4,
   "metadata": {},
   "outputs": [],
   "source": [
    "fig_width_pt = 245.27 #513.17           # Get this from LaTeX using \\showthe\\columnwidth\n",
    "inches_per_pt = 1.0/72.27               # Convert pt to inches\n",
    "golden_mean = (np.sqrt(5)-1.0)/2.0      # Aesthetic ratio\n",
    "fig_width = fig_width_pt*inches_per_pt  # width in inches\n",
    "fig_height =fig_width*golden_mean       # height in inches\n",
    "fig_size = [fig_width,fig_height]\n",
    "\n",
    "params = {'backend': 'pdf',\n",
    "        'axes.labelsize': 7,\n",
    "        'lines.markersize': 4,\n",
    "        'font.size': 7,\n",
    "        'xtick.major.size':6,\n",
    "        'xtick.minor.size':3,  \n",
    "        'ytick.major.size':6,\n",
    "        'ytick.minor.size':3, \n",
    "        'xtick.major.width':0.5,\n",
    "        'ytick.major.width':0.5,\n",
    "        'xtick.minor.width':0.5,\n",
    "        'ytick.minor.width':0.5,\n",
    "        'lines.markeredgewidth':1,\n",
    "        'axes.linewidth':1.2,\n",
    "        'legend.fontsize': 7,\n",
    "        'xtick.labelsize': 7,\n",
    "        'ytick.labelsize': 7,\n",
    "        'savefig.dpi':200,\n",
    "        'path.simplify':True,\n",
    "        'text.latex.preamble': [r'\\usepackage{amsmath}'],\n",
    "        'text.usetex':True,\n",
    "        #'axes.color_cycle': ['b', 'lime', 'r', 'purple', 'g', 'c', 'm', 'orange', 'darkblue', \\\n",
    "        #                        'darkcyan', 'y','orangered','chartreuse','brown','deeppink','lightgreen', 'k'],\n",
    "        #'font.serif':cm,\n",
    "        'figure.figsize': fig_size}\n",
    "plt.rcParams.update(params)"
   ]
  },
  {
   "cell_type": "code",
   "execution_count": 5,
   "metadata": {},
   "outputs": [],
   "source": [
    "# Mass functions\n",
    "\n",
    "def mu(m1,m2): \n",
    "    return s_mass*(m1*m2)/(m1+m2) # reduced mass\n",
    "\n",
    "\n",
    "def M(m1,m2):  \n",
    "    return s_mass*(m1+m2) # total mass\n",
    "\n",
    "def mchirp(m1,m2): \n",
    "    return ((mu(m1,m2))**(3./5))*((M(m1,m2))**(2./5))  # chirp mass\n",
    "\n",
    "def mchirp_q(q,Mtot): \n",
    "    \"\"\"\n",
    "    chirp mass in terms of q and M_tot. Answer in seconds.\n",
    "    \"\"\"\n",
    "    ans = (q/(1+q)**2)**(3/5)*Mtot*s_mass\n",
    "    return ans\n",
    "\n",
    "def parsec2sec(d): return d*3.08568025e16/299792458\n",
    "\n",
    "\n",
    "# Functions related to galaxy catalogue \n",
    "\n",
    "def Mk2mStar(mag):\n",
    "    \"\"\"\n",
    "    converting from k-band luminosity to M* using Eq.2 from Ma et al. (2014)\n",
    "    valid for early-type galaxies\n",
    "    \"\"\"\n",
    "    Mstar = 10.58-0.44*(mag + 23)\n",
    "    return 10**(Mstar)\n",
    "\n",
    "def Mbh2MbulgeKH13(Mbulge):\n",
    "    #KH13\n",
    "    first_scatter = np.random.normal(0.49, 0.06)\n",
    "    second_scatter = np.random.normal(1.16, 0.08)\n",
    "    ans = (first_scatter * pow((Mbulge / 1e11), second_scatter))\n",
    "    logM = log10(ans) \n",
    "    scatterM = np.random.normal(logM, 0.29) + 9\n",
    "    return 10**scatterM\n",
    "\n",
    "\n",
    "def Mbh2MbulgeHR04(Mbulge):\n",
    "    \n",
    "    #HR04\n",
    "    first_scatter = (np.random.normal(8.20, 0.1))\n",
    "    second_scatter = (np.random.normal(1.12, 0.06))\n",
    "    ans = np.random.normal((first_scatter+(second_scatter*log10(Mbulge/1e11))), 0.3)\n",
    "    return 10**(ans)\n",
    "\n",
    "def Mbh2MbulgeMM13(Mbulge):\n",
    "    exponent = 8.46+1.05*log10(Mbulge/1e11)\n",
    "    ans_w_scatter = np.random.normal(exponent,0.34)\n",
    "    return 10**ans_w_scatter\n",
    "\n",
    "\n",
    "\n",
    "\n",
    "# For GWs: strain, GW frequency and time to coalescence \n",
    "\n",
    "def strain(mass, dist, freq):\n",
    "    \"\"\"\n",
    "    Eq. 4 from Schutz and Ma, strain for an equal mass binary\n",
    "    mass in solar masses, freq in Hz, distance in Mpc\n",
    "    I think this is off by a factor of 2**(-1/3)\n",
    "    \"\"\"\n",
    "    ans = 6.9e-15*(mass/1e9)**(5/3)*(10/dist)*(freq/1e-8)**(2/3)\n",
    "    return ans\n",
    "\n",
    "def generic_strain(q_mass_ratio, Mtot, dist, freq):\n",
    "    strain = sqrt(32./5)*mchirp_q(q_mass_ratio,Mtot)**(5/3)*(pi*freq)**(2/3)/parsec2sec(dist*1e6)\n",
    "    return strain\n",
    "\n",
    "def generic_strain_wMc(chirp_mass, dist, freq):\n",
    "    strain = sqrt(32./5)*(chirp_mass*s_mass)**(5/3)*(pi*freq)**(2/3)/parsec2sec(dist*1e6)\n",
    "    return strain\n",
    "\n",
    "def freq_gw(q, Mtot, tc):\n",
    "    \"\"\"\n",
    "    GW frquency as a function of time to coalescence in years, total mass and mass ratio\n",
    "    Result from integration of standard df/dt for GWs\n",
    "    \"\"\"\n",
    "    ans = mchirp_q(q,Mtot)**(-5/8)/pi*(256/5*tc*31556926)**(-3/8)\n",
    "    return ans\n",
    "\n",
    "def freq_gw_wMc(chirp_mass, tc):\n",
    "    \"\"\"\n",
    "    GW frquency as a function of time to coalescence in years and chirp mass (directly)\n",
    "    Result from integration of standard df/dt for GWs\n",
    "    \"\"\"\n",
    "    ans = (chirp_mass*s_mass)**(-5/8)/pi*(256/5*tc*31556926)**(-3/8)\n",
    "    return ans\n",
    "\n",
    "def time_to_c(q, Mtot, freq):\n",
    "    \"\"\"\n",
    "    time to coalescence of a binary in years\n",
    "    \"\"\"\n",
    "    ans = (pi*freq)**(-8/3)*mchirp_q(q,Mtot)**(-5/3)*5/256\n",
    "    return (ans/31556926)\n",
    "\n",
    "def time_to_c_wMc(chirp_mass, freq):\n",
    "    \"\"\"\n",
    "    freq. in Hz, input chirp mass in solar masses, answer in years\n",
    "    \"\"\"\n",
    "    ans = (pi*freq)**(-8/3)*(chirp_mass*s_mass)**(-5/3)*5/256\n",
    "    return (ans/31556926)\n",
    "\n",
    "def i_prob(q, Mtot, min_freq, total_T):\n",
    "    \"\"\"\n",
    "    input time in years, Mtot in solar masses\n",
    "    \"\"\"\n",
    "    ans = time_to_c(q, Mtot, min_freq)/total_T\n",
    "    return ans\n",
    "\n",
    "def i_prob_wMc(chirpMass, min_freq, total_T):\n",
    "    \"\"\"\n",
    "    input time in years, Mtot in solar masses\n",
    "    Probability that this galaxy contains a binary in the PTA band\n",
    "    \"\"\"\n",
    "    ans = time_to_c_wMc(chirpMass, min_freq)/total_T\n",
    "    return ans\n",
    "\n"
   ]
  },
  {
   "cell_type": "code",
   "execution_count": 6,
   "metadata": {},
   "outputs": [],
   "source": [
    "# Black hole merger timescales from galaxy merger timescale; Binney and Tremaine 1987 \n",
    "# \"Galactic Dynamics\"; also Sesana and Khan 2015\n",
    "# \"a\" is computed by equating R_eff from Dabringhausen, Hilker & Kroupa (2008) Eq. 4 and \n",
    "\n",
    "def R_eff(Mstar):\n",
    "    \"\"\"\n",
    "    Effective radius, Dabringhausen, Hilker & Kroupa (2008) Eq. 4\n",
    "    Answer in units of parsecs (pc)\n",
    "    \"\"\"\n",
    "    ans = np.maximum(2.95*(Mstar/1e6)**0.596,34.8*(Mstar/1e6)**0.399)\n",
    "    return ans\n",
    "\n",
    "def r0_sol(Mstar, gamma):\n",
    "    \"\"\"\n",
    "    r0 solution obtained by equating XX with YY (as in Sesana & Khan 2015)\n",
    "    answer in parsecs\n",
    "    \"\"\"\n",
    "    ans = R_eff(Mstar)/0.75*(2**(1/(3-gamma))-1)\n",
    "    return ans\n",
    "\n",
    "def sigmaVel(Mstar):\n",
    "    \"\"\"\n",
    "    from Zahid et al. 2016 Eq 5 and Table 1 fits; assume massive galaxies with Mb > 10.3\n",
    "    answer in km/s\n",
    "    \"\"\"\n",
    "    logSigmaB = 2.2969\n",
    "    alpha2 = 0.299\n",
    "    Mb = 10**(11) #solar masses\n",
    "    logAns = logSigmaB + alpha2*log10(Mstar/Mb)\n",
    "    #print \"sigmaVel is \", (10**logAns)\n",
    "    return 10**logAns\n",
    "\n",
    "def tfric(Mstar,M2):\n",
    "    \"\"\"\n",
    "    Final eq from https://webhome.weizmann.ac.il/home/iair/astrocourse/tutorial8.pdf\n",
    "    returns timescale in Gyr\n",
    "    Mbh should be mass of primary\n",
    "    \"\"\"\n",
    "    # assume log(Lambda) = 10\n",
    "    vc = sqrt(2)*sigmaVel(Mstar)\n",
    "    #a = semiMaj_a(Mstar)/1e3 # make sure \"a\" units are kpc\n",
    "    a = R_eff(Mstar)/1e3\n",
    "    ans = 2.64e10*(a/2)**2*(vc/250)*(1e6/M2)\n",
    "    return ans/1e9 \n",
    "\n",
    "def rho_r(Mstar, gamma, r_var):\n",
    "    \"\"\"\n",
    "    gamma for Dehen profiles; Sesana & Khan 2015, Eq. 1 \n",
    "    r_const = r_0 or \"a\" in Dehen 1993\n",
    "    r_var = \"r\" in Dehen 1993\n",
    "    answer in seconds^-2\n",
    "    \"\"\"\n",
    "    r_const = parsec2sec(r0_sol(Mstar, gamma)) # parsec to seconds\n",
    "    r_var = parsec2sec(r_var)\n",
    "    num = (3-gamma)*(Mstar*s_mass)*r_const\n",
    "    deno = 4*pi*(r_var)**gamma*(r_var+r_const)**(4-gamma)\n",
    "    ans = num/deno\n",
    "    return ans\n",
    "\n",
    "def r_inf(Mstar,gamma,Mtot):\n",
    "    \"\"\"\n",
    "    influence radius, r_inf, from Sesana & Khan 2015\n",
    "    answer in parsecs\n",
    "    \"\"\"\n",
    "    num = r0_sol(Mstar, gamma)\n",
    "    deno = (Mstar/(2*Mtot))**(1/(3-gamma))-1 #units of solar masses cancel out\n",
    "    rinf = num/deno\n",
    "    return rinf\n",
    "\n",
    "def a_StarGW(Mstar,q,Mtot,gamma,H):\n",
    "    \"\"\"\n",
    "    Eq. 6, Sesana & Khan 2015. Assume no eccentricity, e=0.\n",
    "    Answer in seconds\n",
    "    \"\"\"\n",
    "    sigmaInf = sigmaVel(Mstar)*1000/c # km/s converted to m/s then /c for dimensionless units\n",
    "    rho_inf = rho_r(Mstar, gamma, r_inf(Mstar,gamma,Mtot)) #rinf in pc, rho_inf func converts\n",
    "    num = 64*sigmaInf*(q*(Mtot*s_mass)**3/(1+q)**2)\n",
    "    deno = 5*H*rho_inf\n",
    "    ans = (num/deno)**(1/5)\n",
    "    return ans\n",
    "\n",
    "def t_hard(Mstar,q,gamma,Mtot):\n",
    "    \"\"\"\n",
    "    Hardening timescale with stars, Eq. 7 Sesana & Khan 2015\n",
    "    Answer in Gyrs\n",
    "    \"\"\"\n",
    "    a_val = parsec2sec(r0_sol(Mstar, gamma))\n",
    "    H = 15\n",
    "    aStarGW = a_StarGW(Mstar,q,Mtot,gamma,H) #check units\n",
    "    sigma_inf = sigmaVel(Mstar)*1000/c\n",
    "    rinf_val = r_inf(Mstar,gamma,Mtot)\n",
    "    rho_inf = rho_r(Mstar, gamma, rinf_val)\n",
    "    ans = sigma_inf/(H*rho_inf*aStarGW)\n",
    "    return ans/31536000/1e9, rinf_val"
   ]
  },
  {
   "cell_type": "code",
   "execution_count": 7,
   "metadata": {},
   "outputs": [],
   "source": [
    "# constants for Illustris, Table 1 of Rodriguez-Gomez et al. (2016), assuming z = 0. \n",
    "\n",
    "M0 = 2e11 # solar masses\n",
    "A0 = 10**(-2.2287) # Gyr^-1\n",
    "alpha0 = 0.2241\n",
    "alpha1 = -1.1759\n",
    "delta0 = 0.7668\n",
    "beta0 = -1.2595\n",
    "beta1 = 0.0611\n",
    "gamma = -0.0477\n",
    "eta = 2.4644\n",
    "delta0 = 0.7668\n",
    "delta1 = -0.4695"
   ]
  },
  {
   "cell_type": "code",
   "execution_count": 8,
   "metadata": {},
   "outputs": [],
   "source": [
    "# For Illustris galaxy-galaxy merger rate\n",
    "# functions for Illustris, Table 1 of Rodriguez-Gomez et al. (2016). \n",
    "\n",
    "def A_z(z): return A0*(1+z)**eta \n",
    "def alpha(z): return alpha0*(1+z)**alpha1\n",
    "def beta(z): return beta0*(1+z)**beta1\n",
    "def delta(z): return delta0*(1+z)**delta1\n",
    "\n",
    "def MzMnow(mu, sigma):\n",
    "    \"\"\"\n",
    "    Scale the value of M* to its value at z=0.3.\n",
    "    This is from de Lucia and Blaizot 2007, Figure 7.\n",
    "    \"\"\"\n",
    "    ans = np.random.normal(mu, sigma)\n",
    "    return ans\n",
    "\n",
    "def illus_merg(mustar, Mstar,z):\n",
    "    \"\"\"\n",
    "    Galaxy-galaxy merger rate from Illustris simulation.\n",
    "    This is d^2N_mergers/dmu dt (M, mu*), in units of Gyr^-1\n",
    "    Table 1 of Rodriguez-Gomez et al. (2016).\n",
    "    \"\"\"\n",
    "    exponent = beta(z) + gamma*np.log10(Mstar/1e10)\n",
    "    rate = A_z(z)*(Mstar/1e10)**alpha(z)*(1+(Mstar/M0)**delta(z))*mustar**exponent\n",
    "    return rate\n",
    "\n",
    "def cumulative_merg_ill(mu_min, mu_max, Mstar, z):\n",
    "    \"\"\"\n",
    "    Cumulative merger probability over a range of mu^*. \n",
    "    For major mergers, this is 0.25 to 1.0\n",
    "    \"\"\"\n",
    "    ans, err = quad(illus_merg, mu_min, mu_max, args = (Mstar,z))\n",
    "    return ans\n",
    "\n",
    "def i_prob_Illustris(Mstar, Mtot, q, min_freq):\n",
    "    \"\"\"\n",
    "    Probability that this galaxy contains a binary in the PTA band\n",
    "    \"\"\"\n",
    "    chirpMass = mchirp_q(q,Mtot)/s_mass #in solar mass units\n",
    "    M1 = Mtot/(1+q)\n",
    "    M2 = M1*q\n",
    "    mu_min, mu_max = 0.25, 1.0\n",
    "    gamma = 1.0 # for Hernquist profile, see Dehen 1993\n",
    "    \n",
    "    #Mstar = Mstar*MzMnow(mu, sigma) # scale M* according to Figure 7 of de Lucia and Blaizot 2007\n",
    "    MstarZ = 0.7*Mstar\n",
    "    hardening_t, r_inf_here = t_hard(MstarZ,q,gamma,Mtot)\n",
    "    friction_t = tfric(MstarZ,M2)\n",
    "    timescale = hardening_t + friction_t  # Gyrs \n",
    "\n",
    "    # if timescale > 12.25 Gyrs (z=4), no merging SMBHs\n",
    "    # also limit of validity for Rodriguez-Gomez + (2015) fit in Table 1.\n",
    "    if timescale > 12.25: \n",
    "        return 0, 'nan', timescale*1e9, 'nan', 'nan',  r_inf_here, friction_t, hardening_t\n",
    "    else:\n",
    "        z = z_at_value(Planck15.age, (13.79-timescale) * u.Gyr) # redshift of progenitor galaxies\n",
    "        t2c = time_to_c_wMc(chirpMass, min_freq) # in years\n",
    "        mergRate = cumulative_merg_ill(mu_min, mu_max, MstarZ, z) # rate per Gigayear\n",
    "        Tz = timescale*1e9\n",
    "        ans = t2c*mergRate/1e9\n",
    "        return ans, z, Tz, mergRate, t2c, r_inf_here, friction_t, hardening_t"
   ]
  },
  {
   "cell_type": "code",
   "execution_count": 9,
   "metadata": {},
   "outputs": [],
   "source": [
    "f_min = 1e-9\n",
    "q = 0.5"
   ]
  },
  {
   "cell_type": "code",
   "execution_count": null,
   "metadata": {},
   "outputs": [],
   "source": []
  },
  {
   "cell_type": "code",
   "execution_count": 10,
   "metadata": {},
   "outputs": [],
   "source": [
    "mstar = [] \n",
    "i = 5\n",
    "while i < 16:\n",
    "    mstar.append(i)\n",
    "    i = i + 0.01\n",
    "    "
   ]
  },
  {
   "cell_type": "code",
   "execution_count": 11,
   "metadata": {},
   "outputs": [],
   "source": [
    "bhmass = np.zeros(len(mstar))\n",
    "n = 0\n",
    "for i in mstar:\n",
    "    bhmass[n] = Mbh2MbulgeKH13(pow(10, i))\n",
    "    n = n+ 1"
   ]
  },
  {
   "cell_type": "code",
   "execution_count": 12,
   "metadata": {},
   "outputs": [],
   "source": [
    "prob = np.zeros(len(mstar))\n",
    "t_col = np.zeros(len(mstar))\n",
    "s_hard = np.zeros(len(mstar))\n",
    "d_fric = np.zeros(len(mstar))\n",
    "t_z = np.zeros(len(mstar))\n",
    "n = 0\n",
    "for i in mstar:\n",
    "    prob[n] = (i_prob_Illustris(pow(10, i), bhmass[n], q, f_min )[0])\n",
    "    t_z[n] = (i_prob_Illustris(pow(10, i), bhmass[n], q, f_min )[2])\n",
    "    t_col[n] = (i_prob_Illustris(pow(10, i), bhmass[n], q, f_min )[4])\n",
    "    d_fric[n] = (i_prob_Illustris(pow(10, i), bhmass[n], q, f_min )[6])\n",
    "    s_hard[n] = (i_prob_Illustris(pow(10, i), bhmass[n], q, f_min )[7])\n",
    "\n",
    "    n+=1"
   ]
  },
  {
   "cell_type": "code",
   "execution_count": null,
   "metadata": {},
   "outputs": [],
   "source": []
  },
  {
   "cell_type": "code",
   "execution_count": 15,
   "metadata": {},
   "outputs": [
    {
     "data": {
      "text/plain": [
       "Text(0.5,1,'Probability')"
      ]
     },
     "execution_count": 15,
     "metadata": {},
     "output_type": "execute_result"
    },
    {
     "data": {
      "image/png": "[encoded data removed]",
      "text/plain": [
       "<Figure size 244.354x151.019 with 1 Axes>"
      ]
     },
     "metadata": {
      "image/png": {
       "height": 168,
       "width": 248
      }
     },
     "output_type": "display_data"
    }
   ],
   "source": [
    "plt.loglog(bhmass, prob, label= \"kh13\")\n",
    "\n",
    "#style\n",
    "#plt.xlim(min(log10(bhmass)), max(log10(bhmass)))\n",
    "plt.xlabel(\"$log_{10}$ Mbh\")\n",
    "plt.ylabel(\"$log_{10}$ Probability\")\n",
    "plt.title(\"Probability\")\n"
   ]
  },
  {
   "cell_type": "code",
   "execution_count": 45,
   "metadata": {},
   "outputs": [
    {
     "data": {
      "text/plain": [
       "Text(0.5,1,'Time to Coalesce')"
      ]
     },
     "execution_count": 45,
     "metadata": {},
     "output_type": "execute_result"
    },
    {
     "data": {
      "image/png": "[encoded data removed]",
      "text/plain": [
       "<Figure size 244.354x151.019 with 1 Axes>"
      ]
     },
     "metadata": {
      "image/png": {
       "height": 168,
       "width": 235
      }
     },
     "output_type": "display_data"
    }
   ],
   "source": [
    "plt.scatter(log10(bhmass), log10(t_col), label= \"kh13\", facecolors='none', edgecolors='r', marker = \"*\")\n",
    "\n",
    "#style\n",
    "\n",
    "plt.xlabel(\"$log_{10}$ Mbh\")\n",
    "plt.ylabel(\"$log_{10}$ Time to Coalsce\")\n",
    "plt.title(\"Time to Coalesce\")"
   ]
  },
  {
   "cell_type": "code",
   "execution_count": 46,
   "metadata": {},
   "outputs": [
    {
     "data": {
      "text/plain": [
       "Text(0.5,1,'dyanamical fric')"
      ]
     },
     "execution_count": 46,
     "metadata": {},
     "output_type": "execute_result"
    },
    {
     "data": {
      "image/png": "[encoded data removed]",
      "text/plain": [
       "<Figure size 244.354x151.019 with 1 Axes>"
      ]
     },
     "metadata": {
      "image/png": {
       "height": 168,
       "width": 243
      }
     },
     "output_type": "display_data"
    }
   ],
   "source": [
    "plt.scatter(log10(bhmass),log10(d_fric), label= \"kh13\", facecolors='none', edgecolors='r', marker = \"*\")\n",
    "\n",
    "#style\n",
    "\n",
    "plt.xlabel(\"$log_{10}$ Mbh\")\n",
    "plt.ylabel(\"$log_{10}$ dyanmical freq\")\n",
    "plt.title(\"dyanamical fric\")"
   ]
  },
  {
   "cell_type": "code",
   "execution_count": 47,
   "metadata": {},
   "outputs": [
    {
     "data": {
      "text/plain": [
       "Text(0.5,1,'lifetime')"
      ]
     },
     "execution_count": 47,
     "metadata": {},
     "output_type": "execute_result"
    },
    {
     "data": {
      "image/png": "[encoded data removed]",
      "text/plain": [
       "<Figure size 244.354x151.019 with 1 Axes>"
      ]
     },
     "metadata": {
      "image/png": {
       "height": 168,
       "width": 241
      }
     },
     "output_type": "display_data"
    }
   ],
   "source": [
    "plt.scatter(log10(bhmass),log10(t_z), label= \"kh13\", facecolors='none', edgecolors='r', marker = \"*\")\n",
    "\n",
    "#style\n",
    "\n",
    "plt.xlabel(\"$log_{10}$ Mbh\")\n",
    "plt.ylabel(\"$log_{10}$ lifetime\")\n",
    "plt.title(\"lifetime\")"
   ]
  },
  {
   "cell_type": "code",
   "execution_count": 48,
   "metadata": {},
   "outputs": [
    {
     "name": "stdout",
     "output_type": "stream",
     "text": [
      "1.0212348691264088\n",
      "[9.05459795]\n"
     ]
    },
    {
     "data": {
      "text/plain": [
       "Text(0.5,1,'stellar hardening')"
      ]
     },
     "execution_count": 48,
     "metadata": {},
     "output_type": "execute_result"
    },
    {
     "data": {
      "image/png": "[encoded data removed]",
      "text/plain": [
       "<Figure size 244.354x151.019 with 1 Axes>"
      ]
     },
     "metadata": {
      "image/png": {
       "height": 168,
       "width": 237
      }
     },
     "output_type": "display_data"
    }
   ],
   "source": [
    "plt.scatter(log10(bhmass), log10(s_hard), label= \"kh13\", facecolors='none', edgecolors='r', marker = \"*\")\n",
    "\n",
    "print(log10(min(bhmass)))\n",
    "\n",
    "print(log10(bhmass[[np.where(s_hard == min(s_hard))][0][0]]))\n",
    "\n",
    "\n",
    "#style\n",
    "\n",
    "plt.xlabel(\"$log_{10}$ Mbh\")\n",
    "plt.ylabel(\"$log_{10}$ stellar harding\")\n",
    "plt.title(\"stellar hardening\")"
   ]
  },
  {
   "cell_type": "code",
   "execution_count": null,
   "metadata": {},
   "outputs": [],
   "source": []
  },
  {
   "cell_type": "code",
   "execution_count": null,
   "metadata": {},
   "outputs": [],
   "source": []
  },
  {
   "cell_type": "code",
   "execution_count": null,
   "metadata": {},
   "outputs": [],
   "source": []
  }
 ],
 "metadata": {
  "kernelspec": {
   "display_name": "Python 3",
   "language": "python",
   "name": "python3"
  },
  "language_info": {
   "codemirror_mode": {
    "name": "ipython",
    "version": 3
   },
   "file_extension": ".py",
   "mimetype": "text/x-python",
   "name": "python",
   "nbconvert_exporter": "python",
   "pygments_lexer": "ipython3",
   "version": "3.6.5"
  }
 },
 "nbformat": 4,
 "nbformat_minor": 2
}
