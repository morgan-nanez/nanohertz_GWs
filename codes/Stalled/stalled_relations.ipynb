{
 "cells": [
  {
   "cell_type": "code",
   "execution_count": 1,
   "metadata": {},
   "outputs": [],
   "source": [
    "from __future__ import division\n",
    "import os\n",
    "from IPython.display import display, Math, Latex\n",
    "import math\n",
    "from math import sqrt, cos, sin, pi\n",
    "import numpy as np\n",
    "import statsmodels.api as sm\n",
    "from scipy.interpolate import interp1d\n",
    "import scipy.integrate\n",
    "import matplotlib.pyplot as plt\n",
    "import matplotlib.mlab as ml\n",
    "from matplotlib.ticker import FormatStrFormatter, LinearLocator, NullFormatter, NullLocator, MultipleLocator\n",
    "import matplotlib.ticker\n",
    "import matplotlib.colors\n",
    "from matplotlib.font_manager import FontProperties\n",
    "from matplotlib import rc, text\n",
    "import healpy as hp\n",
    "#import plot_mpI2\n",
    "from astropy import units as u\n",
    "from astropy.coordinates import SkyCoord\n",
    "from astropy.io import fits\n",
    "from scipy.stats import norm\n",
    "import matplotlib.mlab as mlab\n",
    "\n",
    "\n",
    "%matplotlib inline\n",
    "%config InlineBackend.figure_format = \"retina\""
   ]
  },
  {
   "cell_type": "code",
   "execution_count": 3,
   "metadata": {},
   "outputs": [],
   "source": [
    "# physical constants for natural units c = G = 1\n",
    "c=2.99792458*(10**8)\n",
    "G=6.67428*(10**(-11))\n",
    "s_mass=G*(1.98892*10**(30))/(c**3)\n",
    "\n",
    "# common function shortcuts\n",
    "log10 = np.log10\n",
    "pi = np.pi\n",
    "sqrt = np.sqrt"
   ]
  },
  {
   "cell_type": "code",
   "execution_count": 4,
   "metadata": {},
   "outputs": [],
   "source": [
    "def hist_weight(lst):\n",
    "    return np.ones_like(lst)/len(lst)\n",
    "\n",
    "def auto_bin(bin_size, min_edge, max_edge):\n",
    "    # for nice looking bins\n",
    "    N = (max_edge-min_edge)/bin_size; Nplus1 = N + 1\n",
    "    bin_list = np.linspace(min_edge, max_edge, Nplus1)\n",
    "    return bin_list"
   ]
  },
  {
   "cell_type": "code",
   "execution_count": 5,
   "metadata": {},
   "outputs": [],
   "source": [
    "places = [\"../../rusty_data/KH13_Stalled/29_dex/\", \\\n",
    "          \"../../../rusty_data/KH13_Stalled/435_dex/\", \\\n",
    "          \"../../rusty_data/KH13_Stalled/58_dex/\", \\\n",
    "         \"../../rusty_data/KH13_Stalled/87_dex/\", \\\n",
    "         \"../../rusty_data/MM13_Stalled/34_dex/\", \\\n",
    "         \"../../rusty_data/MM13_Stalled/51_dex/\", \\\n",
    "         \"../../rusty_data/MM13_Stalled/68_dex/\", \\\n",
    "         \"../../rusty_data/MM13_Stalled/102_dex/\", \\\n",
    "         \"../../rusty_data/HR04_Stalled/30_dex/\"]"
   ]
  },
  {
   "cell_type": "code",
   "execution_count": 6,
   "metadata": {},
   "outputs": [],
   "source": [
    "stall_Mc_1 = []\n",
    "stall_Mbul_1 = []\n",
    "temp_file = []\n",
    "for i in os.listdir(\"../../rusty_data/KH13_Stalled/29_dex/\"):\n",
    "    if i.endswith('.txt'):\n",
    "        temp_file.append(i)\n",
    "            \n",
    "for jj in range(len(temp_file)):\n",
    "    filename = temp_file[jj]\n",
    "\n",
    "    sim_sky = np.genfromtxt(\"../../rusty_data/KH13_Stalled/29_dex/\" + str(filename))\n",
    "    if (len(sim_sky) != 21):\n",
    "        stall_Mc_1 = np.hstack((stall_Mc_1 , (sim_sky[:,4])))\n",
    "        stall_Mbul_1 = np.hstack((stall_Mbul_1 ,(sim_sky[:,20])))\n",
    "    else:\n",
    "        stall_Mc_1 = np.hstack((stall_Mc_1 , (sim_sky[4])))\n",
    "        stall_Mbul_1 = np.hstack((stall_Mbul_1 ,(sim_sky[20])))"
   ]
  },
  {
   "cell_type": "code",
   "execution_count": null,
   "metadata": {},
   "outputs": [],
   "source": [
    "\"\"\"stall_Mc_2 = []\n",
    "stall_Mbul_2 = []\n",
    "temp_file = []\n",
    "for i in os.listdir(\"../../../rusty_data/KH13_Stalled/435_dex/\"):\n",
    "    if i.endswith('.txt'):\n",
    "        temp_file.append(i)\n",
    "            \n",
    "for jj in range(len(temp_file)):\n",
    "    filename = temp_file[jj]\n",
    "\n",
    "    sim_sky = np.genfromtxt(\"../../../rusty_data/KH13_Stalled/435_dex/\" + str(filename))\n",
    "    if (len(sim_sky) != 21):\n",
    "        stall_Mc_2.append(sim_sky[:,5])\n",
    "        stall_Mbul_2.append(sim_sky[:,20])\n",
    "    else:\n",
    "        stall_Mc_2.append(sim_sky[5])\n",
    "        stall_Mbul_2.append(sim_sky[20])\"\"\""
   ]
  },
  {
   "cell_type": "code",
   "execution_count": 7,
   "metadata": {},
   "outputs": [],
   "source": [
    "stall_Mc_3 = []\n",
    "stall_Mbul_3 = []\n",
    "temp_file = []\n",
    "for i in os.listdir(\"../../rusty_data/MM13_Stalled/34_dex/\"):\n",
    "    if i.endswith('.txt'):\n",
    "        temp_file.append(i)\n",
    "            \n",
    "for jj in range(len(temp_file)):\n",
    "    filename = temp_file[jj]\n",
    "\n",
    "    sim_sky = np.genfromtxt(\"../../rusty_data/MM13_Stalled/34_dex/\" + str(filename))\n",
    "    if (len(sim_sky) != 21):\n",
    "        stall_Mc_3 = np.hstack((stall_Mc_3, (sim_sky[:,4])))\n",
    "        stall_Mbul_3 = np.hstack((stall_Mbul_3, (sim_sky[:,20])))\n",
    "    else:\n",
    "        stall_Mc_3 = np.hstack((stall_Mc_3, (sim_sky[4])))\n",
    "        stall_Mbul_3 = np.hstack((stall_Mbul_3, (sim_sky[20])))"
   ]
  },
  {
   "cell_type": "code",
   "execution_count": 8,
   "metadata": {},
   "outputs": [],
   "source": [
    "stall_Mc_4 = []\n",
    "stall_Mbul_4 = []\n",
    "temp_file = []\n",
    "for i in os.listdir(\"../../rusty_data/HR04_Stalled/30_dex/\"):\n",
    "    if i.endswith('.txt'):\n",
    "        temp_file.append(i)\n",
    "            \n",
    "for jj in range(len(temp_file)):\n",
    "    filename = temp_file[jj]\n",
    "\n",
    "    sim_sky = np.genfromtxt(\"../../rusty_data/HR04_Stalled/30_dex/\" + str(filename))\n",
    "    if (len(sim_sky) != 21):\n",
    "        stall_Mc_4 = np.hstack((stall_Mc_4, (sim_sky[:,4])))\n",
    "        stall_Mbul_4 = np.hstack((stall_Mbul_4, (sim_sky[:,20])))\n",
    "    else:\n",
    "        stall_Mc_4 = np.hstack((stall_Mc_4, (sim_sky[4])))\n",
    "        stall_Mbul_4 = np.hstack((stall_Mbul_4, (sim_sky[20])))"
   ]
  },
  {
   "cell_type": "code",
   "execution_count": 9,
   "metadata": {},
   "outputs": [
    {
     "name": "stderr",
     "output_type": "stream",
     "text": [
      "/anaconda3/lib/python3.6/site-packages/ipykernel_launcher.py:3: RuntimeWarning: divide by zero encountered in log10\n",
      "  This is separate from the ipykernel package so we can avoid doing imports until\n",
      "/anaconda3/lib/python3.6/site-packages/ipykernel_launcher.py:3: RuntimeWarning: invalid value encountered in log10\n",
      "  This is separate from the ipykernel package so we can avoid doing imports until\n"
     ]
    }
   ],
   "source": [
    "m_1 = np.log10(stall_Mbul_1)\n",
    "m_3 = np.log10(stall_Mbul_3)\n",
    "m_4 = np.log10(stall_Mbul_4)"
   ]
  },
  {
   "cell_type": "code",
   "execution_count": 10,
   "metadata": {},
   "outputs": [
    {
     "name": "stderr",
     "output_type": "stream",
     "text": [
      "/anaconda3/lib/python3.6/site-packages/ipykernel_launcher.py:3: RuntimeWarning: divide by zero encountered in log10\n",
      "  This is separate from the ipykernel package so we can avoid doing imports until\n",
      "/anaconda3/lib/python3.6/site-packages/ipykernel_launcher.py:3: RuntimeWarning: invalid value encountered in log10\n",
      "  This is separate from the ipykernel package so we can avoid doing imports until\n"
     ]
    }
   ],
   "source": [
    "c_1 = np.log10(stall_Mc_1)\n",
    "c_3 = np.log10(stall_Mc_3)\n",
    "c_4 = np.log10(stall_Mc_4)"
   ]
  },
  {
   "cell_type": "code",
   "execution_count": 11,
   "metadata": {},
   "outputs": [
    {
     "data": {
      "text/plain": [
       "2702133"
      ]
     },
     "execution_count": 11,
     "metadata": {},
     "output_type": "execute_result"
    }
   ],
   "source": [
    "len(m_4)"
   ]
  },
  {
   "cell_type": "code",
   "execution_count": 14,
   "metadata": {},
   "outputs": [
    {
     "data": {
      "text/plain": [
       "<matplotlib.legend.Legend at 0x1c0d7961d0>"
      ]
     },
     "execution_count": 14,
     "metadata": {},
     "output_type": "execute_result"
    },
    {
     "data": {
      "image/png": "[encoded data removed]",
      "text/plain": [
       "<Figure size 432x288 with 1 Axes>"
      ]
     },
     "metadata": {
      "image/png": {
       "height": 291,
       "width": 424
      }
     },
     "output_type": "display_data"
    }
   ],
   "source": [
    "plt.scatter(m_1, c_1, edgecolors='none', color='blue', alpha=0.8, s=20, rasterized=True, label = \"KH13\") #skies\n",
    "plt.scatter(m_3, c_3, edgecolors='none', color='red', alpha=0.8, s=20, rasterized=True, label = \"MM13\") #skies\n",
    "plt.scatter(m_4, c_4, edgecolors='none', color='green', alpha=0.8, s=20, rasterized=True, label = \"HR04\") #skies\n",
    "\n",
    "\n",
    "plt.xlabel(\"log10 Bulge Mass\")\n",
    "plt.ylabel(\"log10 Chirp Mass\")\n",
    "plt.xlim(9, 15)\n",
    "plt.ylim(4, 12)\n",
    "plt.tight_layout() \n",
    "plt.title(\"Stalled Binary Relation\")\n",
    "plt.legend(frameon=False)\n",
    "#plt.savefig(\"plots_stalled/relation_chirp_bul_01\")\n",
    "\n",
    "\n"
   ]
  },
  {
   "cell_type": "code",
   "execution_count": null,
   "metadata": {},
   "outputs": [],
   "source": [
    "print(len(c_3))\n",
    "\n",
    "bin_list = auto_bin(.07,8.3,10.3)\n",
    "w_1 = hist_weight(c_1)\n",
    "w_3 = hist_weight(c_3)\n",
    "w_4 = hist_weight(c_4)\n",
    "\n",
    "plt.hist(c_1 ,bin_list, align='left',  alpha=0.8, edgecolor = 'black', weights = w_1, label = \"KH13\")\n",
    "plt.hist(c_3 ,bin_list, align='left',  alpha=0.8, edgecolor = 'black', weights = w_3, label = \"MM13\")\n",
    "plt.hist(c_4 ,bin_list, align='left',  alpha=0.8, edgecolor = 'black', weights = w_4, label = \"HR04\")\n",
    "\n",
    "ax.legend(frameon=False)\n",
    "\n",
    "\n",
    "plt.xlabel(r\"Log Chirp Mass $\\mathcal{M}_c$ $[M_\\odot]$, 25 year data\")\n",
    "plt.ylabel(\"Probability\")\n",
    "#plt.legend(frameon=False)\n",
    "plt.tight_layout()\n",
    "#plt.savefig(\"plots_stalled/chirp_dist.pdf\")\n",
    "\n",
    "\n"
   ]
  },
  {
   "cell_type": "code",
   "execution_count": null,
   "metadata": {},
   "outputs": [],
   "source": [
    "\"\"\"time scales histogram\n",
    "- stellar hardening\n",
    "- dynamical friction\n",
    "- why those numbes are so big for m87\"\"\""
   ]
  }
 ],
 "metadata": {
  "kernelspec": {
   "display_name": "Python 3",
   "language": "python",
   "name": "python3"
  },
  "language_info": {
   "codemirror_mode": {
    "name": "ipython",
    "version": 3
   },
   "file_extension": ".py",
   "mimetype": "text/x-python",
   "name": "python",
   "nbconvert_exporter": "python",
   "pygments_lexer": "ipython3",
   "version": "3.6.5"
  }
 },
 "nbformat": 4,
 "nbformat_minor": 2
}
