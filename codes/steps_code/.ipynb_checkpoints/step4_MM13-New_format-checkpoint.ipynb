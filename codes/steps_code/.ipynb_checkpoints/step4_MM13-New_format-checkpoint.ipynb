{
 "cells": [
  {
   "cell_type": "code",
   "execution_count": 1,
   "metadata": {},
   "outputs": [],
   "source": [
    "#!/usr/bin/env python\n",
    "\"\"\"choose_skies.ipynb: a notebook to create and examine GW backgrounds \"\"\"\n",
    "\n",
    "__author__ = \"Chiara M. F. Mingarelli\"\n",
    "__copyright__ = \"Copyright 2016, GWASAP project\"\n",
    "__credits__ = [\"Chiara Mingarelli\", \"Stephen Taylor\"]\n",
    "__license__ = \"GPL\"\n",
    "__version__ = \"0.0.1\"\n",
    "__maintainer__ = \"Chiara Mingarelli\"\n",
    "__email__ = \"mingarelli@gmail.com\"\n"
   ]
  },
  {
   "cell_type": "code",
   "execution_count": 2,
   "metadata": {},
   "outputs": [],
   "source": [
    "#necessary imports\n",
    "from __future__ import division\n",
    "from IPython.display import display, Math, Latex\n",
    "import math\n",
    "from math import sqrt, cos, sin, pi\n",
    "import numpy as np\n",
    "import matplotlib.pyplot as plt\n",
    "import matplotlib.mlab as ml\n",
    "from matplotlib.ticker import FormatStrFormatter, LinearLocator, NullFormatter, NullLocator, MultipleLocator\n",
    "import matplotlib.ticker\n",
    "import matplotlib.colors\n",
    "from matplotlib.font_manager import FontProperties\n",
    "from matplotlib import rc, text\n",
    "import healpy as hp\n",
    "import plot_mpl2 as plot\n",
    "from astropy.io import fits\n",
    "\n",
    "import AnisCoefficients_pix as cbylm_pix \n",
    "\n",
    "%matplotlib inline\n",
    "%config InlineBackend.figure_format = \"retina\""
   ]
  },
  {
   "cell_type": "code",
   "execution_count": null,
   "metadata": {},
   "outputs": [],
   "source": [
    "\"\"\"\n",
    "In Step 4:\n",
    "    - Count the number of detected skies in all the realiztaions\n",
    "    - Plots the loudest skies\n",
    "    - Plots final skies\n",
    "\"\"\""
   ]
  },
  {
   "cell_type": "code",
   "execution_count": 3,
   "metadata": {},
   "outputs": [],
   "source": [
    "# plotting preamble (credit J. Ellis)\n",
    "\n",
    "fig_width_pt = 245.27 #513.17           # Get this from LaTeX using \\showthe\\columnwidth\n",
    "inches_per_pt = 1.0/72.27               # Convert pt to inches\n",
    "golden_mean = (np.sqrt(5)-1.0)/2.0      # Aesthetic ratio\n",
    "fig_width = fig_width_pt*inches_per_pt  # width in inches\n",
    "fig_height =fig_width*golden_mean       # height in inches\n",
    "fig_size = [fig_width,fig_height]\n",
    "\n",
    "params = {'backend': 'pdf',\n",
    "        'axes.labelsize': 7,\n",
    "        'lines.markersize': 2,\n",
    "        'font.size': 7,\n",
    "        'xtick.major.size':6,\n",
    "        'xtick.minor.size':3,  \n",
    "        'ytick.major.size':6,\n",
    "        'ytick.minor.size':3, \n",
    "        'xtick.major.width':0.5,\n",
    "        'ytick.major.width':0.5,\n",
    "        'xtick.minor.width':0.5,\n",
    "        'ytick.minor.width':0.5,\n",
    "        'lines.markeredgewidth':1,\n",
    "        'axes.linewidth':1.0,\n",
    "        'legend.fontsize': 7,\n",
    "        'xtick.labelsize': 7,\n",
    "        'ytick.labelsize': 7,\n",
    "        'savefig.dpi':200,\n",
    "        'path.simplify':True,\n",
    "        'font.family': 'serif',\n",
    "        'font.serif':'Times',\n",
    "        'text.latex.preamble': [r'\\usepackage{amsmath}'],\n",
    "        'text.usetex':True,\n",
    "        #'axes.color_cycle': ['b', 'lime', 'r', 'purple', 'g', 'c', 'm', 'orange', 'darkblue', \\\n",
    "        #                        'darkcyan', 'y','orangered','chartreuse','brown','deeppink','lightgreen', 'k'],\n",
    "        #'font.serif':cm,\n",
    "        'figure.figsize': fig_size}\n",
    "plt.rcParams.update(params)"
   ]
  },
  {
   "cell_type": "code",
   "execution_count": null,
   "metadata": {},
   "outputs": [],
   "source": [
    "\"\"\"NUMBER OF DETECTED SKIES PER RELATION\"\"\"\n",
    "#0.34 dex = 189/116,150 = 0.0016/relatization = 0.16%\n",
    "#0.51 dex = 43/10,000 = 0.43%\n",
    "#0.68 dex = 96/10,000 = 0.96%\n",
    "#1.02 dex = 258/10,000 = 2.58%"
   ]
  },
  {
   "cell_type": "code",
   "execution_count": 4,
   "metadata": {},
   "outputs": [],
   "source": [
    "freq_choice = np.loadtxt(\"../gw_freqs1.dat\") #available GW frequencies"
   ]
  },
  {
   "cell_type": "code",
   "execution_count": 123,
   "metadata": {},
   "outputs": [
    {
     "name": "stdout",
     "output_type": "stream",
     "text": [
      "10\n"
     ]
    }
   ],
   "source": [
    "#gets data from the final skies (generated in step 3)\n",
    "final_file = np.genfromtxt(\"../../detectedSkies/final_skies/mm13_mbul_final_test01.txt\")\n",
    "final_galname = np.genfromtxt(\"../../detectedSkies/final_skies/mm13_mbul_final_test01.txt\", usecols = 2, dtype='str')\n",
    "final_filename = np.genfromtxt(\"../../detectedSkies/final_skies/mm13_mbul_final_test01.txt\", usecols = -1, dtype='str')\n",
    "final_size = len(final_file)\n",
    "final_RA = final_file[:,0]/180*pi\n",
    "final_DEC = final_file[:,1]/180*pi\n",
    "final_strain = final_file[:,8]\n",
    "\n",
    "print(final_size)"
   ]
  },
  {
   "cell_type": "code",
   "execution_count": 124,
   "metadata": {},
   "outputs": [
    {
     "data": {
      "text/plain": [
       "array([5.3411613 , 5.3411613 , 5.3411613 , 3.25242106, 0.88442815,\n",
       "       5.3411613 , 5.3411613 , 5.3411613 , 5.3411613 , 5.3411613 ])"
      ]
     },
     "execution_count": 124,
     "metadata": {},
     "output_type": "execute_result"
    }
   ],
   "source": [
    "final_RA"
   ]
  },
  {
   "cell_type": "code",
   "execution_count": 130,
   "metadata": {},
   "outputs": [
    {
     "name": "stdout",
     "output_type": "stream",
     "text": [
      "4\n",
      "NGC1316\n",
      "1140\n"
     ]
    }
   ],
   "source": [
    "#finds the loudest source from all the detectable sources from final skies\n",
    "loudest_index = int(final_strain.argmax())\n",
    "loudest_galname = final_galname[loudest_index]\n",
    "loudest_filename = int(final_filename[loudest_index])\n",
    "\n",
    "print(loudest_index)\n",
    "print(loudest_galname)\n",
    "print(loudest_filename)"
   ]
  },
  {
   "cell_type": "code",
   "execution_count": 142,
   "metadata": {},
   "outputs": [],
   "source": [
    "data_filename = '../../detectedSkies/final_skies/all_final_sky_data_new06.txt'\n",
    "\n",
    "\n",
    "count = 0 #variable used to count number of sources per realization\n",
    "file_s = [] #numbers of sources per relaization\n",
    "RA_tot_all = []\n",
    "DEC_tot_all = []\n",
    "freq_tot_all = []\n",
    "strain_tot_all = []\n",
    "\n",
    "\n",
    "#temps used to help seperate data by relalization\n",
    "temp_RA = []\n",
    "temp_DEC = []\n",
    "temp_freq = []\n",
    "temp_strain = []\n",
    "temp_file_s = []\n",
    "\n",
    "with open(data_filename) as f:\n",
    "    \n",
    "    temp_RA = []\n",
    "    temp_DEC = []\n",
    "    temp_freq = []\n",
    "    temp_strain = []\n",
    "    \n",
    "    for line in f:\n",
    "        if len(line) < 50:\n",
    "            \n",
    "            #add the collected data to the real lists\n",
    "            \n",
    "            file_s.append(count)\n",
    "            RA_tot_all.append(temp_RA) #phi, add pi to this for healpix maps\n",
    "            DEC_tot_all.append(temp_DEC) #theta\n",
    "            freq_tot_all.append(temp_freq)\n",
    "            strain_tot_all.append(temp_strain)\n",
    "\n",
    "            \n",
    "            #reset the temp lists\n",
    "            \n",
    "            temp_RA = []\n",
    "            temp_DEC = []\n",
    "            temp_freq = []\n",
    "            temp_strain = []\n",
    "            count = 0\n",
    "            \n",
    "        else:\n",
    "            \n",
    "            #data is split into its corresponding lists\n",
    "            \n",
    "            splitted = line.split(\" \") \n",
    "    \n",
    "            temp_RA.append(float(splitted[0])) #phi, add pi to this for healpix maps\n",
    "            temp_DEC.append(float(splitted[1])) #theta\n",
    "            temp_freq.append(float(splitted[7]))\n",
    "            temp_strain.append(float(splitted[8]))\n",
    "            count+=1\n",
    "            \n",
    "            "
   ]
  },
  {
   "cell_type": "code",
   "execution_count": 148,
   "metadata": {},
   "outputs": [
    {
     "data": {
      "text/plain": [
       "[0.8758585785283144,\n",
       " 0.027296949501191315,\n",
       " 1.4709111337032612,\n",
       " 2.701368256359263,\n",
       " 3.22873694314187,\n",
       " 1.310236122764663,\n",
       " 3.5668421258382117,\n",
       " 0.4759338337263337,\n",
       " 3.7492988458416985,\n",
       " 2.458313704726533,\n",
       " 3.2976425420106064,\n",
       " 3.402327390545226,\n",
       " 0.6304652856979116,\n",
       " 2.486169159588363,\n",
       " 0.1964891671895216,\n",
       " 0.8136550439872365,\n",
       " 1.956007946002565,\n",
       " 5.58362243639522,\n",
       " 5.540774603258758,\n",
       " 3.085270878627936,\n",
       " 4.061974581336483,\n",
       " 0.8122936871706808,\n",
       " 4.3843718007648755,\n",
       " 4.386483649159788,\n",
       " 5.550024848294329,\n",
       " 5.5724174225974155,\n",
       " 2.1933029111037143,\n",
       " 3.96744754904847,\n",
       " 4.411232417953069,\n",
       " 5.413383021155692,\n",
       " 0.41950733900935705,\n",
       " 2.3852193156530106,\n",
       " 0.3259402378099411,\n",
       " 4.2970878848726395,\n",
       " 2.5439744644144144,\n",
       " 5.776463865448072,\n",
       " 5.7725368746310854,\n",
       " 1.4492166911009716,\n",
       " 0.5725901677017797,\n",
       " 3.5291779205801737,\n",
       " 5.024104784790877,\n",
       " 3.742998207241999,\n",
       " 5.088751780284747,\n",
       " 6.128915654595808,\n",
       " 0.9175894009434988,\n",
       " 5.172300691577716,\n",
       " 3.8660439195075997,\n",
       " 0.7341203899738549,\n",
       " 4.436522238814466,\n",
       " 3.842481974605676,\n",
       " 3.590683323420454,\n",
       " 0.2369633525432701,\n",
       " 1.5551581766970275,\n",
       " 6.016673530400053,\n",
       " 1.2126198577006202,\n",
       " 2.458296251434013,\n",
       " 5.599906358316327,\n",
       " 1.5743567984689648,\n",
       " 0.8628907821859965,\n",
       " 3.364837718212388,\n",
       " 4.244186955244691,\n",
       " 3.790174456923406,\n",
       " 5.70946067546401,\n",
       " 4.272531102297079,\n",
       " 0.5161985795698429,\n",
       " 1.0264979462679449,\n",
       " 5.536289107081133,\n",
       " 3.3864448943520777,\n",
       " 0.91722288180058,\n",
       " 2.177141162230247,\n",
       " 0.390273074038452,\n",
       " 5.5807077365443885,\n",
       " 2.6747694385588696,\n",
       " 3.3475065987400843,\n",
       " 4.534505023021428,\n",
       " 5.787267453517917,\n",
       " 5.341161296708167,\n",
       " 2.2521554134809625,\n",
       " 1.9539484574852117,\n",
       " 0.19345229429105149,\n",
       " 3.6859783005793445,\n",
       " 3.954025967100634,\n",
       " 3.030729339503113,\n",
       " 2.209761365950021,\n",
       " 3.062180172624051,\n",
       " 0.07489207820307668,\n",
       " 2.9159739411844865,\n",
       " 4.369187436272525,\n",
       " 3.6025690156265355,\n",
       " 2.7287699256155746,\n",
       " 1.0211921453418822,\n",
       " 3.077748509551841,\n",
       " 3.509769859297997]"
      ]
     },
     "execution_count": 148,
     "metadata": {},
     "output_type": "execute_result"
    }
   ],
   "source": [
    "RA_tot_all[9]"
   ]
  },
  {
   "cell_type": "code",
   "execution_count": 156,
   "metadata": {},
   "outputs": [],
   "source": [
    "# all data from a source sky, the sky with the loudest source \n",
    "\n",
    "RA_loudest_sky = RA_tot_all[loudest_index] #phi, add pi to this for healpix maps\n",
    "DEC_loudest_sky = DEC_tot_all[loudest_index] #theta\n",
    "freq_loudest_sky = freq_tot_all[loudest_index]\n",
    "strain_loudest_sky = strain_tot_all[loudest_index]\n",
    "file_size_loudest_sky = file_s[loudest_index] # number of galaxies in file\n",
    "\n",
    "#find index of loudest source overall\n",
    "source_index = strain_loudest_sky.index(max(strain_loudest_sky))\n",
    "source_RA = RA_loudest_sky[source_index]\n",
    "source_DEC = DEC_loudest_sky[source_index]\n",
    "\n",
    "#remove loudest from the source sky\n",
    "\n",
    "RA_loudest_noise = RA_loudest_sky #phi, add pi to this for healpix maps\n",
    "DEC_loudest_noise = DEC_loudest_sky #theta\n",
    "freq_loudest_noise = freq_loudest_sky\n",
    "strain_loudest_noise = strain_loudest_sky\n",
    "file_size_loudest_noise = file_size_loudest_sky # number of galaxies in file\n",
    "\n",
    "RA_loudest_noise.pop(source_index) #phi, add pi to this for healpix maps\n",
    "DEC_loudest_noise.pop(source_index) #theta\n",
    "freq_loudest_noise.pop(source_index)\n",
    "strain_loudest_noise.pop(source_index)\n",
    "file_size_loudest_noise = file_size_loudest_noise - 1"
   ]
  },
  {
   "cell_type": "code",
   "execution_count": 151,
   "metadata": {},
   "outputs": [],
   "source": [
    "# all data from a source sky, RANDOM\n",
    "\n",
    "rand_index = 5 #random num\n",
    "RA_random = RA_tot_all[rand_index] #phi, add pi to this for healpix maps\n",
    "DEC_random = DEC_tot_all[rand_index] #theta\n",
    "freq_random = freq_tot_all[rand_index]\n",
    "strain_random = strain_tot_all[rand_index]\n",
    "file_s_random = file_s[rand_index] # number of galaxies in file\n",
    "\n",
    "source_index_random = strain_random.index(max(strain_random))\n",
    "source_RA_random = RA_random[source_index]\n",
    "source_DEC_random = DEC_random[source_index]\n",
    "\n",
    "# remove loudest from the source sky\n",
    "\n",
    "RA_random_noise = RA_random #phi, add pi to this for healpix maps\n",
    "DEC_random_noise = DEC_random #theta\n",
    "freq_random_noise = freq_random\n",
    "strain_random_noise = strain_random\n",
    "file_size_random_noise = file_s_random # number of galaxies in file\n",
    "\n",
    "RA_random_noise.pop(source_index_random) #phi, add pi to this for healpix maps\n",
    "DEC_random_noise.pop(source_index_random) #theta\n",
    "freq_random_noise.pop(source_index_random)\n",
    "strain_random_noise.pop(source_index_random)\n",
    "file_size_random_noise = file_size_random_noise - 1\n"
   ]
  },
  {
   "cell_type": "code",
   "execution_count": 47,
   "metadata": {},
   "outputs": [],
   "source": [
    "# A map of the sky realization where the detection was made"
   ]
  },
  {
   "cell_type": "code",
   "execution_count": 158,
   "metadata": {},
   "outputs": [
    {
     "data": {
      "text/plain": [
       "<matplotlib.colorbar.Colorbar at 0x81f2672e8>"
      ]
     },
     "execution_count": 158,
     "metadata": {},
     "output_type": "execute_result"
    },
    {
     "name": "stderr",
     "output_type": "stream",
     "text": [
      "/anaconda3/lib/python3.6/site-packages/matplotlib/font_manager.py:1328: UserWarning: findfont: Font family ['serif'] not found. Falling back to DejaVu Sans\n",
      "  (prop.get_family(), self.defaultFamily[fontext]))\n"
     ]
    },
    {
     "data": {
      "image/png": "[encoded data removed]",
      "text/plain": [
       "<Figure size 244.354x151.019 with 2 Axes>"
      ]
     },
     "metadata": {
      "image/png": {
       "height": 150,
       "width": 209
      }
     },
     "output_type": "display_data"
    }
   ],
   "source": [
    "#PLOTS SKY FOR LOUDEST SKY ONLY\n",
    "ax = plt.subplot(111, projection='astro mollweide')\n",
    "\n",
    "# plot \"noise\" map (GW sky with 2 loud sources removed)\n",
    "#ax.grid()\n",
    "#plot.outline_text(ax)\n",
    "maxstrain = np.amax(strain_loudest_sky)\n",
    "colors = (strain_loudest_sky) # make colors vary with respect to strain\n",
    "area = pi * (5*strain_loudest_sky/maxstrain)**2  # adapt circles with 0 to 15 point radii\n",
    "\n",
    "# labels\n",
    "plt.suptitle(r'strain, $h$', y=0.3)\n",
    "sc = plt.scatter(RA_loudest_sky, DEC_loudest_sky, c = colors, cmap = 'viridis', alpha = 0.9, edgecolors='none',s=area)\n",
    "\n",
    "#comment out when doing random sky\n",
    "#plt.scatter(source_RA, source_DEC, color ='yellow', marker = '*', s=80,edgecolor = \"black\", lw=0.2)\n",
    "\n",
    "plt.colorbar(sc, orientation = 'horizontal')\n",
    "#plt.savefig(\"plots_mm13_34/step_4/\"+str(loudest_galname)+\" _mapWsource.pdf\")\n",
    "#plt.savefig(\"plots_mm13_34/step_4/random_mapWsource.pdf\")"
   ]
  },
  {
   "cell_type": "code",
   "execution_count": 165,
   "metadata": {},
   "outputs": [
    {
     "data": {
      "text/plain": [
       "<matplotlib.colorbar.Colorbar at 0x81fa2a390>"
      ]
     },
     "execution_count": 165,
     "metadata": {},
     "output_type": "execute_result"
    },
    {
     "name": "stderr",
     "output_type": "stream",
     "text": [
      "/anaconda3/lib/python3.6/site-packages/matplotlib/font_manager.py:1328: UserWarning: findfont: Font family ['serif'] not found. Falling back to DejaVu Sans\n",
      "  (prop.get_family(), self.defaultFamily[fontext]))\n"
     ]
    },
    {
     "data": {
      "image/png": "[encoded data removed]",
      "text/plain": [
       "<Figure size 244.354x151.019 with 2 Axes>"
      ]
     },
     "metadata": {
      "image/png": {
       "height": 150,
       "width": 209
      }
     },
     "output_type": "display_data"
    }
   ],
   "source": [
    "#PLOTS SKY FOR RANDOM SKY \n",
    "ax = plt.subplot(111, projection='astro mollweide')\n",
    "\n",
    "# plot \"noise\" map (GW sky with 2 loud sources removed)\n",
    "#ax.grid()\n",
    "#plot.outline_text(ax)\n",
    "maxstrain = np.amax(strain_random)\n",
    "colors = (strain_random) # make colors vary with respect to strain\n",
    "area = pi * (5*strain_random/maxstrain)**2  # adapt circles with 0 to 15 point radii\n",
    "\n",
    "# labels\n",
    "plt.suptitle(r'strain, $h$', y=0.3)\n",
    "sc = plt.scatter(RA_random, DEC_random, c = colors, cmap = 'viridis', alpha = 0.9, edgecolors='none',s=area)\n",
    "\n",
    "#comment out when doing random sky\n",
    "#plt.scatter(source_RA, source_DEC, color ='yellow', marker = '*', s=80,edgecolor = \"black\", lw=0.2)\n",
    "\n",
    "plt.colorbar(sc, orientation = 'horizontal')\n",
    "#plt.savefig(\"plots_mm13_34/step_4/\"+str(loudest_galname)+\" _mapWsource.pdf\")\n",
    "#plt.savefig(\"plots_mm13_34/step_4/random_mapWsource.pdf\")"
   ]
  },
  {
   "cell_type": "code",
   "execution_count": 159,
   "metadata": {},
   "outputs": [
    {
     "data": {
      "text/plain": [
       "<matplotlib.colorbar.Colorbar at 0x81f71c278>"
      ]
     },
     "execution_count": 159,
     "metadata": {},
     "output_type": "execute_result"
    },
    {
     "name": "stderr",
     "output_type": "stream",
     "text": [
      "/anaconda3/lib/python3.6/site-packages/matplotlib/font_manager.py:1328: UserWarning: findfont: Font family ['serif'] not found. Falling back to DejaVu Sans\n",
      "  (prop.get_family(), self.defaultFamily[fontext]))\n"
     ]
    },
    {
     "data": {
      "image/png": "[encoded data removed]",
      "text/plain": [
       "<Figure size 244.354x151.019 with 2 Axes>"
      ]
     },
     "metadata": {
      "image/png": {
       "height": 150,
       "width": 209
      }
     },
     "output_type": "display_data"
    }
   ],
   "source": [
    "#PLOTS SKY FOR ALL FINAL SKIES\n",
    "ax = plt.subplot(111, projection='astro mollweide')\n",
    "\n",
    "# plot \"noise\" map (GW sky with 2 loud sources removed)\n",
    "#ax.grid()\n",
    "#plot.outline_text(ax)\n",
    "#final_strain_log = np.log10(final_strain)\n",
    "maxstrain = np.amax(final_strain)\n",
    "colors = (final_strain) # make colors vary with respect to strain\n",
    "area = pi * (5*final_strain/maxstrain)**2  # adapt circles with 0 to 15 point radii\n",
    "\n",
    "# labels\n",
    "plt.suptitle(r'strain, $h$', y=0.3)\n",
    "sc = plt.scatter(final_RA, final_DEC, c = colors, cmap = 'viridis', alpha = 0.9, edgecolors='none',s=area)\n",
    "\n",
    "plt.colorbar(sc, orientation = 'horizontal')\n",
    "#plt.savefig(\"plots_mm13_34/step_4/all_final_map_34.pdf\")"
   ]
  },
  {
   "cell_type": "code",
   "execution_count": null,
   "metadata": {},
   "outputs": [],
   "source": [
    "# What does the GW background look like from this sky?"
   ]
  },
  {
   "cell_type": "code",
   "execution_count": 167,
   "metadata": {},
   "outputs": [],
   "source": [
    "def h2_c(hk, fk, deltaF):\n",
    "    \"\"\"\n",
    "    Eq 35 Babak et al. 2016; \n",
    "    Given a sky of strains at certain frequencies,\n",
    "    what is it in terms of a GW background?\n",
    "    returns h^2_c\n",
    "    \"\"\"\n",
    "    h2k = np.square(hk)\n",
    "    ans = h2k*fk/deltaF\n",
    "    return ans\n",
    "\n",
    "\n",
    "def pol2cart(lon, lat): \n",
    "    \"\"\" \n",
    "    Utility function to convert longitude,latitude on a unit sphere to \n",
    "    cartesian co-ordinates.\n",
    "\n",
    "    \"\"\" \n",
    "\n",
    "    x = np.cos(lat)*np.cos(lon) \n",
    "    y = np.cos(lat)*np.sin(lon) \n",
    "    z = np.sin(lat) \n",
    "\n",
    "    return np.array([x,y,z])\n",
    "\n",
    "\n",
    "def greedy_bin_sky(skypos, skycarts, weights=None):\n",
    "    \"\"\"\n",
    "\n",
    "    Greedy binning algorithm\n",
    "\n",
    "    \"\"\"\n",
    "\n",
    "    N = len(skycarts) \n",
    "    skycarts = np.array(skycarts)\n",
    "    bins = np.zeros(N)\n",
    "    ct = 0\n",
    "    for raSample, decSample in skypos: \n",
    "        sampcart = pol2cart(raSample, decSample) \n",
    "        dx = np.dot(skycarts, sampcart)\n",
    "        maxdx = np.argmax(dx)\n",
    "\n",
    "        if weights is not None:\n",
    "            bins[maxdx] += weights[ct]\n",
    "        else:\n",
    "            bins[maxdx] += 1\n",
    "\n",
    "        ct += 1\n",
    "\n",
    "    # fill in skymap\n",
    "    histIndices = np.argsort(bins)[::-1]    # in decreasing order\n",
    "    NSamples = len(skypos)\n",
    "\n",
    "    frac = 0.0\n",
    "    skymap = np.zeros(N)\n",
    "    for i in histIndices:\n",
    "        frac = float(bins[i]) # /float(NSamples) \n",
    "        skymap[i] = frac\n",
    "\n",
    "    return skymap\n",
    "\n",
    "\n",
    "def plotSkyMap(raSample, decSample, nside=64, contours=None, colorbar=True, \\\n",
    "              inj=None, weights=None, psrs=None):\n",
    "    \"\"\"\n",
    "\n",
    "    Plot Skymap of chain samples on Mollwiede projection.\n",
    "\n",
    "    @param raSample: Array of right ascension samples\n",
    "    @param decSample: Array of declination  samples\n",
    "    @param nside: Number of pixels across equator [default = 64]\n",
    "    @param contours: Confidence contours to draw eg. 68%, 95% etc\n",
    "                     By default this is set to none and no contours\n",
    "                     will be drawn.\n",
    "    @param colorbar: Boolean option to draw colorbar [default = True]\n",
    "    @param inj: list of injected values [ra, dec] in radians to plot\n",
    "                [default = None]\n",
    "    @param weights: sample weights [default = None]\n",
    "    @param psrs: Stacked array of pulsar sky locations [ra, dec] in radians\n",
    "                 [default=None] Will plot as white diamonds\n",
    "\n",
    "    \"\"\"\n",
    "\n",
    "    # clear figures\n",
    "    plt.clf()\n",
    "\n",
    "    # create stacked array of ra and dec\n",
    "    skypos = np.column_stack([raSample, decSample])\n",
    "\n",
    "    npix = hp.nside2npix(nside)    # number of pixels total\n",
    "\n",
    "\n",
    "    # initialize theta and phi map coordinantes\n",
    "    skycarts=[]\n",
    "    for ii in range(npix):\n",
    "        skycarts.append(np.array(hp.pix2vec(nside,ii)))\n",
    "\n",
    "    # get skymap values from greedy binning algorithm\n",
    "    skymap = greedy_bin_sky(skypos, skycarts, weights)\n",
    "\n",
    "    \"\"\"SMOOTHING\"\"\"\n",
    "    # smooth skymap (ON for sky maps/ OFF for cl)\n",
    "    skymap = hp.smoothing(skymap, 0.1) \n",
    "\n",
    "    # make plot\n",
    "    ax = plt.subplot(111, projection='astro mollweide')\n",
    "\n",
    "    # plot map\n",
    "    #ax.grid()\n",
    "    #plot.outline_text(ax)\n",
    "    plot.healpix_heatmap(skymap, cmap = 'viridis')\n",
    "\n",
    "    return skymap\n",
    "    # save skymap\n",
    "    #plt.savefig('skymap.pdf', bbox_inches='tight')"
   ]
  },
  {
   "cell_type": "code",
   "execution_count": 161,
   "metadata": {},
   "outputs": [],
   "source": [
    "T = 315360000*2.5 # 25 years in seconds, consistent with EPTA data\n",
    "dF = 1/T"
   ]
  },
  {
   "cell_type": "code",
   "execution_count": 166,
   "metadata": {},
   "outputs": [],
   "source": [
    "#use random\n",
    "hc_strain_loudest_noise = np.sqrt(h2_c(strain_loudest_noise, freq_loudest_noise, dF))\n",
    "hc_strain_loudest = np.sqrt(h2_c(strain_loudest_sky, freq_loudest_sky, dF))\n",
    "hc_strain_random = np.sqrt(h2_c(strain_random, freq_random, dF))\n",
    "hc_strain_random_noise = np.sqrt(h2_c(strain_random_noise, freq_random_noise, dF))\n",
    "\n",
    "\n"
   ]
  },
  {
   "cell_type": "code",
   "execution_count": 90,
   "metadata": {},
   "outputs": [
    {
     "data": {
      "text/plain": [
       "'TURN ON SMOOTHING'"
      ]
     },
     "execution_count": 90,
     "metadata": {},
     "output_type": "execute_result"
    }
   ],
   "source": [
    "\"\"\"TURN ON SMOOTHING\"\"\""
   ]
  },
  {
   "cell_type": "code",
   "execution_count": 168,
   "metadata": {},
   "outputs": [],
   "source": [
    "hc_strain_noiseLog = np.log10(hc_strain_noise)"
   ]
  },
  {
   "cell_type": "code",
   "execution_count": 169,
   "metadata": {},
   "outputs": [
    {
     "name": "stdout",
     "output_type": "stream",
     "text": [
      "Sigma is 145.987664 arcmin (0.042466 rad) \n",
      "-> fwhm is 343.774677 arcmin\n",
      "Sigma is 0.000000 arcmin (0.000000 rad) \n",
      "-> fwhm is 0.000000 arcmin\n"
     ]
    },
    {
     "data": {
      "text/plain": [
       "<matplotlib.colorbar.Colorbar at 0x8205b62b0>"
      ]
     },
     "execution_count": 169,
     "metadata": {},
     "output_type": "execute_result"
    },
    {
     "name": "stderr",
     "output_type": "stream",
     "text": [
      "/anaconda3/lib/python3.6/site-packages/matplotlib/font_manager.py:1328: UserWarning: findfont: Font family ['serif'] not found. Falling back to DejaVu Sans\n",
      "  (prop.get_family(), self.defaultFamily[fontext]))\n"
     ]
    },
    {
     "data": {
      "image/png": "[encoded data removed]",
      "text/plain": [
       "<Figure size 244.354x151.019 with 2 Axes>"
      ]
     },
     "metadata": {
      "image/png": {
       "height": 150,
       "width": 211
      }
     },
     "output_type": "display_data"
    }
   ],
   "source": [
    "#plot random sky all points with source\n",
    "hpskymap_all = plotSkyMap(RA_random, DEC_random, weights = hc_strain_random)\n",
    "plt.suptitle(r'characteristic strain, $h_c$', y=0.3)\n",
    "plt.colorbar(orientation='horizontal')\n",
    "#plt.savefig('plots_mm13_34/step_4/random_w_all.pdf', bbox_inches='tight')"
   ]
  },
  {
   "cell_type": "code",
   "execution_count": 170,
   "metadata": {},
   "outputs": [
    {
     "name": "stdout",
     "output_type": "stream",
     "text": [
      "Sigma is 145.987664 arcmin (0.042466 rad) \n",
      "-> fwhm is 343.774677 arcmin\n",
      "Sigma is 0.000000 arcmin (0.000000 rad) \n",
      "-> fwhm is 0.000000 arcmin\n"
     ]
    },
    {
     "data": {
      "text/plain": [
       "<matplotlib.colorbar.Colorbar at 0x820db2f60>"
      ]
     },
     "execution_count": 170,
     "metadata": {},
     "output_type": "execute_result"
    },
    {
     "name": "stderr",
     "output_type": "stream",
     "text": [
      "/anaconda3/lib/python3.6/site-packages/matplotlib/font_manager.py:1328: UserWarning: findfont: Font family ['serif'] not found. Falling back to DejaVu Sans\n",
      "  (prop.get_family(), self.defaultFamily[fontext]))\n"
     ]
    },
    {
     "data": {
      "image/png": "[encoded data removed]",
      "text/plain": [
       "<Figure size 244.354x151.019 with 2 Axes>"
      ]
     },
     "metadata": {
      "image/png": {
       "height": 150,
       "width": 212
      }
     },
     "output_type": "display_data"
    }
   ],
   "source": [
    "#TURN ON SMOITH\n",
    "#loudest sky with only noise, no source\n",
    "#DONT RUN FOR RANDOM EXAMPLE\n",
    "hpskymap_noise = plotSkyMap(RA_loudest_noise, DEC_loudest_noise, weights = hc_strain_loudest_noise)\n",
    "plt.suptitle(r'characteristic strain, $h_c$', y=0.3)\n",
    "plt.colorbar( orientation='horizontal')\n",
    "#plt.savefig('plots_mm13_34/step_4/'+str(loudest_galname)+'_only_noise.pdf', bbox_inches='tight')"
   ]
  },
  {
   "cell_type": "code",
   "execution_count": null,
   "metadata": {},
   "outputs": [],
   "source": [
    "\"\"\"TURN OFF SMOOTHING\"\"\""
   ]
  },
  {
   "cell_type": "code",
   "execution_count": 171,
   "metadata": {},
   "outputs": [
    {
     "name": "stdout",
     "output_type": "stream",
     "text": [
      "monopole: 2.61436e-19\n"
     ]
    },
    {
     "data": {
      "text/plain": [
       "array([-2.45635480e-19, -2.24354174e-19, -1.72985968e-19, ...,\n",
       "       -2.71939942e-19, -2.70285149e-19, -2.69978332e-19])"
      ]
     },
     "execution_count": 171,
     "metadata": {},
     "output_type": "execute_result"
    }
   ],
   "source": [
    "hp.pixelfunc.remove_monopole(hpskymap_all)"
   ]
  },
  {
   "cell_type": "code",
   "execution_count": 172,
   "metadata": {},
   "outputs": [
    {
     "name": "stdout",
     "output_type": "stream",
     "text": [
      "Sigma is 0.000000 arcmin (0.000000 rad) \n",
      "-> fwhm is 0.000000 arcmin\n",
      "Sigma is 0.000000 arcmin (0.000000 rad) \n",
      "-> fwhm is 0.000000 arcmin\n"
     ]
    }
   ],
   "source": [
    "# create alm map form healpix map\n",
    "alm_map_noise = hp.map2alm(hpskymap_noise,lmax=10)\n",
    "alm_map_all = hp.map2alm(hpskymap_all,lmax=10)\n",
    "\n",
    "# make a map in terms of \\ell from the alm map\n",
    "hpskymap_lmax_noise = hp.alm2map(alm_map_noise,nside=64)\n",
    "hpskymap_lmax_all = hp.alm2map(alm_map_all,nside=64)"
   ]
  },
  {
   "cell_type": "code",
   "execution_count": 173,
   "metadata": {},
   "outputs": [
    {
     "data": {
      "text/plain": [
       "array([2.00633444e-19, 1.57080753e-19, 1.44486068e-19, ...,\n",
       "       1.81128168e-19, 2.05284846e-19, 1.99604796e-19])"
      ]
     },
     "execution_count": 173,
     "metadata": {},
     "output_type": "execute_result"
    }
   ],
   "source": [
    "hpskymap_lmax_noise"
   ]
  },
  {
   "cell_type": "code",
   "execution_count": 175,
   "metadata": {},
   "outputs": [
    {
     "name": "stdout",
     "output_type": "stream",
     "text": [
      "Sigma is 145.987664 arcmin (0.042466 rad) \n",
      "-> fwhm is 343.774677 arcmin\n",
      "Sigma is 0.000000 arcmin (0.000000 rad) \n",
      "-> fwhm is 0.000000 arcmin\n"
     ]
    },
    {
     "data": {
      "text/plain": [
       "<matplotlib.colorbar.Colorbar at 0x81f7a6748>"
      ]
     },
     "execution_count": 175,
     "metadata": {},
     "output_type": "execute_result"
    },
    {
     "name": "stderr",
     "output_type": "stream",
     "text": [
      "/anaconda3/lib/python3.6/site-packages/matplotlib/font_manager.py:1328: UserWarning: findfont: Font family ['serif'] not found. Falling back to DejaVu Sans\n",
      "  (prop.get_family(), self.defaultFamily[fontext]))\n"
     ]
    },
    {
     "data": {
      "image/png": "[encoded data removed]",
      "text/plain": [
       "<Figure size 244.354x151.019 with 2 Axes>"
      ]
     },
     "metadata": {
      "image/png": {
       "height": 150,
       "width": 209
      }
     },
     "output_type": "display_data"
    }
   ],
   "source": [
    "#loudest sky WITH source\n",
    "plotSkyMap(RA_loudest_sky, DEC_loudest_sky, weights = hpskymap_lmax_noise)\n",
    "plt.colorbar(orientation='horizontal')\n",
    "#plt.savefig('plots_mm13_34/step_4/'+str(loudest_galname)+'_skymap.pdf', bbox_inches='tight')"
   ]
  },
  {
   "cell_type": "code",
   "execution_count": 176,
   "metadata": {},
   "outputs": [],
   "source": [
    "hpskymap_lmax_noise[hpskymap_lmax_noise < 0.0] = 0.0\n",
    "hpskymap_lmax_all[hpskymap_lmax_all < 0.0] = 0.0"
   ]
  },
  {
   "cell_type": "code",
   "execution_count": 184,
   "metadata": {},
   "outputs": [
    {
     "data": {
      "text/plain": [
       "array([4.87770672e-17, 9.88654174e-17, 6.08520238e-17, 2.60153005e-17,\n",
       "       1.97198198e-16, 3.00187427e-17, 4.42729219e-17, 1.84136249e-16,\n",
       "       3.64151168e-17, 1.01133759e-16, 1.04557994e-16, 4.11499419e-17,\n",
       "       2.00211362e-16, 1.93014046e-17, 7.50390739e-17, 9.56436318e-17,\n",
       "       1.80759035e-17, 9.17348212e-17, 7.95229672e-17, 1.12548998e-16,\n",
       "       1.36065912e-16, 4.90102145e-17, 1.13328112e-16, 2.39154067e-16,\n",
       "       1.36299706e-16, 3.86087139e-17, 7.66298091e-17, 2.86237145e-17,\n",
       "       1.42287696e-16, 7.64433402e-17, 9.43254824e-17, 5.39044562e-17,\n",
       "       1.49559959e-16, 6.87456506e-17, 1.17041089e-16, 5.87175123e-17,\n",
       "       1.33234397e-16, 1.35849191e-16, 5.53590399e-17, 1.00580840e-16,\n",
       "       1.05159422e-16, 8.23474330e-17, 4.40774280e-16, 5.19906718e-16,\n",
       "       4.57942737e-16, 2.82165212e-16, 2.73138753e-17, 2.25929005e-16,\n",
       "       6.36054720e-17, 1.13975648e-16, 5.76846053e-16, 3.35049867e-17,\n",
       "       5.87835606e-17, 1.02127155e-15, 4.11578391e-16, 3.84111367e-16,\n",
       "       7.01507800e-17, 4.05190209e-17, 1.45152259e-16, 6.08296033e-17,\n",
       "       4.41786101e-16, 1.46614162e-17, 1.09717541e-16, 1.60967600e-16,\n",
       "       6.80023349e-17, 3.00524956e-17, 4.98432126e-17, 4.65947810e-17,\n",
       "       8.72331357e-17, 2.49172050e-16, 7.86697100e-17, 1.16724898e-16,\n",
       "       4.48774628e-17, 1.54082912e-16, 2.44549572e-16, 2.07197009e-16,\n",
       "       2.62231287e-15, 1.17203571e-16, 3.22494521e-17, 4.44255052e-17,\n",
       "       4.38270950e-16, 1.49133942e-16, 5.91340544e-17, 3.15610035e-16,\n",
       "       9.87911166e-17, 1.43450419e-16, 3.73445571e-17, 8.14484288e-17,\n",
       "       9.53822789e-17, 3.50893654e-17, 1.47059748e-16, 5.79494123e-17,\n",
       "       1.02532241e-16])"
      ]
     },
     "execution_count": 184,
     "metadata": {},
     "output_type": "execute_result"
    }
   ],
   "source": [
    "hc_strain_all"
   ]
  },
  {
   "cell_type": "code",
   "execution_count": 177,
   "metadata": {},
   "outputs": [],
   "source": [
    "# What does this sky look like in terms of an anisotropic background?"
   ]
  },
  {
   "cell_type": "code",
   "execution_count": 178,
   "metadata": {},
   "outputs": [
    {
     "ename": "IndexError",
     "evalue": "index 92 is out of bounds for axis 0 with size 92",
     "output_type": "error",
     "traceback": [
      "\u001b[0;31m---------------------------------------------------------------------------\u001b[0m",
      "\u001b[0;31mIndexError\u001b[0m                                Traceback (most recent call last)",
      "\u001b[0;32m<ipython-input-178-4cf8655fe1c5>\u001b[0m in \u001b[0;36m<module>\u001b[0;34m()\u001b[0m\n\u001b[1;32m      1\u001b[0m \u001b[0;31m# h^2_c for C_l decomposition\u001b[0m\u001b[0;34m\u001b[0m\u001b[0;34m\u001b[0m\u001b[0m\n\u001b[1;32m      2\u001b[0m \u001b[0;34m\u001b[0m\u001b[0m\n\u001b[0;32m----> 3\u001b[0;31m \u001b[0mhpskymap2_noise\u001b[0m \u001b[0;34m=\u001b[0m \u001b[0mplotSkyMap\u001b[0m\u001b[0;34m(\u001b[0m\u001b[0mRA_loudest_noise\u001b[0m\u001b[0;34m,\u001b[0m \u001b[0mDEC_loudest_noise\u001b[0m \u001b[0;34m,\u001b[0m \u001b[0mweights\u001b[0m \u001b[0;34m=\u001b[0m \u001b[0mhc_strain_noise\u001b[0m\u001b[0;34m**\u001b[0m\u001b[0;36m2\u001b[0m\u001b[0;34m)\u001b[0m\u001b[0;34m\u001b[0m\u001b[0m\n\u001b[0m\u001b[1;32m      4\u001b[0m \u001b[0mhpskymap2_all\u001b[0m \u001b[0;34m=\u001b[0m \u001b[0mplotSkyMap\u001b[0m\u001b[0;34m(\u001b[0m\u001b[0mRA_loudest_sky\u001b[0m\u001b[0;34m,\u001b[0m \u001b[0mDEC_loudest_sky\u001b[0m\u001b[0;34m,\u001b[0m \u001b[0mweights\u001b[0m \u001b[0;34m=\u001b[0m \u001b[0mhc_strain_all\u001b[0m\u001b[0;34m**\u001b[0m\u001b[0;36m2\u001b[0m\u001b[0;34m)\u001b[0m\u001b[0;34m\u001b[0m\u001b[0m\n\u001b[1;32m      5\u001b[0m \u001b[0;34m\u001b[0m\u001b[0m\n",
      "\u001b[0;32m<ipython-input-167-55ed9dd19312>\u001b[0m in \u001b[0;36mplotSkyMap\u001b[0;34m(raSample, decSample, nside, contours, colorbar, inj, weights, psrs)\u001b[0m\n\u001b[1;32m     96\u001b[0m \u001b[0;34m\u001b[0m\u001b[0m\n\u001b[1;32m     97\u001b[0m     \u001b[0;31m# get skymap values from greedy binning algorithm\u001b[0m\u001b[0;34m\u001b[0m\u001b[0;34m\u001b[0m\u001b[0m\n\u001b[0;32m---> 98\u001b[0;31m     \u001b[0mskymap\u001b[0m \u001b[0;34m=\u001b[0m \u001b[0mgreedy_bin_sky\u001b[0m\u001b[0;34m(\u001b[0m\u001b[0mskypos\u001b[0m\u001b[0;34m,\u001b[0m \u001b[0mskycarts\u001b[0m\u001b[0;34m,\u001b[0m \u001b[0mweights\u001b[0m\u001b[0;34m)\u001b[0m\u001b[0;34m\u001b[0m\u001b[0m\n\u001b[0m\u001b[1;32m     99\u001b[0m \u001b[0;34m\u001b[0m\u001b[0m\n\u001b[1;32m    100\u001b[0m     \u001b[0;34m\"\"\"SMOOTHING\"\"\"\u001b[0m\u001b[0;34m\u001b[0m\u001b[0m\n",
      "\u001b[0;32m<ipython-input-167-55ed9dd19312>\u001b[0m in \u001b[0;36mgreedy_bin_sky\u001b[0;34m(skypos, skycarts, weights)\u001b[0m\n\u001b[1;32m     42\u001b[0m \u001b[0;34m\u001b[0m\u001b[0m\n\u001b[1;32m     43\u001b[0m         \u001b[0;32mif\u001b[0m \u001b[0mweights\u001b[0m \u001b[0;32mis\u001b[0m \u001b[0;32mnot\u001b[0m \u001b[0;32mNone\u001b[0m\u001b[0;34m:\u001b[0m\u001b[0;34m\u001b[0m\u001b[0m\n\u001b[0;32m---> 44\u001b[0;31m             \u001b[0mbins\u001b[0m\u001b[0;34m[\u001b[0m\u001b[0mmaxdx\u001b[0m\u001b[0;34m]\u001b[0m \u001b[0;34m+=\u001b[0m \u001b[0mweights\u001b[0m\u001b[0;34m[\u001b[0m\u001b[0mct\u001b[0m\u001b[0;34m]\u001b[0m\u001b[0;34m\u001b[0m\u001b[0m\n\u001b[0m\u001b[1;32m     45\u001b[0m         \u001b[0;32melse\u001b[0m\u001b[0;34m:\u001b[0m\u001b[0;34m\u001b[0m\u001b[0m\n\u001b[1;32m     46\u001b[0m             \u001b[0mbins\u001b[0m\u001b[0;34m[\u001b[0m\u001b[0mmaxdx\u001b[0m\u001b[0;34m]\u001b[0m \u001b[0;34m+=\u001b[0m \u001b[0;36m1\u001b[0m\u001b[0;34m\u001b[0m\u001b[0m\n",
      "\u001b[0;31mIndexError\u001b[0m: index 92 is out of bounds for axis 0 with size 92"
     ]
    },
    {
     "data": {
      "text/plain": [
       "<Figure size 244.354x151.019 with 0 Axes>"
      ]
     },
     "metadata": {},
     "output_type": "display_data"
    }
   ],
   "source": [
    "# h^2_c for C_l decomposition\n",
    "\n",
    "hpskymap2_noise = plotSkyMap(RA_loudest_noise, DEC_loudest_noise , weights = hc_strain_noise**2)\n",
    "hpskymap2_all = plotSkyMap(RA_loudest_sky, DEC_loudest_sky, weights = hc_strain_all**2)\n",
    "\n",
    "# create alm map form healpix map\n",
    "\n",
    "alm_map2_noise = hp.map2alm(hpskymap2_noise,lmax=10)\n",
    "alm_map2_all = hp.map2alm(hpskymap2_all,lmax=10)\n",
    "\n",
    "# make a map in terms of \\ell from the alm map\n",
    "\n",
    "hpskymap_lmax2_noise = hp.alm2map(alm_map2_noise,nside=64)\n",
    "hpskymap_lmax2_all = hp.alm2map(alm_map2_all,nside=64)\n"
   ]
  },
  {
   "cell_type": "code",
   "execution_count": null,
   "metadata": {},
   "outputs": [],
   "source": [
    "\"\"\"TURN OFF SMOOTHING\"\"\""
   ]
  },
  {
   "cell_type": "code",
   "execution_count": 114,
   "metadata": {},
   "outputs": [],
   "source": [
    "## Decompose this onto real spherical harmonics with our standard normalisations\n",
    "lmax = 50\n",
    "\n",
    "clm_noise = cbylm_pix.clmFromMap_fast(hpskymap2_noise, lmax)\n",
    "clm_all = cbylm_pix.clmFromMap_fast(hpskymap2_all, lmax)"
   ]
  },
  {
   "cell_type": "code",
   "execution_count": 115,
   "metadata": {},
   "outputs": [],
   "source": [
    "## Make the angular power spectrum, Cl = \\sum_m |clm|^2 / (2l+1)\n",
    "\n",
    "Cl_all = np.zeros(lmax+1)\n",
    "for ll in range(0,lmax+1):\n",
    "    Cl_all[ll] = np.sum(clm_all[ll**2:(ll+1)**2]**2.0) / (2.0*ll+1.0) / (4.0*pi)"
   ]
  },
  {
   "cell_type": "code",
   "execution_count": 116,
   "metadata": {},
   "outputs": [],
   "source": [
    "## Make the angular power spectrum, Cl = \\sum_m |clm|^2 / (2l+1)\n",
    "\n",
    "Cl_noise = np.zeros(lmax+1)\n",
    "for ll in range(0,lmax+1):\n",
    "    Cl_noise[ll] = np.sum(clm_noise[ll**2:(ll+1)**2]**2.0) / (2.0*ll+1.0) / (4.0*pi)"
   ]
  },
  {
   "cell_type": "code",
   "execution_count": 117,
   "metadata": {},
   "outputs": [
    {
     "data": {
      "text/plain": [
       "(0, 50)"
      ]
     },
     "execution_count": 117,
     "metadata": {},
     "output_type": "execute_result"
    },
    {
     "name": "stderr",
     "output_type": "stream",
     "text": [
      "/anaconda3/lib/python3.6/site-packages/matplotlib/font_manager.py:1328: UserWarning: findfont: Font family ['serif'] not found. Falling back to DejaVu Sans\n",
      "  (prop.get_family(), self.defaultFamily[fontext]))\n",
      "/anaconda3/lib/python3.6/site-packages/matplotlib/font_manager.py:1328: UserWarning: findfont: Font family ['serif'] not found. Falling back to DejaVu Sans\n",
      "  (prop.get_family(), self.defaultFamily[fontext]))\n",
      "/anaconda3/lib/python3.6/site-packages/matplotlib/font_manager.py:1328: UserWarning: findfont: Font family ['serif'] not found. Falling back to DejaVu Sans\n",
      "  (prop.get_family(), self.defaultFamily[fontext]))\n",
      "/anaconda3/lib/python3.6/site-packages/matplotlib/font_manager.py:1328: UserWarning: findfont: Font family ['serif'] not found. Falling back to DejaVu Sans\n",
      "  (prop.get_family(), self.defaultFamily[fontext]))\n"
     ]
    },
    {
     "data": {
      "image/png": "[encoded data removed]",
      "text/plain": [
       "<Figure size 244.354x151.019 with 1 Axes>"
      ]
     },
     "metadata": {
      "image/png": {
       "height": 158,
       "width": 236
      }
     },
     "output_type": "display_data"
    }
   ],
   "source": [
    "## Let's take a look\n",
    "\n",
    "fig, ax = plt.subplots() \n",
    "ax.plot(np.arange(0,lmax+1),Cl_all/Cl_all[0], label = \"All sky\",  lw=1.5)\n",
    "ax.plot(np.arange(0,lmax+1),Cl_noise/Cl_noise[0], label = \"Sky without \"+str(loudest_galname), lw=1.5,linestyle = '-.')\n",
    "ax.set_xlabel('$\\ell$')\n",
    "ax.set_ylabel('$C_\\ell/C_{0}$')\n",
    "ax.minorticks_on()\n",
    "plt.axvline(x=4, ymin=0, ymax = 1, linewidth=1.0, linestyle =\":\", label = \"PTA angular resolution\", c='g')\n",
    "ax.legend(loc='best',frameon=False)\n",
    "plt.xlim(0,50)\n",
    "#plt.savefig('plots_mm13_34/step_4/Cl_'+str(loudest_galname)+'_wLimit_SMOOTH.pdf', bbox_inches='tight')"
   ]
  },
  {
   "cell_type": "code",
   "execution_count": null,
   "metadata": {},
   "outputs": [],
   "source": [
    "2400/75000"
   ]
  },
  {
   "cell_type": "code",
   "execution_count": null,
   "metadata": {},
   "outputs": [],
   "source": [
    "550/10000"
   ]
  },
  {
   "cell_type": "code",
   "execution_count": null,
   "metadata": {},
   "outputs": [],
   "source": [
    "800/10000"
   ]
  },
  {
   "cell_type": "code",
   "execution_count": null,
   "metadata": {},
   "outputs": [],
   "source": [
    "1100/10000"
   ]
  },
  {
   "cell_type": "code",
   "execution_count": null,
   "metadata": {},
   "outputs": [],
   "source": []
  }
 ],
 "metadata": {
  "kernelspec": {
   "display_name": "Python 3",
   "language": "python",
   "name": "python3"
  },
  "language_info": {
   "codemirror_mode": {
    "name": "ipython",
    "version": 3
   },
   "file_extension": ".py",
   "mimetype": "text/x-python",
   "name": "python",
   "nbconvert_exporter": "python",
   "pygments_lexer": "ipython3",
   "version": "3.6.5"
  }
 },
 "nbformat": 4,
 "nbformat_minor": 1
}
