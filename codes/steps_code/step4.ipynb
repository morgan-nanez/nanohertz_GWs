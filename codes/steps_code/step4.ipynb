{
 "cells": [
  {
   "cell_type": "code",
   "execution_count": 1,
   "metadata": {},
   "outputs": [],
   "source": [
    "#!/usr/bin/env python\n",
    "\"\"\"choose_skies.ipynb: a notebook to create and examine GW backgrounds \"\"\"\n",
    "\n",
    "__author__ = \"Chiara M. F. Mingarelli\"\n",
    "__copyright__ = \"Copyright 2016, GWASAP project\"\n",
    "__credits__ = [\"Chiara Mingarelli\", \"Stephen Taylor\"]\n",
    "__license__ = \"GPL\"\n",
    "__version__ = \"0.0.1\"\n",
    "__maintainer__ = \"Chiara Mingarelli\"\n",
    "__email__ = \"mingarelli@gmail.com\"\n"
   ]
  },
  {
   "cell_type": "code",
   "execution_count": 2,
   "metadata": {},
   "outputs": [],
   "source": [
    "#necessary imports\n",
    "from __future__ import division\n",
    "from IPython.display import display, Math, Latex\n",
    "import math\n",
    "from math import sqrt, cos, sin, pi\n",
    "import numpy as np\n",
    "import matplotlib.pyplot as plt\n",
    "import matplotlib.mlab as ml\n",
    "from matplotlib.ticker import FormatStrFormatter, LinearLocator, NullFormatter, NullLocator, MultipleLocator\n",
    "import matplotlib.ticker\n",
    "import matplotlib.colors\n",
    "from matplotlib.font_manager import FontProperties\n",
    "from matplotlib import rc, text\n",
    "import healpy as hp\n",
    "import plot_mpl2 as plot\n",
    "from astropy.io import fits\n",
    "\n",
    "import AnisCoefficients_pix as cbylm_pix \n",
    "\n",
    "%matplotlib inline\n",
    "%config InlineBackend.figure_format = \"retina\""
   ]
  },
  {
   "cell_type": "code",
   "execution_count": 3,
   "metadata": {},
   "outputs": [],
   "source": [
    "# plotting preamble (credit J. Ellis)\n",
    "\n",
    "fig_width_pt = 245.27 #513.17           # Get this from LaTeX using \\showthe\\columnwidth\n",
    "inches_per_pt = 1.0/72.27               # Convert pt to inches\n",
    "golden_mean = (np.sqrt(5)-1.0)/2.0      # Aesthetic ratio\n",
    "fig_width = fig_width_pt*inches_per_pt  # width in inches\n",
    "fig_height =fig_width*golden_mean       # height in inches\n",
    "fig_size = [fig_width,fig_height]\n",
    "\n",
    "params = {'backend': 'pdf',\n",
    "        'axes.labelsize': 7,\n",
    "        'lines.markersize': 2,\n",
    "        'font.size': 7,\n",
    "        'xtick.major.size':6,\n",
    "        'xtick.minor.size':3,  \n",
    "        'ytick.major.size':6,\n",
    "        'ytick.minor.size':3, \n",
    "        'xtick.major.width':0.5,\n",
    "        'ytick.major.width':0.5,\n",
    "        'xtick.minor.width':0.5,\n",
    "        'ytick.minor.width':0.5,\n",
    "        'lines.markeredgewidth':1,\n",
    "        'axes.linewidth':1.0,\n",
    "        'legend.fontsize': 7,\n",
    "        'xtick.labelsize': 7,\n",
    "        'ytick.labelsize': 7,\n",
    "        'savefig.dpi':200,\n",
    "        'path.simplify':True,\n",
    "        'font.family': 'serif',\n",
    "        'font.serif':'Times',\n",
    "        'text.latex.preamble': [r'\\usepackage{amsmath}'],\n",
    "        'text.usetex':True,\n",
    "        #'axes.color_cycle': ['b', 'lime', 'r', 'purple', 'g', 'c', 'm', 'orange', 'darkblue', \\\n",
    "        #                        'darkcyan', 'y','orangered','chartreuse','brown','deeppink','lightgreen', 'k'],\n",
    "        #'font.serif':cm,\n",
    "        'figure.figsize': fig_size}\n",
    "plt.rcParams.update(params)"
   ]
  },
  {
   "cell_type": "code",
   "execution_count": 4,
   "metadata": {},
   "outputs": [
    {
     "data": {
      "text/plain": [
       "'NUMBER OF DETECTED SKIES PER RELATION'"
      ]
     },
     "execution_count": 4,
     "metadata": {},
     "output_type": "execute_result"
    }
   ],
   "source": [
    "\"\"\"NUMBER OF DETECTED SKIES PER RELATION\"\"\"\n",
    "#0.34 dex = 189/116,150 = 0.0016/relatization = 0.16%\n",
    "#0.51 dex = 43/10,000 = 0.43%\n",
    "#0.68 dex = 96/10,000 = 0.96%\n",
    "#1.02 dex = 258/10,000 = 2.58%"
   ]
  },
  {
   "cell_type": "code",
   "execution_count": 5,
   "metadata": {},
   "outputs": [],
   "source": [
    "freq_choice = np.loadtxt(\"../gw_freqs1.dat\") #available GW frequencies"
   ]
  },
  {
   "cell_type": "code",
   "execution_count": 6,
   "metadata": {},
   "outputs": [
    {
     "name": "stdout",
     "output_type": "stream",
     "text": [
      "23\n"
     ]
    }
   ],
   "source": [
    "#gets data from the final skies (generated in step 3)\n",
    "final_file = np.genfromtxt(\"../../detectedSkies/final_skies/mm13_mbul_final_test0126.txt\")\n",
    "final_galname = np.genfromtxt(\"../../detectedSkies/final_skies/mm13_mbul_final_test0126.txt\", usecols = 2, dtype='str')\n",
    "final_filename = np.genfromtxt(\"../../detectedSkies/final_skies/mm13_mbul_final_test0126.txt\", usecols = -1, dtype='str')\n",
    "final_size = len(final_file)\n",
    "final_RA = final_file[:,0]/180*pi\n",
    "final_DEC = final_file[:,1]/180*pi\n",
    "final_strain = final_file[:,8]\n",
    "\n",
    "print(final_size)"
   ]
  },
  {
   "cell_type": "code",
   "execution_count": 7,
   "metadata": {},
   "outputs": [
    {
     "data": {
      "text/plain": [
       "array([5.3411613 , 4.88973189, 4.33073783, 1.98655121, 4.32293621,\n",
       "       5.3411613 , 1.97452589, 5.86484734, 4.83585357, 4.89095362,\n",
       "       4.33073783, 5.3411613 , 4.06197458, 1.39446571, 3.25242106,\n",
       "       5.85606833, 0.88442815, 0.42467351, 5.3411613 , 5.3411613 ,\n",
       "       5.3411613 , 5.3411613 , 5.3411613 ])"
      ]
     },
     "execution_count": 7,
     "metadata": {},
     "output_type": "execute_result"
    }
   ],
   "source": [
    "final_RA"
   ]
  },
  {
   "cell_type": "code",
   "execution_count": 8,
   "metadata": {},
   "outputs": [
    {
     "name": "stdout",
     "output_type": "stream",
     "text": [
      "16\n",
      "NGC1316\n",
      "1140\n"
     ]
    }
   ],
   "source": [
    "#finds the loudest source from all the detectable sources from final skies\n",
    "loudest_index = int(final_strain.argmax())\n",
    "loudest_galname = final_galname[loudest_index]\n",
    "loudest_filename = int(final_filename[loudest_index])\n",
    "\n",
    "print(loudest_index)\n",
    "print(loudest_galname)\n",
    "print(loudest_filename)"
   ]
  },
  {
   "cell_type": "code",
   "execution_count": 76,
   "metadata": {},
   "outputs": [],
   "source": [
    "#collects all data from the final skies\n",
    "data_filename = '../../detectedSkies/final_skies/all_final_sky_data_new0126.txt'\n",
    "\n",
    "\n",
    "count = 0 #variable used to count number of sources per realization\n",
    "file_s = [] #numbers of sources per relaization\n",
    "RA_tot_all = []\n",
    "DEC_tot_all = []\n",
    "freq_tot_all = []\n",
    "strain_tot_all = []\n",
    "\n",
    "\n",
    "#temps used to help seperate data by relalization\n",
    "temp_RA = []\n",
    "temp_DEC = []\n",
    "temp_freq = []\n",
    "temp_strain = []\n",
    "temp_file_s = []\n",
    "\n",
    "with open(data_filename) as f:\n",
    "    \n",
    "    temp_RA = []\n",
    "    temp_DEC = []\n",
    "    temp_freq = []\n",
    "    temp_strain = []\n",
    "    \n",
    "    for line in f:\n",
    "        if len(line) < 50:\n",
    "            \n",
    "            #add the collected data to the real lists\n",
    "            \n",
    "            file_s.append(count)\n",
    "            RA_tot_all.append(temp_RA) #phi, add pi to this for healpix maps\n",
    "            DEC_tot_all.append(temp_DEC) #theta\n",
    "            freq_tot_all.append(temp_freq)\n",
    "            strain_tot_all.append(temp_strain)\n",
    "\n",
    "            \n",
    "            #reset the temp lists\n",
    "            \n",
    "            temp_RA = []\n",
    "            temp_DEC = []\n",
    "            temp_freq = []\n",
    "            temp_strain = []\n",
    "            count = 0\n",
    "            \n",
    "        else:\n",
    "            \n",
    "            #data is split into its corresponding lists\n",
    "            \n",
    "            splitted = line.split(\" \") \n",
    "    \n",
    "            temp_RA.append(float(splitted[0])) #phi, add pi to this for healpix maps\n",
    "            temp_DEC.append(float(splitted[1])) #theta\n",
    "            temp_freq.append(float(splitted[7]))\n",
    "            temp_strain.append(float(splitted[8]))\n",
    "            count+=1\n",
    "            \n",
    "            "
   ]
  },
  {
   "cell_type": "code",
   "execution_count": 77,
   "metadata": {},
   "outputs": [],
   "source": [
    "# all data from the sky with the loudest source (overall)\n",
    "\n",
    "RA_loudest_sky = RA_tot_all[loudest_index] #phi, add pi to this for healpix maps\n",
    "DEC_loudest_sky = DEC_tot_all[loudest_index] #theta\n",
    "freq_loudest_sky = freq_tot_all[loudest_index]\n",
    "strain_loudest_sky = strain_tot_all[loudest_index]\n",
    "file_size_loudest_sky = file_s[loudest_index] # number of galaxies in file\n",
    "\n"
   ]
  },
  {
   "cell_type": "code",
   "execution_count": 78,
   "metadata": {},
   "outputs": [],
   "source": [
    "#find index of loudest source overall for this sky\n",
    "source_index = strain_loudest_sky.index(max(strain_loudest_sky))\n",
    "source_RA = RA_loudest_sky[source_index]\n",
    "source_DEC = DEC_loudest_sky[source_index]"
   ]
  },
  {
   "cell_type": "code",
   "execution_count": 79,
   "metadata": {},
   "outputs": [],
   "source": [
    "#remove loudest source from the source sky to produce noise vectors\n",
    "\n",
    "RA_loudest_noise = RA_loudest_sky.copy() #phi, add pi to this for healpix maps\n",
    "DEC_loudest_noise = DEC_loudest_sky.copy() #theta\n",
    "freq_loudest_noise = freq_loudest_sky.copy()\n",
    "strain_loudest_noise = strain_loudest_sky.copy()\n",
    "file_size_loudest_noise = file_size_loudest_sky # number of galaxies in file\n",
    "\n",
    "RA_loudest_noise.pop(source_index) #phi, add pi to this for healpix maps\n",
    "DEC_loudest_noise.pop(source_index) #theta\n",
    "freq_loudest_noise.pop(source_index)\n",
    "strain_loudest_noise.pop(source_index)\n",
    "file_size_loudest_noise = file_size_loudest_noise - 1\n",
    "\n",
    "#del RA_loudest_noise[source_index]"
   ]
  },
  {
   "cell_type": "code",
   "execution_count": 80,
   "metadata": {},
   "outputs": [
    {
     "data": {
      "text/plain": [
       "95"
      ]
     },
     "execution_count": 80,
     "metadata": {},
     "output_type": "execute_result"
    }
   ],
   "source": [
    "len(RA_loudest_noise)"
   ]
  },
  {
   "cell_type": "code",
   "execution_count": 81,
   "metadata": {},
   "outputs": [],
   "source": [
    "# all data from a random source sky\n",
    "\n",
    "rand_index = 5 #random num\n",
    "\n",
    "RA_random = RA_tot_all[rand_index] #phi, add pi to this for healpix maps\n",
    "DEC_random = DEC_tot_all[rand_index] #theta\n",
    "freq_random = freq_tot_all[rand_index]\n",
    "strain_random = strain_tot_all[rand_index]\n",
    "file_s_random = file_s[rand_index] # number of galaxies in file\n",
    "\n",
    "#find index of loudest source overall for this sky\n",
    "\n",
    "source_index_random = strain_random.index(max(strain_random))\n",
    "source_RA_random = RA_random[source_index]\n",
    "source_DEC_random = DEC_random[source_index]\n",
    "\n",
    "# remove loudest from the source sky\n",
    "\n",
    "RA_random_noise = RA_random #phi, add pi to this for healpix maps\n",
    "DEC_random_noise = DEC_random #theta\n",
    "freq_random_noise = freq_random\n",
    "strain_random_noise = strain_random\n",
    "file_size_random_noise = file_s_random # number of galaxies in file\n",
    "\n",
    "RA_random_noise.pop(source_index_random) #phi, add pi to this for healpix maps\n",
    "DEC_random_noise.pop(source_index_random) #theta\n",
    "freq_random_noise.pop(source_index_random)\n",
    "strain_random_noise.pop(source_index_random)\n",
    "file_size_random_noise = file_size_random_noise - 1\n"
   ]
  },
  {
   "cell_type": "code",
   "execution_count": 82,
   "metadata": {},
   "outputs": [],
   "source": [
    "# A map of the sky realization where the detection was made"
   ]
  },
  {
   "cell_type": "code",
   "execution_count": 83,
   "metadata": {},
   "outputs": [
    {
     "data": {
      "text/plain": [
       "<matplotlib.colorbar.Colorbar at 0x81f5ad080>"
      ]
     },
     "execution_count": 83,
     "metadata": {},
     "output_type": "execute_result"
    },
    {
     "name": "stderr",
     "output_type": "stream",
     "text": [
      "/anaconda3/lib/python3.6/site-packages/matplotlib/font_manager.py:1328: UserWarning: findfont: Font family ['serif'] not found. Falling back to DejaVu Sans\n",
      "  (prop.get_family(), self.defaultFamily[fontext]))\n"
     ]
    },
    {
     "data": {
      "image/png": "[encoded data removed]",
      "text/plain": [
       "<Figure size 244.354x151.019 with 2 Axes>"
      ]
     },
     "metadata": {
      "image/png": {
       "height": 150,
       "width": 209
      }
     },
     "output_type": "display_data"
    }
   ],
   "source": [
    "#PLOTS SKY FOR LOUDEST SKY ONLY\n",
    "ax = plt.subplot(111, projection='astro mollweide')\n",
    "\n",
    "# plot \"noise\" map (GW sky with 2 loud sources removed)\n",
    "#ax.grid()\n",
    "#plot.outline_text(ax)\n",
    "maxstrain = np.amax(strain_loudest_sky)\n",
    "colors = (strain_loudest_sky) # make colors vary with respect to strain\n",
    "area = pi * (5*strain_loudest_sky/maxstrain)**2  # adapt circles with 0 to 15 point radii\n",
    "\n",
    "# labels\n",
    "plt.suptitle(r'strain, $h$', y=0.3)\n",
    "sc = plt.scatter(RA_loudest_sky, DEC_loudest_sky, c = colors, cmap = 'viridis', alpha = 0.9, edgecolors='none',s=area)\n",
    "\n",
    "#comment out when doing random sky\n",
    "#plt.scatter(source_RA, source_DEC, color ='yellow', marker = '*', s=80,edgecolor = \"black\", lw=0.2)\n",
    "\n",
    "plt.colorbar(sc, orientation = 'horizontal')\n",
    "#plt.savefig(\"plots_mm13_34/step_4/\"+str(loudest_galname)+\" _mapWsource.pdf\")\n",
    "#plt.savefig(\"plots_mm13_34/step_4/random_mapWsource.pdf\")"
   ]
  },
  {
   "cell_type": "code",
   "execution_count": 84,
   "metadata": {},
   "outputs": [
    {
     "data": {
      "text/plain": [
       "<matplotlib.colorbar.Colorbar at 0x1113dee10>"
      ]
     },
     "execution_count": 84,
     "metadata": {},
     "output_type": "execute_result"
    },
    {
     "name": "stderr",
     "output_type": "stream",
     "text": [
      "/anaconda3/lib/python3.6/site-packages/matplotlib/font_manager.py:1328: UserWarning: findfont: Font family ['serif'] not found. Falling back to DejaVu Sans\n",
      "  (prop.get_family(), self.defaultFamily[fontext]))\n"
     ]
    },
    {
     "data": {
      "image/png": "[encoded data removed]",
      "text/plain": [
       "<Figure size 244.354x151.019 with 2 Axes>"
      ]
     },
     "metadata": {
      "image/png": {
       "height": 150,
       "width": 209
      }
     },
     "output_type": "display_data"
    }
   ],
   "source": [
    "#PLOTS SKY FOR RANDOM SKY \n",
    "ax = plt.subplot(111, projection='astro mollweide')\n",
    "\n",
    "# plot \"noise\" map (GW sky with 2 loud sources removed)\n",
    "#ax.grid()\n",
    "#plot.outline_text(ax)\n",
    "maxstrain = np.amax(strain_random)\n",
    "colors = (strain_random) # make colors vary with respect to strain\n",
    "area = pi * (5*strain_random/maxstrain)**2  # adapt circles with 0 to 15 point radii\n",
    "\n",
    "# labels\n",
    "plt.suptitle(r'strain, $h$', y=0.3)\n",
    "sc = plt.scatter(RA_random, DEC_random, c = colors, cmap = 'viridis', alpha = 0.9, edgecolors='none',s=area)\n",
    "\n",
    "#comment out when doing random sky\n",
    "#plt.scatter(source_RA, source_DEC, color ='yellow', marker = '*', s=80,edgecolor = \"black\", lw=0.2)\n",
    "\n",
    "plt.colorbar(sc, orientation = 'horizontal')\n",
    "#plt.savefig(\"plots_mm13_34/step_4/\"+str(loudest_galname)+\" _mapWsource.pdf\")\n",
    "#plt.savefig(\"plots_mm13_34/step_4/random_mapWsource.pdf\")"
   ]
  },
  {
   "cell_type": "code",
   "execution_count": 85,
   "metadata": {},
   "outputs": [
    {
     "data": {
      "text/plain": [
       "<matplotlib.colorbar.Colorbar at 0x81f7fc518>"
      ]
     },
     "execution_count": 85,
     "metadata": {},
     "output_type": "execute_result"
    },
    {
     "name": "stderr",
     "output_type": "stream",
     "text": [
      "/anaconda3/lib/python3.6/site-packages/matplotlib/font_manager.py:1328: UserWarning: findfont: Font family ['serif'] not found. Falling back to DejaVu Sans\n",
      "  (prop.get_family(), self.defaultFamily[fontext]))\n"
     ]
    },
    {
     "data": {
      "image/png": "[encoded data removed]",
      "text/plain": [
       "<Figure size 244.354x151.019 with 2 Axes>"
      ]
     },
     "metadata": {
      "image/png": {
       "height": 150,
       "width": 209
      }
     },
     "output_type": "display_data"
    }
   ],
   "source": [
    "#PLOTS SKY FOR ALL FINAL SKIES\n",
    "ax = plt.subplot(111, projection='astro mollweide')\n",
    "\n",
    "# plot \"noise\" map (GW sky with 2 loud sources removed)\n",
    "#ax.grid()\n",
    "#plot.outline_text(ax)\n",
    "#final_strain_log = np.log10(final_strain)\n",
    "maxstrain = np.amax(final_strain)\n",
    "colors = (final_strain) # make colors vary with respect to strain\n",
    "area = pi * (5*final_strain/maxstrain)**2  # adapt circles with 0 to 15 point radii\n",
    "\n",
    "# labels\n",
    "plt.suptitle(r'strain, $h$', y=0.3)\n",
    "sc = plt.scatter(final_RA, final_DEC, c = colors, cmap = 'viridis', alpha = 0.9, edgecolors='none',s=area)\n",
    "\n",
    "plt.colorbar(sc, orientation = 'horizontal')\n",
    "#plt.savefig(\"plots_mm13_34/step_4/all_final_map_34.pdf\")"
   ]
  },
  {
   "cell_type": "code",
   "execution_count": 86,
   "metadata": {},
   "outputs": [],
   "source": [
    "# What does the GW background look like from this sky?"
   ]
  },
  {
   "cell_type": "code",
   "execution_count": 121,
   "metadata": {},
   "outputs": [],
   "source": [
    "def h2_c(hk, fk, deltaF):\n",
    "    \"\"\"\n",
    "    Eq 35 Babak et al. 2016; \n",
    "    Given a sky of strains at certain frequencies,\n",
    "    what is it in terms of a GW background?\n",
    "    returns h^2_c\n",
    "    \"\"\"\n",
    "    h2k = np.square(hk)\n",
    "    ans = h2k*fk/deltaF\n",
    "    return ans\n",
    "\n",
    "\n",
    "def pol2cart(lon, lat): \n",
    "    \"\"\" \n",
    "    Utility function to convert longitude,latitude on a unit sphere to \n",
    "    cartesian co-ordinates.\n",
    "\n",
    "    \"\"\" \n",
    "\n",
    "    x = np.cos(lat)*np.cos(lon) \n",
    "    y = np.cos(lat)*np.sin(lon) \n",
    "    z = np.sin(lat) \n",
    "\n",
    "    return np.array([x,y,z])\n",
    "\n",
    "\n",
    "def greedy_bin_sky(skypos, skycarts, weights=None):\n",
    "    \"\"\"\n",
    "\n",
    "    Greedy binning algorithm\n",
    "\n",
    "    \"\"\"\n",
    "\n",
    "    N = len(skycarts) \n",
    "    skycarts = np.array(skycarts)\n",
    "    bins = np.zeros(N)\n",
    "    ct = 0\n",
    "    for raSample, decSample in skypos: \n",
    "        sampcart = pol2cart(raSample, decSample) \n",
    "        dx = np.dot(skycarts, sampcart)\n",
    "        maxdx = np.argmax(dx)\n",
    "\n",
    "        if weights is not None:\n",
    "            bins[maxdx] += weights[ct]\n",
    "        else:\n",
    "            bins[maxdx] += 1\n",
    "\n",
    "        ct += 1\n",
    "\n",
    "    # fill in skymap\n",
    "    histIndices = np.argsort(bins)[::-1]    # in decreasing order\n",
    "    NSamples = len(skypos)\n",
    "\n",
    "    frac = 0.0\n",
    "    skymap = np.zeros(N)\n",
    "    for i in histIndices:\n",
    "        frac = float(bins[i]) # /float(NSamples) \n",
    "        skymap[i] = frac\n",
    "\n",
    "    return skymap\n",
    "\n",
    "\n",
    "def plotSkyMap(raSample, decSample, nside=64, contours=None, colorbar=True, \\\n",
    "              inj=None, weights=None, psrs=None):\n",
    "    \"\"\"\n",
    "\n",
    "    Plot Skymap of chain samples on Mollwiede projection.\n",
    "\n",
    "    @param raSample: Array of right ascension samples\n",
    "    @param decSample: Array of declination  samples\n",
    "    @param nside: Number of pixels across equator [default = 64]\n",
    "    @param contours: Confidence contours to draw eg. 68%, 95% etc\n",
    "                     By default this is set to none and no contours\n",
    "                     will be drawn.\n",
    "    @param colorbar: Boolean option to draw colorbar [default = True]\n",
    "    @param inj: list of injected values [ra, dec] in radians to plot\n",
    "                [default = None]\n",
    "    @param weights: sample weights [default = None]\n",
    "    @param psrs: Stacked array of pulsar sky locations [ra, dec] in radians\n",
    "                 [default=None] Will plot as white diamonds\n",
    "\n",
    "    \"\"\"\n",
    "\n",
    "    # clear figures\n",
    "    plt.clf()\n",
    "\n",
    "    # create stacked array of ra and dec\n",
    "    skypos = np.column_stack([raSample, decSample])\n",
    "\n",
    "    npix = hp.nside2npix(nside)    # number of pixels total\n",
    "\n",
    "\n",
    "    # initialize theta and phi map coordinantes\n",
    "    skycarts=[]\n",
    "    for ii in range(npix):\n",
    "        skycarts.append(np.array(hp.pix2vec(nside,ii)))\n",
    "\n",
    "    # get skymap values from greedy binning algorithm\n",
    "    skymap = greedy_bin_sky(skypos, skycarts, weights)\n",
    "\n",
    "    \"\"\"SMOOTHING\"\"\"\n",
    "    # smooth skymap (ON for sky maps/ OFF for cl)\n",
    "    #skymap = hp.smoothing(skymap, 0.1) \n",
    "\n",
    "    # make plot\n",
    "    ax = plt.subplot(111, projection='astro mollweide')\n",
    "\n",
    "    # plot map\n",
    "    #ax.grid()\n",
    "    #plot.outline_text(ax)\n",
    "    plot.healpix_heatmap(skymap, cmap = 'viridis')\n",
    "\n",
    "    return skymap\n",
    "    # save skymap\n",
    "    #plt.savefig('skymap.pdf', bbox_inches='tight')"
   ]
  },
  {
   "cell_type": "code",
   "execution_count": 122,
   "metadata": {},
   "outputs": [],
   "source": [
    "T = 315360000*2.5 # 25 years in seconds, consistent with EPTA data\n",
    "dF = 1/T"
   ]
  },
  {
   "cell_type": "code",
   "execution_count": 123,
   "metadata": {},
   "outputs": [],
   "source": [
    "#use random\n",
    "hc_strain_loudest_noise = np.sqrt(h2_c(strain_loudest_noise, freq_loudest_noise, dF))\n",
    "hc_strain_loudest = np.sqrt(h2_c(strain_loudest_sky, freq_loudest_sky, dF))\n",
    "hc_strain_random = np.sqrt(h2_c(strain_random, freq_random, dF))\n",
    "hc_strain_random_noise = np.sqrt(h2_c(strain_random_noise, freq_random_noise, dF))\n",
    "\n",
    "\n"
   ]
  },
  {
   "cell_type": "code",
   "execution_count": 124,
   "metadata": {},
   "outputs": [
    {
     "data": {
      "text/plain": [
       "'TURN ON SMOOTHING'"
      ]
     },
     "execution_count": 124,
     "metadata": {},
     "output_type": "execute_result"
    }
   ],
   "source": [
    "\"\"\"TURN ON SMOOTHING\"\"\""
   ]
  },
  {
   "cell_type": "code",
   "execution_count": 125,
   "metadata": {},
   "outputs": [],
   "source": [
    "hc_strain_loudest_noiseLog = np.log10(hc_strain_loudest_noise)"
   ]
  },
  {
   "cell_type": "code",
   "execution_count": 126,
   "metadata": {},
   "outputs": [
    {
     "data": {
      "text/plain": [
       "<matplotlib.colorbar.Colorbar at 0x821cacdd8>"
      ]
     },
     "execution_count": 126,
     "metadata": {},
     "output_type": "execute_result"
    },
    {
     "name": "stderr",
     "output_type": "stream",
     "text": [
      "/anaconda3/lib/python3.6/site-packages/matplotlib/font_manager.py:1328: UserWarning: findfont: Font family ['serif'] not found. Falling back to DejaVu Sans\n",
      "  (prop.get_family(), self.defaultFamily[fontext]))\n"
     ]
    },
    {
     "data": {
      "image/png": "[encoded data removed]",
      "text/plain": [
       "<Figure size 244.354x151.019 with 2 Axes>"
      ]
     },
     "metadata": {
      "image/png": {
       "height": 150,
       "width": 211
      }
     },
     "output_type": "display_data"
    }
   ],
   "source": [
    "#plot random sky all points with source\n",
    "hpskymap_all = plotSkyMap(RA_random, DEC_random, weights = hc_strain_random)\n",
    "plt.suptitle(r'characteristic strain, $h_c$', y=0.3)\n",
    "plt.colorbar(orientation='horizontal')\n",
    "#plt.savefig('plots_mm13_34/step_4/random_w_all.pdf', bbox_inches='tight')"
   ]
  },
  {
   "cell_type": "code",
   "execution_count": 127,
   "metadata": {},
   "outputs": [
    {
     "data": {
      "text/plain": [
       "<matplotlib.colorbar.Colorbar at 0x8221828d0>"
      ]
     },
     "execution_count": 127,
     "metadata": {},
     "output_type": "execute_result"
    },
    {
     "name": "stderr",
     "output_type": "stream",
     "text": [
      "/anaconda3/lib/python3.6/site-packages/matplotlib/font_manager.py:1328: UserWarning: findfont: Font family ['serif'] not found. Falling back to DejaVu Sans\n",
      "  (prop.get_family(), self.defaultFamily[fontext]))\n"
     ]
    },
    {
     "data": {
      "image/png": "[encoded data removed]",
      "text/plain": [
       "<Figure size 244.354x151.019 with 2 Axes>"
      ]
     },
     "metadata": {
      "image/png": {
       "height": 150,
       "width": 211
      }
     },
     "output_type": "display_data"
    }
   ],
   "source": [
    "#TURN ON SMOITH\n",
    "#loudest sky with only noise, no source\n",
    "#DONT RUN FOR RANDOM EXAMPLE\n",
    "hpskymap_noise = plotSkyMap(RA_loudest_noise, DEC_loudest_noise, weights = hc_strain_loudest_noise)\n",
    "plt.suptitle(r'characteristic strain, $h_c$', y=0.3)\n",
    "plt.colorbar( orientation='horizontal')\n",
    "#plt.savefig('plots_mm13_34/step_4/'+str(loudest_galname)+'_only_noise.pdf', bbox_inches='tight')"
   ]
  },
  {
   "cell_type": "code",
   "execution_count": 128,
   "metadata": {},
   "outputs": [
    {
     "name": "stdout",
     "output_type": "stream",
     "text": [
      "monopole: 2.6144e-19\n"
     ]
    },
    {
     "data": {
      "text/plain": [
       "array([-2.61440317e-19, -2.61440317e-19, -2.61440317e-19, ...,\n",
       "       -2.61440317e-19, -2.61440317e-19, -2.61440317e-19])"
      ]
     },
     "execution_count": 128,
     "metadata": {},
     "output_type": "execute_result"
    }
   ],
   "source": [
    "hp.pixelfunc.remove_monopole(hpskymap_all)"
   ]
  },
  {
   "cell_type": "code",
   "execution_count": 129,
   "metadata": {},
   "outputs": [
    {
     "name": "stdout",
     "output_type": "stream",
     "text": [
      "Sigma is 0.000000 arcmin (0.000000 rad) \n",
      "-> fwhm is 0.000000 arcmin\n",
      "Sigma is 0.000000 arcmin (0.000000 rad) \n",
      "-> fwhm is 0.000000 arcmin\n"
     ]
    }
   ],
   "source": [
    "# create alm map form healpix map\n",
    "alm_map_noise = hp.map2alm(hpskymap_noise,lmax=10)\n",
    "alm_map_all = hp.map2alm(hpskymap_all,lmax=10)\n",
    "\n",
    "# make a map in terms of \\ell from the alm map\n",
    "hpskymap_lmax_noise = hp.alm2map(alm_map_noise,nside=64)\n",
    "hpskymap_lmax_all = hp.alm2map(alm_map_all,nside=64)"
   ]
  },
  {
   "cell_type": "code",
   "execution_count": 130,
   "metadata": {},
   "outputs": [
    {
     "data": {
      "text/plain": [
       "array([1.23302471e-19, 7.32262057e-20, 6.56934049e-20, ...,\n",
       "       2.43413486e-19, 2.67230057e-19, 2.63873496e-19])"
      ]
     },
     "execution_count": 130,
     "metadata": {},
     "output_type": "execute_result"
    }
   ],
   "source": [
    "hpskymap_lmax_noise"
   ]
  },
  {
   "cell_type": "code",
   "execution_count": 131,
   "metadata": {},
   "outputs": [
    {
     "data": {
      "text/plain": [
       "<matplotlib.colorbar.Colorbar at 0x822518ef0>"
      ]
     },
     "execution_count": 131,
     "metadata": {},
     "output_type": "execute_result"
    },
    {
     "name": "stderr",
     "output_type": "stream",
     "text": [
      "/anaconda3/lib/python3.6/site-packages/matplotlib/font_manager.py:1328: UserWarning: findfont: Font family ['serif'] not found. Falling back to DejaVu Sans\n",
      "  (prop.get_family(), self.defaultFamily[fontext]))\n"
     ]
    },
    {
     "data": {
      "image/png": "[encoded data removed]",
      "text/plain": [
       "<Figure size 244.354x151.019 with 2 Axes>"
      ]
     },
     "metadata": {
      "image/png": {
       "height": 150,
       "width": 209
      }
     },
     "output_type": "display_data"
    }
   ],
   "source": [
    "#loudest sky WITH source\n",
    "plotSkyMap(RA_loudest_sky, DEC_loudest_sky, weights = hpskymap_lmax_noise)\n",
    "plt.colorbar(orientation='horizontal')\n",
    "#plt.savefig('plots_mm13_34/step_4/'+str(loudest_galname)+'_skymap.pdf', bbox_inches='tight')"
   ]
  },
  {
   "cell_type": "code",
   "execution_count": 132,
   "metadata": {},
   "outputs": [],
   "source": [
    "hpskymap_lmax_noise[hpskymap_lmax_noise < 0.0] = 0.0\n",
    "hpskymap_lmax_all[hpskymap_lmax_all < 0.0] = 0.0"
   ]
  },
  {
   "cell_type": "code",
   "execution_count": 133,
   "metadata": {},
   "outputs": [
    {
     "data": {
      "text/plain": [
       "96"
      ]
     },
     "execution_count": 133,
     "metadata": {},
     "output_type": "execute_result"
    }
   ],
   "source": [
    "len(DEC_loudest_sky)"
   ]
  },
  {
   "cell_type": "code",
   "execution_count": 134,
   "metadata": {},
   "outputs": [],
   "source": [
    "# What does this sky look like in terms of an anisotropic background?"
   ]
  },
  {
   "cell_type": "code",
   "execution_count": 135,
   "metadata": {},
   "outputs": [
    {
     "name": "stdout",
     "output_type": "stream",
     "text": [
      "Sigma is 0.000000 arcmin (0.000000 rad) \n",
      "-> fwhm is 0.000000 arcmin\n",
      "Sigma is 0.000000 arcmin (0.000000 rad) \n",
      "-> fwhm is 0.000000 arcmin\n"
     ]
    },
    {
     "name": "stderr",
     "output_type": "stream",
     "text": [
      "/anaconda3/lib/python3.6/site-packages/matplotlib/font_manager.py:1328: UserWarning: findfont: Font family ['serif'] not found. Falling back to DejaVu Sans\n",
      "  (prop.get_family(), self.defaultFamily[fontext]))\n"
     ]
    },
    {
     "data": {
      "image/png": "[encoded data removed]",
      "text/plain": [
       "<Figure size 244.354x151.019 with 1 Axes>"
      ]
     },
     "metadata": {
      "image/png": {
       "height": 115,
       "width": 223
      }
     },
     "output_type": "display_data"
    }
   ],
   "source": [
    "# h^2_c for C_l decomposition\n",
    "\n",
    "hpskymap2_noise = plotSkyMap(RA_loudest_noise, DEC_loudest_noise , weights = hc_strain_loudest_noise**2)\n",
    "hpskymap2_all = plotSkyMap(RA_loudest_sky, DEC_loudest_sky, weights = hc_strain_loudest**2)\n",
    "\n",
    "# create alm map form healpix map\n",
    "\n",
    "alm_map2_noise = hp.map2alm(hpskymap2_noise,lmax=10)\n",
    "alm_map2_all = hp.map2alm(hpskymap2_all,lmax=10)\n",
    "\n",
    "# make a map in terms of \\ell from the alm map\n",
    "\n",
    "hpskymap_lmax2_noise = hp.alm2map(alm_map2_noise,nside=64)\n",
    "hpskymap_lmax2_all = hp.alm2map(alm_map2_all,nside=64)\n"
   ]
  },
  {
   "cell_type": "code",
   "execution_count": 136,
   "metadata": {},
   "outputs": [
    {
     "data": {
      "text/plain": [
       "'TURN OFF SMOOTHING'"
      ]
     },
     "execution_count": 136,
     "metadata": {},
     "output_type": "execute_result"
    }
   ],
   "source": [
    "\"\"\"TURN OFF SMOOTHING\"\"\""
   ]
  },
  {
   "cell_type": "code",
   "execution_count": 137,
   "metadata": {},
   "outputs": [],
   "source": [
    "## Decompose this onto real spherical harmonics with our standard normalisations\n",
    "lmax = 50\n",
    "\n",
    "clm_noise = cbylm_pix.clmFromMap_fast(hpskymap2_noise, lmax)\n",
    "clm_all = cbylm_pix.clmFromMap_fast(hpskymap2_all, lmax)"
   ]
  },
  {
   "cell_type": "code",
   "execution_count": 138,
   "metadata": {},
   "outputs": [],
   "source": [
    "## Make the angular power spectrum, Cl = \\sum_m |clm|^2 / (2l+1)\n",
    "\n",
    "Cl_all = np.zeros(lmax+1)\n",
    "for ll in range(0,lmax+1):\n",
    "    Cl_all[ll] = np.sum(clm_all[ll**2:(ll+1)**2]**2.0) / (2.0*ll+1.0) / (4.0*pi)"
   ]
  },
  {
   "cell_type": "code",
   "execution_count": 139,
   "metadata": {},
   "outputs": [],
   "source": [
    "## Make the angular power spectrum, Cl = \\sum_m |clm|^2 / (2l+1)\n",
    "\n",
    "Cl_noise = np.zeros(lmax+1)\n",
    "for ll in range(0,lmax+1):\n",
    "    Cl_noise[ll] = np.sum(clm_noise[ll**2:(ll+1)**2]**2.0) / (2.0*ll+1.0) / (4.0*pi)"
   ]
  },
  {
   "cell_type": "code",
   "execution_count": 140,
   "metadata": {},
   "outputs": [
    {
     "data": {
      "text/plain": [
       "(0, 50)"
      ]
     },
     "execution_count": 140,
     "metadata": {},
     "output_type": "execute_result"
    },
    {
     "name": "stderr",
     "output_type": "stream",
     "text": [
      "/anaconda3/lib/python3.6/site-packages/matplotlib/font_manager.py:1328: UserWarning: findfont: Font family ['serif'] not found. Falling back to DejaVu Sans\n",
      "  (prop.get_family(), self.defaultFamily[fontext]))\n"
     ]
    },
    {
     "data": {
      "image/png": "[encoded data removed]",
      "text/plain": [
       "<Figure size 244.354x151.019 with 1 Axes>"
      ]
     },
     "metadata": {
      "image/png": {
       "height": 158,
       "width": 236
      }
     },
     "output_type": "display_data"
    }
   ],
   "source": [
    "## Let's take a look\n",
    "\n",
    "fig, ax = plt.subplots() \n",
    "ax.plot(np.arange(0,lmax+1),Cl_all/Cl_all[0], label = \"All sky\",  lw=1.5)\n",
    "ax.plot(np.arange(0,lmax+1),Cl_noise/Cl_noise[0], label = \"Sky without \"+str(loudest_galname), lw=1.5,linestyle = '-.')\n",
    "ax.set_xlabel('$\\ell$')\n",
    "ax.set_ylabel('$C_\\ell/C_{0}$')\n",
    "ax.minorticks_on()\n",
    "plt.axvline(x=4, ymin=0, ymax = 1, linewidth=1.0, linestyle =\":\", label = \"PTA angular resolution\", c='g')\n",
    "ax.legend(loc='best',frameon=False)\n",
    "plt.xlim(0,50)\n",
    "#plt.savefig('plots_mm13_34/step_4/Cl_'+str(loudest_galname)+'_wLimit_SMOOTH.pdf', bbox_inches='tight')"
   ]
  },
  {
   "cell_type": "code",
   "execution_count": null,
   "metadata": {},
   "outputs": [],
   "source": [
    "2400/75000"
   ]
  },
  {
   "cell_type": "code",
   "execution_count": null,
   "metadata": {},
   "outputs": [],
   "source": [
    "550/10000"
   ]
  },
  {
   "cell_type": "code",
   "execution_count": null,
   "metadata": {},
   "outputs": [],
   "source": [
    "800/10000"
   ]
  },
  {
   "cell_type": "code",
   "execution_count": null,
   "metadata": {},
   "outputs": [],
   "source": [
    "1100/10000"
   ]
  },
  {
   "cell_type": "code",
   "execution_count": null,
   "metadata": {},
   "outputs": [],
   "source": []
  }
 ],
 "metadata": {
  "kernelspec": {
   "display_name": "Python 3",
   "language": "python",
   "name": "python3"
  },
  "language_info": {
   "codemirror_mode": {
    "name": "ipython",
    "version": 3
   },
   "file_extension": ".py",
   "mimetype": "text/x-python",
   "name": "python",
   "nbconvert_exporter": "python",
   "pygments_lexer": "ipython3",
   "version": "3.6.5"
  }
 },
 "nbformat": 4,
 "nbformat_minor": 1
}
