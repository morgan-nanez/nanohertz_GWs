{
 "cells": [
  {
   "cell_type": "markdown",
   "metadata": {},
   "source": [
    "# Map detected galaxies after 15, 20, 25 years"
   ]
  },
  {
   "cell_type": "markdown",
   "metadata": {},
   "source": [
    "###  Chiara Mingarelli,  mingarelli@gmail.com, simulation curves from J. A. Ellis"
   ]
  },
  {
   "cell_type": "code",
   "execution_count": 1,
   "metadata": {},
   "outputs": [],
   "source": [
    "#!/usr/bin/env python\n",
    "from __future__ import division\n",
    "import sys, os\n",
    "import math\n",
    "import numpy as np\n",
    "import matplotlib.pyplot as plt\n",
    "from math import pi, cos, sin, log10\n",
    "import healpy as hp\n",
    "import plot_mpl2\n",
    "import collections\n",
    "from io import StringIO\n",
    "\n",
    "from matplotlib.ticker import FormatStrFormatter, LinearLocator, NullFormatter, NullLocator, MultipleLocator\n",
    "\n",
    "%matplotlib inline\n",
    "%config InlineBackend.figure_format = \"retina\""
   ]
  },
  {
   "cell_type": "code",
   "execution_count": 2,
   "metadata": {},
   "outputs": [],
   "source": [
    "# plotting preamble (credit J. Ellis)\n",
    "\n",
    "fig_width_pt = 245.27 #513.17           # Get this from LaTeX using \\showthe\\columnwidth\n",
    "inches_per_pt = 1.0/72.27               # Convert pt to inches\n",
    "golden_mean = (np.sqrt(5)-1.0)/2.0      # Aesthetic ratio\n",
    "fig_width = fig_width_pt*inches_per_pt  # width in inches\n",
    "fig_height =fig_width*golden_mean       # height in inches\n",
    "fig_size = [fig_width,fig_height]\n",
    "\n",
    "params = {'backend': 'pdf',\n",
    "        'axes.labelsize': 7,\n",
    "        'lines.markersize': 2,\n",
    "        'font.size': 7,\n",
    "        'xtick.major.size':6,\n",
    "        'xtick.minor.size':3,  \n",
    "        'ytick.major.size':6,\n",
    "        'ytick.minor.size':3, \n",
    "        'xtick.major.width':0.5,\n",
    "        'ytick.major.width':0.5,\n",
    "        'xtick.minor.width':0.5,\n",
    "        'ytick.minor.width':0.5,\n",
    "        'lines.markeredgewidth':1,\n",
    "        'axes.linewidth':1.0,\n",
    "        'legend.fontsize': 7,\n",
    "        'xtick.labelsize': 7,\n",
    "        'ytick.labelsize': 7,\n",
    "        'savefig.dpi':200,\n",
    "        'path.simplify':True,\n",
    "        'font.serif':'Times',\n",
    "        'text.latex.preamble': [r'\\usepackage{amsmath}'],\n",
    "        'text.usetex':True,\n",
    "        #'axes.color_cycle': ['b', 'lime', 'r', 'purple', 'g', 'c', 'm', 'orange', 'darkblue', \\\n",
    "        #                        'darkcyan', 'y','orangered','chartreuse','brown','deeppink','lightgreen', 'k'],\n",
    "        #'font.serif':cm,\n",
    "        'figure.figsize': fig_size}\n",
    "plt.rcParams.update(params)"
   ]
  },
  {
   "cell_type": "code",
   "execution_count": 3,
   "metadata": {},
   "outputs": [],
   "source": [
    "# simulated CW curves (white noise)\n",
    "sim1a = np.loadtxt(\"../../detection_curves/cw_simulation_Ared_0_dp_0.95_fap_0.05_T_15.txt\") # 2sigma, DP=0.95, 15 yrs\n",
    "sim2b = np.loadtxt(\"../../detection_curves/cw_simulation_Ared_0_dp_0.95_fap_0.05_T_20.txt\") # 2sigma, DP=0.95, 20 yrs\n",
    "sim3c = np.loadtxt(\"../../detection_curves/cw_simulation_Ared_0_dp_0.95_fap_0.05_T_25.txt\") # 2sigma, DP=0.95, 25 yrs\n",
    "\n",
    "sim1d = np.loadtxt(\"../../detection_curves/cw_simulation_Ared_0_dp_0.95_fap_0.003_T_15.txt\") # 3sigma, DP=0.95, 15 yrs\n",
    "sim2e = np.loadtxt(\"../../detection_curves/cw_simulation_Ared_0_dp_0.95_fap_0.003_T_20.txt\") # 3sigma, DP=0.95, 20 yrs\n",
    "sim3f = np.loadtxt(\"../../detection_curves/cw_simulation_Ared_0_dp_0.95_fap_0.003_T_25.txt\") # 3sigma, DP=0.95, 25 yrs\n",
    "\n",
    "sim1g = np.loadtxt(\"../../detection_curves/cw_simulation_Ared_0_dp_0.95_fap_0.0001_T_15.txt\") # 1e-4, DP=0.95, 15 yrs\n",
    "sim2h = np.loadtxt(\"../../detection_curves/cw_simulation_Ared_0_dp_0.95_fap_0.0001_T_20.txt\") # 1e-4, DP=0.95, 20 yrs\n",
    "sim3i = np.loadtxt(\"../../detection_curves/cw_simulation_Ared_0_dp_0.95_fap_0.0001_T_25.txt\") # 1e-4, DP=0.95, 25 yrs"
   ]
  },
  {
   "cell_type": "code",
   "execution_count": 4,
   "metadata": {},
   "outputs": [],
   "source": [
    "# simulated frequency and strain\n",
    "simStrain1 = sim1a[:,1] # 15 yrs, 0 red noise, 2sigma\n",
    "simFreq1 = sim1a[:,0]\n",
    "simStrain2 = sim2b[:,1] # 20 yrs, 0 red noise, 2sigma\n",
    "simFreq2 = sim2b[:,0]\n",
    "simStrain3 = sim3c[:,1] # 25 yrs, 0 red noise, 2sigma\n",
    "simFreq3 = sim3c[:,0]\n",
    "\n",
    "simStrain4 = sim1d[:,1] # 15 yrs, 0 red noise, 3 sigma\n",
    "simFreq4 = sim1d[:,0]\n",
    "simStrain5 = sim2e[:,1] # 20 yrs, 0 red noise, 3 sigma\n",
    "simFreq5 = sim2e[:,0]\n",
    "simStrain6 = sim3f[:,1] # 25 yrs, 0 red noise, 3 sigma\n",
    "simFreq6 = sim3f[:,0]\n",
    "\n",
    "simStrain7 = sim1g[:,1] # 15 yrs, 0 red noise, 1e-4\n",
    "simFreq7 = sim1g[:,0]\n",
    "simStrain8 = sim2h[:,1] # 20 yrs, 0 red noise, 1e-4\n",
    "simFreq8 = sim2h[:,0]\n",
    "simStrain9 = sim3i[:,1] # 25 yrs, 0 red noise, 1e-4\n",
    "simFreq9 = sim3i[:,0]\n",
    "\n"
   ]
  },
  {
   "cell_type": "code",
   "execution_count": 5,
   "metadata": {},
   "outputs": [],
   "source": [
    "# RA_tot, DEC_tot, gw_freq_vec, strain_vec, mchirp_rec, q_rec, gal_cat_name, dist_list, mstar_list, save_p, \n",
    "# gal_choice, T_z_list, mergRate_list, t2c_list, z_list, r_inf_list, friction_list, hardening_list, num_zeros"
   ]
  },
  {
   "cell_type": "code",
   "execution_count": 6,
   "metadata": {},
   "outputs": [],
   "source": [
    "# simulated CW curves (red noise right now)\n",
    "Rsim1a = np.loadtxt(\"../../detection_curves/cw_simulation_Ared_4e-16_dp_0.95_fap_0.05_T_15.txt\") # 2sigma, DP=0.95, 15 yrs\n",
    "Rsim2b = np.loadtxt(\"../../detection_curves/cw_simulation_Ared_4e-16_dp_0.95_fap_0.05_T_20.txt\") # 2sigma, DP=0.95, 20 yrs\n",
    "Rsim3c = np.loadtxt(\"../../detection_curves/cw_simulation_Ared_4e-16_dp_0.95_fap_0.05_T_25.txt\") # 2sigma, DP=0.95, 25 yrs\n",
    "\n",
    "Rsim1d = np.loadtxt(\"../../detection_curves/cw_simulation_Ared_4e-16_dp_0.95_fap_0.003_T_15.txt\") # 3sigma, DP=0.95, 15 yrs\n",
    "Rsim2e = np.loadtxt(\"../../detection_curves/cw_simulation_Ared_4e-16_dp_0.95_fap_0.003_T_20.txt\") # 3sigma, DP=0.95, 20 yrs\n",
    "Rsim3f = np.loadtxt(\"../../detection_curves/cw_simulation_Ared_4e-16_dp_0.95_fap_0.003_T_25.txt\") # 3sigma, DP=0.95, 25 yrs\n",
    "\n",
    "Rsim1g = np.loadtxt(\"../../detection_curves/cw_simulation_Ared_4e-16_dp_0.95_fap_0.0001_T_15.txt\") # 1e-4, DP=0.95, 15 yrs\n",
    "Rsim2h = np.loadtxt(\"../../detection_curves/cw_simulation_Ared_4e-16_dp_0.95_fap_0.0001_T_20.txt\") # 1e-4, DP=0.95, 20 yrs\n",
    "Rsim3i = np.loadtxt(\"../../detection_curves/cw_simulation_Ared_4e-16_dp_0.95_fap_0.0001_T_25.txt\") # 1e-4, DP=0.95, 25 yrs\n",
    "\n",
    "# simulated frequency and strain\n",
    "RsimStrain1 = Rsim1a[:,1] # 15 yrs, 0 red noise, 2sigma\n",
    "RsimFreq1 = Rsim1a[:,0]\n",
    "RsimStrain2 = Rsim2b[:,1] # 20 yrs, 0 red noise, 2sigma\n",
    "RsimFreq2 = Rsim2b[:,0]\n",
    "RsimStrain3 = Rsim3c[:,1] # 25 yrs, 0 red noise, 2sigma\n",
    "RsimFreq3 = Rsim3c[:,0]\n",
    "\n",
    "RsimStrain4 = Rsim1d[:,1] # 15 yrs, 0 red noise, 3 sigma\n",
    "RsimFreq4 = Rsim1d[:,0]\n",
    "RsimStrain5 = Rsim2e[:,1] # 20 yrs, 0 red noise, 3 sigma\n",
    "RsimFreq5 = Rsim2e[:,0]\n",
    "RsimStrain6 = Rsim3f[:,1] # 25 yrs, 0 red noise, 3 sigma\n",
    "RsimFreq6 = Rsim3f[:,0]\n",
    "\n",
    "RsimStrain7 = Rsim1g[:,1] # 15 yrs, 0 red noise, 1e-4\n",
    "RsimFreq7 = Rsim1g[:,0]\n",
    "RsimStrain8 = Rsim2h[:,1] # 20 yrs, 0 red noise, 1e-4\n",
    "RsimFreq8 = Rsim2h[:,0]\n",
    "RsimStrain9 = Rsim3i[:,1] # 25 yrs, 0 red noise, 1e-4\n",
    "RsimFreq9 = Rsim3i[:,0]\n"
   ]
  },
  {
   "cell_type": "code",
   "execution_count": 7,
   "metadata": {},
   "outputs": [],
   "source": [
    "#get data from all realizations\n",
    "data_filename = \"../../fake_data/MM13_big_test.txt\"\n",
    "\n",
    "count = 0 #variable used to count number of sources per realization\n",
    "file_s = [] #numbers of sources per relaization\n",
    "RA_all = []\n",
    "DEC_all = []\n",
    "freq_all = []\n",
    "strain_all = []\n",
    "gal_name_all = []\n",
    "pi_all = []\n",
    "lum_all = []\n",
    "q_all = []\n",
    "dist_all = []\n",
    "mc_all = []\n",
    "\n",
    "\n",
    "#temps used to help seperate data by relalization\n",
    "temp_RA = []\n",
    "temp_DEC = []\n",
    "temp_freq = []\n",
    "temp_strain = []\n",
    "temp_file_s = []\n",
    "temp_gal_name = []\n",
    "temp_pi = []\n",
    "temp_lum = []\n",
    "temp_q = []\n",
    "temp_dist = []\n",
    "temp_mc = []\n",
    "\n",
    "with open(data_filename) as f:\n",
    "    \n",
    "    temp_RA = []\n",
    "    temp_DEC = []\n",
    "    temp_freq = []\n",
    "    temp_strain = []\n",
    "    temp_gal_name = []\n",
    "    temp_pi = []\n",
    "    temp_lum = []\n",
    "    temp_q = []\n",
    "    temp_dist = []\n",
    "    temp_mc = []\n",
    "    \n",
    "    for line in f:\n",
    "        if len(line) < 50:\n",
    "            \n",
    "            #add the collected data to the real lists\n",
    "            \n",
    "            file_s.append(count)\n",
    "            RA_all.append(temp_RA) #phi, add pi to this for healpix maps\n",
    "            DEC_all.append(temp_DEC) #theta\n",
    "            freq_all.append(temp_freq)\n",
    "            strain_all.append(temp_strain)\n",
    "            gal_name_all.append(temp_gal_name)\n",
    "            pi_all.append(temp_pi)\n",
    "            lum_all.append(temp_lum)\n",
    "            q_all.append(temp_q)\n",
    "            dist_all.append(temp_dist)\n",
    "            mc_all.append(temp_mc)\n",
    "\n",
    "            \n",
    "            #reset the temp lists\n",
    "            \n",
    "            temp_RA = []\n",
    "            temp_DEC = []\n",
    "            temp_freq = []\n",
    "            temp_strain = []\n",
    "            temp_gal_name = []\n",
    "            temp_pi = []\n",
    "            temp_lum = []\n",
    "            temp_q = []\n",
    "            temp_dist = []\n",
    "            temp_mc = []\n",
    "            count = 0\n",
    "            \n",
    "        else:\n",
    "            \n",
    "            #data is split into its corresponding lists\n",
    "            \n",
    "            splitted = line.split(\" \") \n",
    "    \n",
    "            temp_RA.append(float(splitted[0])) #phi, add pi to this for healpix maps\n",
    "            temp_DEC.append(float(splitted[1])) #theta\n",
    "            temp_freq.append(float(splitted[2]))\n",
    "            temp_strain.append(float(splitted[3]))\n",
    "            temp_gal_name.append(str(splitted[6]))\n",
    "            temp_pi.append(float(splitted[9]))\n",
    "            temp_lum.append(float(splitted[8]))\n",
    "            temp_q.append(float(splitted[5]))\n",
    "            temp_dist.append(float(splitted[7]))\n",
    "            temp_mc.append(float(splitted[4]))\n",
    "            count+=1\n",
    "            \n",
    "            \n",
    "#adding final realization\n",
    "file_s.append(count)\n",
    "RA_all.append(temp_RA) #phi, add pi to this for healpix maps\n",
    "DEC_all.append(temp_DEC) #theta\n",
    "freq_all.append(temp_freq)\n",
    "strain_all.append(temp_strain)\n",
    "gal_name_all.append(temp_gal_name)\n",
    "pi_all.append(temp_pi)\n",
    "lum_all.append(temp_lum)\n",
    "q_all.append(temp_q)\n",
    "dist_all.append(temp_dist)\n",
    "mc_all.append(temp_mc)                           \n",
    "\n",
    "\n",
    "\n",
    "#deleting intial empty array ex) stall = [[], [2], [3]] --> [[2], [3]]\n",
    "file_s = file_s[1:]\n",
    "RA_all = RA_all[1:]\n",
    "DEC_all = DEC_all[1:]\n",
    "freq_all = freq_all[1:]\n",
    "strain_all = strain_all[1:]\n",
    "gal_name_all = gal_name_all[1:]\n",
    "pi_all = pi_all[1:]\n",
    "lum_all = lum_all[1:]\n",
    "q_all = q_all[1:]\n",
    "dist_all = dist_all[1:]\n",
    "mc_all = mc_all[1:]\n",
    "\n"
   ]
  },
  {
   "cell_type": "code",
   "execution_count": 8,
   "metadata": {},
   "outputs": [
    {
     "name": "stdout",
     "output_type": "stream",
     "text": [
      "1140\n"
     ]
    }
   ],
   "source": [
    "\"\"\"ONLY THE LOUDEST\"\"\"\n",
    "# points for one sky\n",
    "final_file = np.genfromtxt(\"../../detectedSkies/final_skies/mm13_mbul_final_test0126.txt\")\n",
    "final_strain = final_file[:,8]\n",
    "loudest_filename = final_file[:,9]\n",
    "local_index = final_strain.argmax()\n",
    "loudest_index = int(loudest_filename[local_index])\n",
    "print(loudest_index)\n",
    "\n",
    "\n",
    "\n",
    "allF_loudest = []\n",
    "allS_loudest = []\n",
    "allMc_loudest = []\n",
    "allQ_loudest = []\n",
    "allPi_loudest = []\n",
    "allLum_loudest = []\n",
    "all_name_loudest = []\n",
    "allD_loudest = []\n",
    "\n",
    "# condensed here for an exmple realization\n",
    "allF_loudest.append(freq_all[loudest_index])\n",
    "allS_loudest.append(strain_all[loudest_index])\n",
    "allMc_loudest.append(mc_all[loudest_index])\n",
    "allQ_loudest.append(q_all[loudest_index])\n",
    "allD_loudest.append(dist_all[loudest_index])\n",
    "allLum_loudest.append(lum_all[loudest_index]) \n",
    "allPi_loudest.append(pi_all[loudest_index])\n",
    "all_name_loudest.append(gal_name_all[loudest_index])"
   ]
  },
  {
   "cell_type": "code",
   "execution_count": 9,
   "metadata": {},
   "outputs": [
    {
     "data": {
      "text/plain": [
       "[['NGC1004',\n",
       "  'UGC07410',\n",
       "  'NGC0900',\n",
       "  'PGC200538',\n",
       "  '2MASXJ1326221',\n",
       "  'PGC323807',\n",
       "  'PGC829883',\n",
       "  'PGC181313',\n",
       "  'ESO265-027',\n",
       "  'PGC046101',\n",
       "  'PGC1396460',\n",
       "  '6dFJ1921352-2',\n",
       "  'PGC027107',\n",
       "  'IC0542',\n",
       "  'NGC1583',\n",
       "  'PGC005031',\n",
       "  'PGC072224',\n",
       "  'PGC018579',\n",
       "  'NGC5769',\n",
       "  'NGC1765',\n",
       "  'NGC7728',\n",
       "  'PGC043036',\n",
       "  'ESO291-020',\n",
       "  'PGC044107',\n",
       "  'NGC6876',\n",
       "  'NGC3713',\n",
       "  'PGC053918',\n",
       "  'IC1849',\n",
       "  'PGC020641',\n",
       "  'ESO342-008',\n",
       "  'PGC095507',\n",
       "  'PGC031116',\n",
       "  'PGC3088963',\n",
       "  'UGC01504',\n",
       "  'ESO253-015',\n",
       "  'ESO386-014',\n",
       "  '2MASXJ2235476',\n",
       "  'PGC919208',\n",
       "  'PGC3097003',\n",
       "  'PGC200396',\n",
       "  'IC2441',\n",
       "  'PGC054804',\n",
       "  'PGC056587',\n",
       "  'PGC3097046',\n",
       "  'IC0575',\n",
       "  'PGC160856',\n",
       "  'PGC135251',\n",
       "  'PGC1125670',\n",
       "  'PGC053982',\n",
       "  'ESO215-010',\n",
       "  'PGC3089639',\n",
       "  'PGC3080790',\n",
       "  'UGC00902',\n",
       "  'NGC6163',\n",
       "  'PGC1025931',\n",
       "  'PGC028802',\n",
       "  'NGC0756',\n",
       "  'PGC013228',\n",
       "  'PGC054744',\n",
       "  'UGC01318',\n",
       "  'NGC3411',\n",
       "  'NGC0813',\n",
       "  'PGC093999',\n",
       "  'PGC3091412',\n",
       "  'NGC1316',\n",
       "  'PGC048213',\n",
       "  'PGC3084875',\n",
       "  'PGC020931',\n",
       "  'PGC014952',\n",
       "  'PGC053394',\n",
       "  'PGC043521',\n",
       "  'NGC7236',\n",
       "  'PGC3090831',\n",
       "  'UGC02086',\n",
       "  '2MASXJ0536336',\n",
       "  'PGC050296',\n",
       "  'PGC491957',\n",
       "  'NGC5092',\n",
       "  'PGC022580',\n",
       "  'PGC1524436',\n",
       "  'PGC001481',\n",
       "  'PGC015143',\n",
       "  'PGC058363',\n",
       "  'ESO197-018',\n",
       "  'PGC086637',\n",
       "  'PGC063942',\n",
       "  'PGC2165924',\n",
       "  'PGC101158',\n",
       "  'PGC043646',\n",
       "  '2MASXJ0522452',\n",
       "  'NGC1236',\n",
       "  'PGC133267',\n",
       "  'PGC007894',\n",
       "  'PGC3091308',\n",
       "  'PGC003782',\n",
       "  'UGC08704']]"
      ]
     },
     "execution_count": 9,
     "metadata": {},
     "output_type": "execute_result"
    }
   ],
   "source": [
    "all_name_loudest"
   ]
  },
  {
   "cell_type": "code",
   "execution_count": 10,
   "metadata": {},
   "outputs": [
    {
     "data": {
      "text/plain": [
       "(1218,)"
      ]
     },
     "execution_count": 10,
     "metadata": {},
     "output_type": "execute_result"
    }
   ],
   "source": [
    "all_name = np.array(gal_name_all)\n",
    "all_name.shape"
   ]
  },
  {
   "cell_type": "markdown",
   "metadata": {},
   "source": [
    "# Which sources can be detected with simulated IPTA curves?\n"
   ]
  },
  {
   "cell_type": "code",
   "execution_count": 11,
   "metadata": {},
   "outputs": [],
   "source": [
    "# Sources above curve?"
   ]
  },
  {
   "cell_type": "code",
   "execution_count": 12,
   "metadata": {},
   "outputs": [],
   "source": [
    "def find_nearest(array,value):\n",
    "    # http://stackoverflow.com/questions/2566412/find-nearest-value-in-numpy-array\n",
    "    idx = (np.abs(array-value)).argmin()\n",
    "    return idx #return index of array"
   ]
  },
  {
   "cell_type": "code",
   "execution_count": 13,
   "metadata": {},
   "outputs": [],
   "source": [
    "# New sims used below"
   ]
  },
  {
   "cell_type": "code",
   "execution_count": 14,
   "metadata": {},
   "outputs": [],
   "source": [
    "# Sources detected the most timesd (\"Hit List\")"
   ]
  },
  {
   "cell_type": "code",
   "execution_count": 20,
   "metadata": {},
   "outputs": [],
   "source": [
    "def find_detected_sr(simFreq,simStrain):\n",
    "    iptaDetectedF = []\n",
    "    iptaDetectedS = []\n",
    "    iptaDetectedN = []\n",
    "    iptaDetectedMc = []\n",
    "    iptaDetectedQ = []\n",
    "    iptaDetectedPi = []\n",
    "    iptaDetectedLum = []\n",
    "    iptaDetectedDist = []\n",
    "\n",
    "    for i in range(len(freq_all)):\n",
    "        for j in range(len(freq_all[i])):\n",
    "            compareFreq = find_nearest(simFreq, freq_all[i][j]) # find the closest freq in inteprolated values to source freq, report index\n",
    "            simStrainX = simStrain[compareFreq] # what is the strain of that source?\n",
    "            if strain_all[i][j] > simStrainX: # can we detect that source?\n",
    "                \n",
    "                iptaDetectedF.append(freq_all[i][j]) # add it to a detected list\n",
    "                iptaDetectedS.append(strain_all[i][j]) \n",
    "                iptaDetectedN.append(all_name[i][j]) \n",
    "                iptaDetectedMc.append(mc_all[i][j]) \n",
    "                iptaDetectedQ.append(q_all[i][j]) \n",
    "                iptaDetectedPi.append(pi_all[i][j]) \n",
    "                iptaDetectedLum.append(lum_all[i][j]) \n",
    "                iptaDetectedDist.append(dist_all[i][j])\n",
    "    print(iptaDetectedN)\n",
    "    return iptaDetectedF, iptaDetectedS, iptaDetectedN, iptaDetectedMc, iptaDetectedQ, iptaDetectedPi, iptaDetectedLum, iptaDetectedDist"
   ]
  },
  {
   "cell_type": "code",
   "execution_count": 21,
   "metadata": {},
   "outputs": [
    {
     "name": "stdout",
     "output_type": "stream",
     "text": [
      "['UGC00621', 'NGC3115', 'NGC3115', 'NGC0890', 'ESO528-019', 'NGC5101', 'NGC4649', 'NGC7562', 'PGC2793346', 'IC1459', 'NGC3115', 'NGC3115', 'PGC065597', 'NGC3115', 'NGC1399', 'ESO284-053', 'NGC3158', 'NGC6876', 'NGC4382', 'NGC1277', 'NGC1316', 'NGC1275', 'NGC1316']\n",
      "['NGC5101', 'PGC2793346', 'IC1459', 'PGC065597', 'NGC3115', 'ESO284-053', 'NGC4382', 'NGC1277', 'NGC1316', 'NGC1275', 'NGC1316']\n",
      "['IC1459', 'PGC065597', 'NGC3115', 'NGC4382', 'NGC1316', 'NGC1275', 'NGC1316']\n"
     ]
    }
   ],
   "source": [
    "# 15 yrs white noise,  2 sigma\n",
    "iptaDetectedF, iptaDetectedS, iptaDetectedN, iptaDetectedMc, iptaDetectedQ, iptaDetectedPi, iptaDetectedLum, \\\n",
    "iptaDetectedDist = find_detected_sr(simFreq1,simStrain1)\n",
    "\n",
    "# 15 yrs white noise,  3 sigma\n",
    "iptaDetectedF4, iptaDetectedS4, iptaDetectedN4, iptaDetectedMc4, iptaDetectedQ4, iptaDetectedPi4, iptaDetectedLum4, \\\n",
    "iptaDetectedDist4 = find_detected_sr(simFreq4,simStrain4)\n",
    "            \n",
    "# 15 yrs white noise, 1e-4, 3.9 sigma\n",
    "iptaDetectedF7, iptaDetectedS7, iptaDetectedN7, iptaDetectedMc7, iptaDetectedQ7, iptaDetectedPi7, iptaDetectedLum7, \\\n",
    "iptaDetectedDist7 = find_detected_sr(simFreq7,simStrain7)"
   ]
  },
  {
   "cell_type": "code",
   "execution_count": 22,
   "metadata": {},
   "outputs": [
    {
     "name": "stdout",
     "output_type": "stream",
     "text": [
      "['NGC1332', 'IC0659', '2MASXJ2024063', 'UGC00621', 'NGC5111', 'PGC054671', 'ESO306-017', 'NGC3115', 'NGC7265', 'IC4926', 'NGC5090', 'NGC4760', 'NGC6203', 'PGC031277', 'NGC3557', 'NGC5322', 'NGC3115', 'IC4255', 'UGC01684', 'NGC7618', 'NGC5084', 'NGC0524', 'PGC3093211', 'PGC3076997', 'NGC6240', 'NGC3115', 'PGC2065632', 'PGC025055', 'NGC1505', 'NGC0890', 'IC1459', 'NGC3886', 'ESO528-019', 'PGC021993', 'NGC7213', 'NGC4526', 'NGC3937', 'ESO488-027', 'PGC016867', 'A3565BCG', 'NGC6454', 'PGC101257', 'PGC068799', 'PGC165939', 'PGC030503', 'NGC7242', 'NGC3115', 'NGC5101', 'NGC2320', 'NGC5846', 'NGC6893', 'NGC6935', 'NGC1316', 'NGC6251', 'NGC0507', '2MASXJ0209257', 'ESO462-015', '2MASXJ2020022', 'IC4350', 'NGC3115', 'NGC6816', 'ESO121-028', 'NGC3923', 'NGC7123', 'NGC4594', 'PGC075991', 'NGC4594', 'NGC4594', 'NGC0128', 'ESO323-077', 'NGC4382', 'PGC062122', 'PGC033000', 'NGC2746', 'NGC4472', 'ESO280-007', 'UGC03792', 'IC4815', 'PGC045227', 'NGC4645A', 'PGC000320', 'PGC1281329', 'PGC065215', 'NGC0810', 'NGC1272', 'NGC1692', 'NGC2507', 'NGC2274', 'NGC0057', 'NGC3406', 'NGC4104', 'PGC200509', 'NGC4374', 'PGC061513', 'PGC048313', 'NGC5540', 'NGC1765', 'NGC0897', 'NGC4526', 'NGC4594', 'NGC4594', 'NGC4649', 'NGC6183', 'NGC3139', 'UGC03023', 'NGC4382', 'UGC10579', 'NGC1218', 'NGC4649', 'NGC3348', 'NGC5061', 'NGC2663', 'PGC141864', 'NGC1167', 'NGC7014', 'NGC6998', 'IC4765', 'PGC021599', 'ESO575-043', 'NGC7562', 'NGC3557', 'IC0144', 'ESO035-011', 'NGC1275', 'PGC011576', 'UGC10275', 'PGC148459', 'NGC5353', 'NGC4594', '2MASXJ2024063', 'PGC017033', 'PGC017076', 'PGC036212', 'NGC4594', 'NGC5084', 'UGC12733', 'NGC1316', 'ESO005-010', 'PGC127625', 'NGC6921', 'PGC200208', 'PGC055231', 'NGC4884', 'IC4742', 'NGC2332', 'NGC4594', 'ESO552-014', 'ESO445-002', 'ESO264-031', 'NGC7761', 'NGC6903', 'UGC10918', 'NGC6150', 'PGC2793346', 'NGC4594', 'NGC6861', 'NGC1045', 'UGC04775', 'PGC408201', 'NGC1167', 'NGC6454', 'NGC6861', 'NGC4649', 'NGC5846', 'NGC1399', 'NGC4374', 'IC1079', 'NGC4472', 'IC1459', 'UGC02783', 'NGC4374', 'NGC2974', 'NGC3115', 'NGC3115', 'NGC4374', 'NGC3665', 'NGC3884', 'ESO308-005', 'NGC1380', 'UGC00367', 'PGC237369', 'NGC4526', 'NGC4373', 'IC5250B', 'NGC5333', 'NGC5061', 'NGC1275', 'A3565BCG', 'PGC055245', 'NGC3216', 'NGC1217', 'ESO100-022', 'PGC065597', 'NGC3115', 'ESO285-024', 'NGC6127', 'NGC4374', 'NGC3250', 'UGC06394', 'NGC7049', 'ESO415-003', 'NGC3923', 'PGC059827', 'PGC054225', 'PGC095527', 'NGC4374', 'PGC3077780', 'NGC4335', 'NGC4382', 'ESO175-001', 'NGC4594', 'IC1812', 'NGC4594', 'NGC2305', 'NGC4594', 'NGC5333', 'NGC1399', 'ESO349-013', 'ESO255-010', 'PGC059108', 'NGC1167', 'ESO542-023', 'PGC242280', 'ESO507-045', 'NGC4936', 'NGC0507', 'NGC0524', 'PGC059632', 'PGC026250', 'PGC080752', 'ESO284-053', '2MASXJ2024063', 'UGC08431', 'UGC03525', 'NGC4594', 'ESO509-018', 'NGC1399', 'IC1143', 'NGC6968', 'UGC10410', 'PGC059827', 'PGC021646', 'UGC03105', 'NGC3283', 'NGC1380', 'UGC05291', 'NGC4594', 'PGC016513', 'NGC4594', 'A3565BCG', 'NGC3823', 'UGC02468', 'PGC016583', 'PGC1126051', 'PGC045031', 'NGC3158', 'NGC6876', 'NGC2507', 'NGC4382', 'NGC4382', 'ESO552-026', 'ESO445-002', 'IC1625', 'NGC4594', 'PGC022985', 'NGC3115', 'NGC0708', 'NGC4594', 'NGC1277', 'NGC4374', 'NGC4874', 'ESO175-001', 'NGC6660', 'PGC2023632', 'PGC088269', 'ESO284-053', 'ESO346-003', 'NGC2974', 'NGC1316', 'ESO112-008A', 'NGC1275', 'PGC130523', 'A3565BCG', 'NGC5078', 'NGC0665', 'NGC2513', 'NGC4594', 'NGC5557', 'NGC4472', 'PGC027107', 'NGC5011', 'NGC1726', 'UGC12282', 'NGC3923', 'NGC3115', 'NGC4594', 'NGC4944', 'NGC7771', 'UGC02902', 'NGC3842', 'NGC5208', 'ESO443-052', 'NGC4783', 'A3565BCG', 'NGC1275', 'NGC4594', 'ESO234-052', 'NGC3115', 'NGC1316', 'PGC2772950', 'NGC5865', 'NGC5846', 'NGC7213', 'NGC3311', 'NGC5111', 'NGC4594', 'NGC1700', 'NGC4594', 'PGC029744', 'NGC5077', 'NGC3311', 'NGC4649', 'PGC021209', 'PGC058492', '6dFJ1225054-5', 'PGC050523', 'NGC1332', '2MASXJ2024063', '2MASXJ2024063', '2MASXJ2024063', '2MASXJ2024063', '2MASXJ2024063']\n",
      "['NGC1332', '2MASXJ2024063', 'UGC00621', 'ESO306-017', 'NGC3115', 'NGC4760', 'NGC3557', 'NGC3115', 'IC4255', 'NGC5084', 'PGC3076997', 'NGC3115', 'PGC2065632', 'NGC0890', 'IC1459', 'ESO528-019', 'NGC4526', 'NGC3937', 'PGC030503', 'NGC3115', 'NGC5101', 'NGC6893', 'NGC1316', 'NGC6251', 'NGC0507', 'ESO462-015', 'NGC3115', 'NGC3923', 'NGC4594', 'PGC075991', 'NGC0128', 'ESO323-077', 'NGC4382', 'PGC062122', 'NGC4472', 'IC4815', 'NGC4645A', 'NGC1692', 'NGC2274', 'NGC0057', 'NGC4104', 'PGC048313', 'NGC0897', 'NGC4526', 'NGC4649', 'UGC03023', 'UGC10579', 'NGC4649', 'NGC7014', 'ESO575-043', 'NGC7562', 'IC0144', 'ESO035-011', 'PGC011576', 'UGC10275', 'PGC148459', '2MASXJ2024063', 'PGC017076', 'NGC1316', 'PGC200208', 'PGC055231', 'NGC4884', 'IC4742', 'NGC2332', 'ESO445-002', 'UGC10918', 'PGC2793346', 'NGC1045', 'PGC408201', 'NGC6454', 'NGC4649', 'NGC4472', 'IC1459', 'UGC02783', 'NGC4374', 'NGC2974', 'NGC3115', 'NGC3115', 'NGC4374', 'UGC00367', 'PGC237369', 'NGC4373', 'NGC5333', 'NGC5061', 'NGC1275', 'PGC065597', 'NGC3115', 'NGC6127', 'NGC3250', 'PGC054225', 'PGC095527', 'NGC4374', 'NGC4335', 'ESO175-001', 'IC1812', 'NGC1399', 'PGC242280', 'ESO507-045', 'NGC0524', 'ESO284-053', '2MASXJ2024063', 'NGC1399', 'IC1143', 'PGC059827', 'NGC1380', 'UGC02468', 'NGC3158', 'NGC6876', 'NGC4382', 'ESO552-026', 'NGC3115', 'NGC4594', 'NGC1277', 'NGC4874', 'NGC6660', 'NGC1316', 'NGC5078', 'NGC2513', 'NGC5557', 'NGC3923', 'NGC3115', 'NGC3842', 'A3565BCG', 'NGC1275', 'NGC3115', 'NGC1316', 'NGC5865', 'NGC1700', 'NGC4649', '6dFJ1225054-5', 'PGC050523', '2MASXJ2024063', '2MASXJ2024063', '2MASXJ2024063', '2MASXJ2024063', '2MASXJ2024063']\n",
      "['NGC1332', 'UGC00621', 'ESO306-017', 'NGC3115', 'NGC4760', 'NGC3115', 'NGC0890', 'IC1459', 'ESO528-019', 'NGC3937', 'PGC030503', 'NGC3115', 'NGC5101', 'NGC3923', 'NGC0128', 'NGC4382', 'PGC062122', 'PGC048313', 'NGC4526', 'NGC4649', 'UGC10579', 'NGC4649', 'NGC7014', 'ESO575-043', 'NGC7562', 'NGC1316', 'NGC4884', 'ESO445-002', 'PGC2793346', 'NGC4649', 'IC1459', 'UGC02783', 'NGC2974', 'NGC3115', 'NGC3115', 'NGC4373', 'NGC5333', 'NGC5061', 'PGC065597', 'NGC3115', 'ESO175-001', 'IC1812', 'NGC1399', 'ESO507-045', 'ESO284-053', 'NGC1399', 'IC1143', 'NGC3158', 'NGC6876', 'NGC4382', 'ESO552-026', 'NGC3115', 'NGC1277', 'NGC1316', 'NGC3923', 'NGC1275', 'NGC1316', 'NGC5865', 'NGC4649']\n"
     ]
    }
   ],
   "source": [
    "# 20 yrs white noise, 2 sigma\n",
    "iptaDetectedF2, iptaDetectedS2, iptaDetectedN2, iptaDetectedMc2, iptaDetectedQ2, iptaDetectedPi2, iptaDetectedLum2, \\\n",
    "iptaDetectedDist2 = find_detected_sr(simFreq2,simStrain2)\n",
    "                        \n",
    "# 20 yrs white noise, 3 sigma\n",
    "iptaDetectedF5, iptaDetectedS5, iptaDetectedN5, iptaDetectedMc5, iptaDetectedQ5, iptaDetectedPi5, iptaDetectedLum5, \\\n",
    "iptaDetectedDist5 = find_detected_sr(simFreq5,simStrain5)\n",
    "        \n",
    "# 20 yrs white noise, 1e-4 sigma\n",
    "iptaDetectedF8, iptaDetectedS8, iptaDetectedN8, iptaDetectedMc8, iptaDetectedQ8, iptaDetectedPi8, iptaDetectedLum8, \\\n",
    "iptaDetectedDist8 = find_detected_sr(simFreq8,simStrain8)"
   ]
  },
  {
   "cell_type": "code",
   "execution_count": 23,
   "metadata": {},
   "outputs": [
    {
     "name": "stdout",
     "output_type": "stream",
     "text": [
      "['NGC2943', 'NGC0499', 'NGC1332', 'UGC02469', 'NGC4767', 'NGC7123', 'UGC03646', 'ESO187-027', 'PGC062623', 'NGC3348', 'PGC062122', 'IC0659', 'PGC067586', 'NGC1600', 'NGC7792', 'NGC6370', 'PGC063597', 'PGC053321', 'PGC3091666', 'IC5357', 'ESO306-009', 'PGC059596', 'PGC3091558', 'UGC01142', '2MASXJ2024063', 'PGC1704186', 'PGC209223', 'PGC010561', 'UGC00621', 'PGC2394629', 'ESO511-023', 'NGC7284', 'NGC4594', 'NGC5111', 'PGC017599', 'NGC5071', 'NGC4594', 'PGC037887', 'PGC019264', 'PGC054671', 'UGC01213', 'NGC1275', 'PGC431994', 'IC4261', 'ESO216-005', 'NGC5208', 'NGC0547', 'NGC5101', 'NGC3557', 'NGC1066', 'IC0034', 'UGC03683', 'ESO306-017', 'PGC3097094', 'NGC3115', 'NGC7265', 'NGC7469', 'PGC061186', 'IC4926', 'PGC050790', 'NGC5090', 'NGC0708', 'PGC018237', 'NGC6483', 'NGC1060', 'PGC214704', 'PGC130517', 'IC4329', 'ESO075-043', 'ESO323-034', 'IC5250B', 'NGC4760', 'NGC3771', 'PGC132404', 'PGC061170', 'NGC3562', 'NGC4895', 'NGC5322', 'ESO581-003', 'NGC7049', 'NGC6776', '2MASXJ0609056', 'NGC6203', 'NGC7426', 'PGC132499', 'IC1356', 'PGC799346', 'NGC5557', 'PGC922226', 'PGC031277', 'ESO481-027', 'NGC3557', 'NGC6850', 'NGC6812', 'NGC5322', 'NGC4594', 'PGC2319749', 'NGC4957', 'NGC3304', 'PGC036081', 'PGC035254', 'UGC06276', 'IC0477', 'NGC0050', 'PGC893118', 'NGC0507', 'NGC3115', 'IC4255', 'ESO282-024', 'NGC7396', 'NGC6768', 'IC5088', 'NGC5685', 'UGC01684', 'PGC045873', 'NGC7618', 'NGC2320', 'NGC5078', 'NGC5084', 'UGC03105', 'NGC0524', 'PGC3093211', 'NGC0533', 'UGC02430', 'NGC6364', 'PGC069334', 'PGC3076997', 'IC1224', 'NGC6240', 'PGC046656', 'NGC4783', 'NGC2974', 'ESO136-023', 'NGC4650', 'PGC206224', 'NGC3115', 'PGC2065632', 'ESO326-015', 'NGC2484', '2MASXJ2020022', 'PGC025055', 'PGC160103', 'NGC1505', 'NGC0890', 'NGC1016', 'NGC4594', 'PGC044683', 'PGC046639', 'NGC6868', 'IC1459', 'IC4261', 'A3565BCG', 'NGC3886', 'PGC062122', 'NGC5101', 'UGC04972', 'NGC7025', 'NGC0585', 'ESO150-021', 'NGC0023', 'NGC6903', 'NGC4382', 'PGC101180', 'PGC005695', 'ESO528-019', 'PGC004039', 'PGC021993', 'NGC5018', 'ESO365-029', 'NGC7213', 'PGC3089287', 'IC5250B', 'NGC5044', 'NGC3706', 'NGC1175', 'NGC4526', 'NGC7274', 'UGC05515', 'NGC4555', 'PGC170110', 'NGC6812', 'NGC5101', 'PGC2793386', 'ESO233-022', 'PGC478982', 'PGC004128', 'PGC050923', 'PGC011389', 'NGC6024', 'NGC4686', 'PGC1168196', 'NGC3937', 'ESO488-027', 'NGC7681', 'PGC070255', 'PGC017384', 'NGC6223', 'PGC016867', 'A3565BCG', 'PGC072458', 'PGC138076', 'ESO221-037', 'NGC4594', 'UGC03355', 'PGC019219', 'NGC3091', 'NGC1380', 'A3565BCG', 'NGC6454', 'NGC0612', 'PGC161869', 'IC3205', 'UGC00902', 'PGC3097105', 'NGC4472', 'NGC5090', 'PGC101257', 'PGC068799', 'PGC053913', 'ESO175-001', 'NGC3661', 'PGC030503', 'IC1356', 'PGC019219', 'PGC165939', 'NGC1399', 'PGC030503', 'PGC2190496', 'NGC7242', 'NGC4645A', 'UGC09667', 'NGC1060', 'IC1549', 'NGC3706', 'PGC018204', 'NGC1060', 'NGC1508', 'UGC03087', 'ESO045-011', 'NGC3115', 'ESO488-033', 'NGC5101', 'NGC2320', 'IC1860', 'NGC5846', 'UGC00102', 'NGC6370', 'NGC6893', 'NGC0665', 'NGC6935', 'PGC021471', 'NGC5883', 'NGC0312', 'NGC3285', 'ESO511-023', 'NGC6758', 'PGC043378', 'ESO185-054', 'UGC02783', 'NGC1294', 'ESO462-033', 'NGC7680', 'UGC11950', 'PGC053612', 'NGC7049', 'NGC7776', 'NGC3099', 'PGC053002', 'NGC7583', 'NGC3348', 'NGC7619', 'PGC137853', 'NGC0585', 'PGC992360', 'UGC01855', 'PGC046187', 'NGC1316', 'NGC6311', 'NGC5078', 'NGC6251', 'NGC3492', 'PGC042795', 'NGC0507', 'PGC023141', 'PGC057256', 'NGC6776', 'NGC4884', 'IC4931', 'NGC0612', '2MASXJ0400270', 'PGC024059', 'NGC4594', '2MASXJ0209257', 'NGC4594', 'NGC3309', 'PGC1713927', 'NGC3665', 'PGC072071', 'PGC2075044', 'ESO462-015', 'PGC2030397', 'NGC7362', 'PGC020284', 'NGC0215', '2MASXJ2020022', 'NGC1500', 'IC4350', 'NGC3115', 'PGC036805', 'PGC061084', 'NGC6816', 'PGC043366', 'PGC061331', 'PGC224459', 'NGC5061', 'UGC03894', 'ESO121-028', 'NGC3923', 'PGC137982', 'PGC050691', 'NGC2496', 'UGC02249', 'NGC3158', 'NGC2274', 'NGC7123', 'NGC4594', 'PGC055245', 'NGC3919', 'PGC093135', 'NGC7796', 'PGC134589', 'PGC070343', 'ESO342-027', 'PGC065459', 'PGC075991', 'NGC4594', 'NGC2329', 'PGC148221', 'PGC072210', 'PGC057257', 'PGC021140', 'IC1890', 'ESO219-014', 'PGC046743', 'NGC5018', 'PGC1351875', 'PGC345398', 'NGC1600', 'NGC4594', 'NGC0439', 'NGC3250', '2MASXJ0430401', 'PGC059827', 'PGC022673', 'NGC3271', 'IC0558', 'NGC3615', 'NGC5011', 'NGC3348', 'NGC4125', 'NGC0128', 'ESO323-077', 'NGC4382', 'NGC3309', 'NGC1060', 'PGC062122', 'PGC067982', 'PGC020071', 'PGC033000', 'NGC2746', 'NGC0547', 'NGC2554', 'PGC071814', 'NGC0071', 'NGC6442', 'NGC4472', 'PGC2065632', 'ESO341-029', 'IC0359', 'NGC4696', 'NGC5548', 'PGC338809', 'ESO185-054', 'NGC5525', 'UGC11602', 'NGC3570', 'ESO280-007', 'NGC6758', 'IC0709', 'PGC046874', 'PGC046305', 'UGC03792', 'IC4200', 'NGC0323', 'PGC374930', 'IC4815', 'NGC2496', 'PGC063388', 'UGC00595', 'PGC046656', 'PGC085148', 'PGC019909', 'NGC4594', 'PGC045227', 'NGC0677', 'IC1633', 'UGC10078', 'ESO462-015', 'IC1116', 'NGC1060', 'NGC7680', 'UGC10693', 'NGC4645A', 'NGC5101', 'NGC6861', 'PGC000320', 'IC4556', 'PGC2802370', 'NGC0266', 'NGC5516', 'NGC4884', 'PGC1281329', 'NGC7749', 'UGC02783', 'PGC065215', 'NGC0810', 'PGC006404', 'ESO136-023', 'NGC1272', 'PGC046701', 'NGC5011', 'NGC3598', 'NGC1692', 'ESO086-062', 'NGC1521', 'NGC2507', 'UGC02066', 'NGC6921', 'UGC08483', 'NGC5306', 'PGC028363', 'NGC4650', 'NGC2274', 'IC4200', 'NGC4066', 'NGC4526', 'NGC0057', 'PGC128958', 'NGC3406', 'NGC6962', 'IC1386', 'NGC4104', 'PGC200509', 'NGC6868', 'PGC166041', 'UGC03800', 'NGC4374', 'ESO460-026', 'UGC11481', 'NGC3651', 'IC1860', 'NGC0612', 'PGC080752', 'UGC03800', 'PGC170021', 'NGC0810', 'UGC00361', 'NGC4789', 'NGC2229', 'PGC061513', 'PGC093135', 'NGC4172', 'PGC048313', 'NGC5266', 'IC4926', 'NGC4125', 'NGC4761', 'NGC6861', 'NGC5540', 'NGC1668', 'NGC1765', 'NGC2639', 'NGC5232', 'NGC0897', 'NGC5644', 'NGC4526', 'NGC4594', 'NGC4594', 'NGC4696', 'PGC002145', 'PGC032269', 'PGC026680', 'NGC7197', 'NGC4382', 'NGC0071', 'ESO187-027', 'PGC065987', 'NGC3598', 'NGC0154', 'NGC7728', 'NGC4649', 'NGC6183', 'PGC063852', 'ESO193-022', 'NGC5292', 'PGC063074', 'UGC10084', 'PGC043378', 'NGC3139', 'UGC03023', 'PGC128797', 'PGC684268', 'NGC4382', 'NGC1270', 'UGC10579', 'ESO339-022', 'ESO306-017', 'PGC067449', 'PGC542055', 'NGC4767', 'NGC6868', 'UGC12036', 'NGC1218', 'IC0171', 'PGC2269458', 'NGC4649', 'PGC047848', 'NGC3309', 'NGC3348', 'NGC5061', 'NGC5333', 'NGC3823', 'NGC4789', 'NGC2663', 'PGC141864', 'ESO445-001', 'NGC4782', 'NGC5217', 'ESO185-054', 'NGC1167', 'PGC062634', 'PGC064863', 'NGC4760', 'NGC5111', 'NGC5146', 'PGC036207', 'NGC4696', 'NGC2563', 'NGC7562', 'NGC0057', 'NGC7014', 'NGC2340', 'PGC027787', 'ESO234-068', 'ESO488-013', 'PGC027107', 'IC4931', 'NGC4874', 'PGC646169', 'ESO221-037', 'IC0404', 'NGC0547', 'PGC011703', 'NGC5982', 'ESO205-027', 'ESO323-077', 'NGC6998', 'IC4765', 'PGC021599', 'NGC7242', 'NGC0828', 'PGC014995', 'NGC5423', 'ESO575-043', 'IC3370', 'NGC7330', 'NGC7562', 'NGC0541', 'NGC3557', 'NGC6160', 'ESO057-068', 'PGC051119', 'NGC7265', 'PGC019057', 'NGC3348', 'IC0144', 'PGC210402', 'PGC045321', 'ESO267-011', 'PGC133527', 'A3565BCG', 'PGC017898', 'NGC5322', 'ESO035-011', 'PGC166342', 'ESO461-007', 'PGC013424', 'NGC4472', 'PGC3091118', 'PGC323807', 'PGC013533', 'NGC5345', 'ESO101-018', 'NGC1275', 'NGC4382', 'NGC0682', 'ESO327-023', 'NGC0524', 'PGC019394', '6dFJ1137507-5', 'NGC7274', 'UGC12591', 'NGC2305', 'PGC011576', 'UGC03549', '2MASXJ0708113', 'PGC129124', 'PGC076585', 'NGC4594', 'UGC10275', 'NGC4921', 'NGC3311', 'PGC148459', 'NGC5228', 'PGC043366', 'ESO444-055', 'NGC6399', 'PGC064509', 'NGC6850', 'NGC1573', 'UGC09396', 'NGC5266', 'NGC5353', 'NGC3661', 'UGC11885', 'IC1258', 'NGC4594', '2MASXJ2024063', 'NGC5902', 'PGC029829', 'NGC7049', 'ESO466-021', 'NGC6079', 'PGC017033', 'PGC017898', 'ESO325-040', 'NGC0828', 'PGC131627', 'PGC015524', 'PGC043424', 'ESO233-022', 'PGC017076', 'NGC0312', 'IC1932', 'NGC2484', 'PGC063074', 'NGC3940', 'NGC3557', 'PGC1541581', 'ESO197-021', 'PGC035783', 'NGC0285', 'PGC200509', 'IC2597', 'UGC04051', 'NGC6915', 'PGC036212', 'PGC166342', 'NGC4594', 'NGC5084', 'ESO533-035', 'NGC5078', 'UGC12733', 'IC2597', 'ESO137-008', 'NGC0439', 'PGC012717', 'NGC1700', 'PGC061374', 'PGC001302', 'NGC5357', 'PGC062134', 'NGC3923', 'PGC049330', 'ESO486-023', 'ESO175-001', 'NGC3886', 'NGC7796', 'ESO190-012', 'PGC064671', 'NGC0750', 'NGC4594', 'NGC5084', 'NGC6113', 'PGC065924', 'NGC1316', 'ESO005-010', 'NGC7578B', 'NGC6220', 'NGC5077', 'PGC127625', 'NGC6921', 'PGC047154', 'PGC200208', 'IC0670', 'NGC1175', 'PGC055231', 'PGC2246289', 'NGC4884', 'NGC4783', 'IC4742', 'NGC1200', 'NGC2332', 'PGC033880', 'NGC3352', 'NGC4594', 'NGC1726', 'PGC3097066', 'NGC4594', 'ESO552-014', 'NGC2974', 'ESO445-002', 'A3565BCG', 'PGC096373', 'PGC143044', 'NGC3557', 'ESO264-031', 'PGC053828', 'PGC130400', 'A3565BCG', 'NGC7761', 'NGC5516', 'NGC6903', 'ESO360-011', 'UGC10918', 'NGC1684', 'NGC6150', 'UGC03105', 'PGC838452', 'PGC2793346', 'NGC1726', 'PGC055917', 'UGC10492', 'NGC4594', 'NGC7626', 'PGC128027', 'NGC4696', 'PGC153306', 'NGC2663', 'NGC6861', 'NGC1045', 'NGC4073', 'NGC5262', 'NGC2554', 'IC5086', 'ESO397-019', 'PGC054352', 'NGC6166', 'UGC04775', 'PGC408201', 'PGC368549', 'PGC806584', 'NGC1167', 'NGC1875', 'PGC021894', 'NGC6454', 'PGC042963', 'NGC6861', 'PGC054090', 'PGC050342', 'UGC04049', 'NGC5223', 'NGC4649', 'ESO364-040', 'PGC020574', 'NGC5846', 'IC4931', 'IC0505', 'NGC4382', 'NGC5629', 'NGC1399', 'NGC1587', 'PGC066671', 'NGC4374', 'NGC7626', 'PGC173205', 'IC1079', 'PGC2373130', 'NGC4472', 'IC1459', 'NGC7284', 'IC4765', 'NGC1600', 'NGC3285', 'NGC3873', 'PGC066586', 'NGC4594', 'PGC052055', 'PGC041275', 'PGC537966', 'UGC02783', 'ESO326-015', 'ESO137-024', 'NGC4374', 'NGC2974', 'PGC059108', 'PGC2122659', 'ESO552-014', 'NGC6575', 'ESO510-010', 'PGC482919', 'ESO156-018', 'NGC1726', 'PGC056180', 'PGC2793196', 'PGC2705130', 'PGC2793375', 'NGC3115', 'PGC804815', 'PGC132310', 'NGC3115', 'NGC0987', 'ESO444-060', 'UGC02783', 'NGC5249', 'NGC7197', 'NGC0080', 'NGC3268', 'NGC4374', 'ESO509-008', 'UGC03355', 'UGC03021', 'ESO068-005', 'NGC5883', 'IC1425', 'NGC4709', 'NGC3923', 'PGC048213', 'NGC2492', 'PGC269600', 'NGC5745', 'ESO573-017', 'ESO086-062', 'NGC4594', 'NGC3665', 'ESO413-005', 'NGC7014', 'NGC5084', 'PGC1085650', 'IC4931', 'NGC6107', 'NGC6816', 'NGC4645', 'NGC1700', 'IC2437', 'PGC018325', 'NGC3884', 'NGC4594', 'NGC7049', 'NGC7012', 'UGC03894', 'IC4516', 'PGC060852', 'NGC6868', 'UGC11363', 'PGC2793288', 'IC1890', 'NGC4382', 'NGC4594', 'NGC0665', 'ESO308-005', 'PGC043546', 'NGC4594', 'IC1989', 'NGC5444', 'NGC5516', 'ESO053-020', 'NGC0777', 'NGC5232', 'NGC1380', 'NGC3311', 'UGC00596', 'PGC1537824', 'UGC00367', 'PGC237369', 'NGC4526', 'NGC6398', 'PGC1349708', 'UGC02430', 'PGC2782113', 'NGC4055', 'PGC3097015', 'ESO399-010', 'NGC1167', 'ESO323-034', 'NGC4373', 'PGC717099', 'PGC019747', 'IC5250B', 'NGC5333', 'NGC5061', '[MO2001]J0314', 'NGC4526', 'NGC1275', 'PGC047154', 'A3565BCG', 'NGC3357', 'PGC1241239', 'NGC6332', 'NGC6739', 'NGC4125', 'NGC4526', 'PGC060144', 'ESO436-027', 'NGC0484', 'IC5090', 'UGC03271', 'PGC065593', '2MASXJ1841506', 'PGC055245', 'NGC2783', 'NGC3216', 'IC1224', 'NGC1217', 'PGC033397', 'NGC0118', 'UGC08228', 'UGC03840', 'ESO100-022', 'PGC065597', 'PGC2246289', 'NGC3115', 'PGC033535', 'ESO364-040', 'ESO285-024', 'NGC6127', 'PGC000023', 'NGC4374', 'PGC017981', 'NGC3250', 'IC1392', 'ESO534-002', 'UGC06394', 'NGC7049', 'ESO415-003', 'UGC05723', 'NGC0410', 'NGC2205', 'NGC3923', 'PGC059827', 'ESO565-030', 'PGC054225', 'IC0989', 'PGC3080525', 'IC4798', 'ESO253-027', 'PGC046059', 'NGC4761', 'NGC5011', 'PGC2816684', 'UGC03683', 'NGC1272', 'PGC095527', 'PGC011496', 'PGC018579', 'UGC11095', 'PGC3087051', 'NGC4374', 'UGC08525', 'NGC0897', '2MASXJ1542117', 'NGC4767', 'PGC037431', 'UGC04049', '2MASXJ0609056', 'IC0359', 'IC0558', 'PGC3077780', 'PGC066744', 'NGC4335', 'NGC0810', 'NGC4895', 'NGC7771', 'PGC030432', 'NGC5101', 'NGC1106', 'NGC7265', 'PGC017155', 'PGC276624', 'NGC4382', 'NGC3886', 'ESO175-001', 'NGC4526', 'PGC017787', 'PGC129058', 'NGC1684', 'ESO575-057', '2MASXJ0106025', 'NGC4594', 'UGC03105', 'IC1812', 'NGC4073', 'NGC3557', 'NGC1956', 'NGC4594', 'NGC3923', 'NGC2305', 'NGC4594', 'ESO444-046', 'NGC5333', 'NGC0759', 'NGC1399', 'NGC6876', 'NGC6487', 'NGC4709', 'IC1565', 'NGC1587', 'PGC1237800', 'ESO349-013', 'ESO137-007', 'PGC2800916', 'ESO255-010', 'NGC4594', 'ESO578-003', 'ESO193-017', 'NGC7680', 'PGC059108', 'NGC1217', 'NGC1167', 'A3565BCG', 'ESO534-006', 'ESO542-023', 'PGC242280', 'PGC045378', 'NGC0240', 'NGC4382', 'NGC2332', 'NGC1380', 'NGC5626', 'NGC3894', 'ESO507-045', 'NGC5266', 'NGC0524', 'NGC4936', 'A3565BCG', 'PGC064671', 'PGC2793195', 'PGC137982', 'PGC1426264', 'NGC0507', 'PGC076890', 'NGC2675', 'NGC2974', 'NGC6251', 'NGC0524', 'NGC4213', 'IC2565', 'PGC059632', 'PGC026250', 'NGC1631', 'UGC00429', 'PGC065084', 'NGC1045', 'PGC080752', 'NGC6097', 'NGC4198', 'NGC5357', 'IC0362', 'NGC6398', 'NGC2800', 'PGC066744', 'ESO284-053', 'PGC018887', 'NGC0750', '2MASXJ2024063', 'NGC5101', 'NGC0863', 'UGC08431', 'NGC2340', 'NGC1600', 'PGC200505', 'PGC692720', 'NGC6261', 'NGC5157', 'UGC05771', 'PGC032410', 'UGC03525', 'PGC054143', 'ESO483-009', 'UGC03725', 'NGC5078', 'ESO137-012', 'PGC014467', 'NGC4594', 'NGC5902', 'NGC4594', 'PGC043378', 'NGC1989', 'PGC3097077', 'PGC054225', 'PGC025354', 'ESO509-018', 'NGC0533', 'UGC02844', 'PGC1045182', 'NGC5620', 'UGC03021', 'IC0947', 'UGC03192', 'PGC2793286', 'NGC1399', 'ESO137-012', 'UGC02066', 'ESO235-054', 'IC1143', 'NGC4714', 'PGC026829', 'NGC0315', 'IC1027', 'PGC067586', 'NGC6261', 'ESO307-005', 'PGC033880', 'PGC029829', 'PGC025555', 'NGC6968', 'NGC5078', 'IC0708', 'UGC10410', 'NGC5061', 'NGC1956', 'IC0725', 'NGC5440', 'PGC076796', 'PGC059827', 'PGC200349', 'PGC021646', 'PGC022498', 'UGC03105', 'PGC029634', 'PGC1109100', 'NGC6635', 'NGC3283', 'UGC03105', 'IC4374', 'NGC1380', 'IC0171', 'UGC04639', 'NGC6868', 'PGC053321', 'UGC05291', 'NGC4594', 'NGC5094', 'ESO297-018', '2MASXJ1011283', 'NGC0252', 'NGC5322', 'NGC4594', 'IC4931', 'PGC2206078', 'PGC016513', 'NGC6776', 'NGC7556', 'ESO307-005', 'NGC7242', 'IC5304', 'NGC4594', 'PGC053502', 'A3565BCG', 'NGC2305', 'NGC1875', 'NGC3823', 'UGC02468', 'PGC472829', 'UGC04974', 'NGC1600', 'PGC053101', 'ESO256-011', 'PGC016583', 'PGC011635', 'PGC195732', 'PGC1126051', 'NGC6166', 'PGC026292', 'PGC045031', 'NGC5084', 'NGC1284', 'NGC6024', 'NGC1272', 'NGC3158', 'PGC025156', 'PGC070605', 'NGC7104', 'NGC6876', 'NGC2507', 'NGC4382', 'NGC4382', 'PGC060191', 'PGC017622', 'ESO552-026', 'UGC10097', 'PGC1745822', 'ESO445-002', 'IC1625', 'NGC4410B', 'PGC007880', 'PGC2791781', 'NGC0507', 'NGC4696', 'NGC3309', 'NGC0750', 'PGC3087985', 'NGC7049', 'NGC1600', 'NGC6160', 'PGC029954', 'NGC4594', 'PGC909710', 'PGC047293', 'PGC022985', 'NGC1409', 'PGC024851', 'NGC6868', 'PGC054671', 'ESO185-054', 'ESO373-003', 'NGC3115', 'PGC1570611', 'NGC0708', 'PGC049185', 'PGC063102', 'NGC6935', 'NGC6370', 'PGC165398', 'UGC01504', 'PGC012801', 'NGC4382', 'PGC945506', 'ESO204-035', 'NGC4006', 'NGC0083', 'NGC0023', 'NGC0547', 'NGC4760', 'IC1860', 'PGC3097064', 'ESO310-014', 'NGC5078', 'ESO325-016', 'NGC4594', 'NGC0080', 'NGC4526', 'NGC1277', 'UGC02261', 'NGC4374', 'NGC6061', 'NGC4874', 'ESO057-068', 'NGC2505', 'PGC989455', 'NGC3411', 'PGC179254', 'PGC063345', 'ESO495-013', 'ESO175-001', 'NGC6660', 'UGC09444', 'ESO367-006', 'PGC058283', 'IC0411', 'PGC2793389', 'PGC000320', 'NGC3348', 'PGC2023632', 'PGC088269', 'ESO137-029', 'NGC3562', 'IC3370', 'NGC4125', 'PGC134589', 'PGC2269458', 'ESO089-016', 'ESO284-053', 'IC4352', 'IC0433', 'NGC7010', 'NGC3771', 'NGC6758', 'ESO346-003', 'NGC0750', 'NGC2974', 'NGC6194', 'NGC0323', 'NGC1316', 'NGC6224', 'IC1392', 'PGC037379', 'PGC030606', 'NGC3816', 'NGC5011', 'ESO143-035', 'ESO112-008A', 'NGC6876', 'PGC038175', 'UGC09412', 'NGC5490', 'NGC5084', 'PGC059108', 'NGC1275', 'NGC4594', 'NGC1572', 'NGC0741', 'PGC704985', 'PGC130523', 'PGC062122', '2MASXJ2304183', 'NGC1534', 'NGC0025', 'ESO043-006', 'NGC3309', 'A3565BCG', 'PGC027333', 'NGC5078', 'NGC0665', 'PGC066744', 'PGC1728823', 'NGC2676', 'PGC054744', 'NGC4472', 'NGC2513', 'PGC065893', 'NGC4594', 'PGC141864', 'NGC6812', 'NGC5557', 'ESO317-014', 'IC1065', 'NGC2887', 'NGC4472', 'PGC029675', 'NGC4594', 'PGC037785', 'IC1549', '2MASXJ0338572', 'NGC4594', 'NGC4374', 'ESO193-011', 'PGC027107', 'ESO150-021', 'NGC5163', 'PGC021767', 'NGC5011', 'NGC1726', 'PGC1709626', 'IC1392', 'UGC12282', 'ESO597-023', 'UGC00865', 'NGC7660', 'NGC3283', 'IC2437', 'ESO286-070', 'PGC003929', 'NGC3923', 'NGC3923', 'NGC5078', 'ESO499-007', 'NGC3115', 'NGC3940', 'NGC1208', 'NGC4936', 'ESO408-037', 'NGC4594', 'NGC0410', 'ESO243-045', 'NGC5322', 'PGC012926', 'UGC12242', 'ESO327-023', 'UGC10283', 'NGC5077', 'NGC4944', 'PGC906969', 'PGC097890', '2MASXJ0335049', 'ESO527-005', 'ESO436-027', 'UGC05182', 'NGC4921', 'PGC047886', 'IC4931', 'NGC6848', 'PGC1279224', 'PGC060191', 'PGC2793259', 'NGC6483', 'PGC018730', 'IC0362', 'IC0947', 'NGC7149', 'NGC7771', 'PGC138817', 'NGC4816', 'ESO507-045', 'NGC3209', 'UGC02902', 'PGC170329', 'ESO565-030', 'NGC3842', 'NGC3557', 'NGC5353', 'IC4991', 'PGC337502', 'UGC03488', 'UGC11892', 'PGC151103', 'NGC0380', 'NGC4760', 'NGC5208', 'ESO443-052', 'NGC1107', 'NGC0326', 'NGC6089', 'PGC671650', 'NGC4783', 'UGC03725', 'UGC02674', 'ESO344-007', 'NGC3280A', 'ESO137-007', 'A3565BCG', 'UGC02342', 'ESO440-025', 'ESO443-028', 'NGC0978', 'NGC7503', 'NGC1275', 'NGC1468', 'ESO175-001', 'NGC4594', 'ESO234-052', 'NGC3115', 'ESO575-033', 'NGC5322', 'PGC054747', 'UGC02528', 'NGC3706', 'ESO367-005', 'UGC04289', 'NGC1316', 'UGC09396', 'PGC2772950', 'NGC1060', 'NGC5575', 'NGC3250', 'PGC055245', 'ESO187-027', 'ESO251-023', 'PGC065401', 'ESO137-010', 'NGC5029', 'NGC5865', 'NGC2320', 'NGC7548', 'NGC7578B', 'NGC5846', 'NGC2418', 'ESO349-010', 'NGC6962', 'ESO435-003', 'PGC064562', 'NGC3923', 'NGC7213', 'ESO252-004', 'NGC3311', 'PGC014859', 'NGC7049', 'IC1069', 'NGC5111', 'UGC11950', 'ESO323-077', 'NGC3665', 'NGC4594', 'NGC1700', 'NGC0766', 'UGC05074', 'NGC7213', '2MASXJ2337211', 'PGC1458669', 'NGC7284', 'NGC4594', 'NGC5011', 'PGC029744', 'NGC3311', 'UGC09798', 'ESO323-034', 'PGC917034', 'NGC5077', 'NGC0708', 'ESO507-025', 'NGC5101', 'PGC017387', 'PGC1029314', 'ESO306-017', 'NGC6816', 'NGC3311', 'ESO193-041', 'PGC811705', 'UGC10599', 'ESO384-051', 'IC0411', 'NGC4649', 'PGC021209', 'ESO219-014', 'ESO207-019', 'NGC4065', 'NGC4594', 'NGC2693', 'ESO137-029', 'PGC093135', 'NGC4761', 'PGC802451', 'NGC6688', 'PGC1570611', 'PGC058492', 'PGC210402', 'NGC5333', 'PGC671650', 'NGC2230', 'ESO464-031', 'ESO336-008', '6dFJ1225054-5', 'PGC050523', 'NGC1550', 'PGC036495', 'PGC157478', 'NGC1332', 'PGC030573', 'NGC5769', 'IC5357', 'NGC6482', 'NGC4073', 'UGC06239', 'PGC1001146', 'PGC047113', 'PGC182752', 'NGC6758', 'NGC4874', 'PGC054307', 'IC1835', 'NGC5995', '2MASXJ2024063', '2MASXJ2024063', '2MASXJ2024063', '2MASXJ2024063', '2MASXJ2024063']\n"
     ]
    },
    {
     "name": "stdout",
     "output_type": "stream",
     "text": [
      "['NGC1332', 'NGC3348', 'PGC062122', 'IC0659', 'NGC6370', 'IC5357', 'ESO306-009', 'PGC059596', '2MASXJ2024063', 'PGC209223', 'UGC00621', 'NGC4594', 'NGC5111', 'PGC054671', 'UGC01213', 'NGC5101', 'ESO306-017', 'NGC3115', 'NGC7265', 'IC4926', 'NGC5090', 'NGC0708', 'NGC1060', 'NGC4760', 'NGC3562', 'NGC5322', 'NGC7049', '2MASXJ0609056', 'PGC132499', 'NGC5557', 'PGC031277', 'NGC3557', 'NGC6850', 'NGC5322', 'NGC4594', 'NGC0050', 'NGC3115', 'IC4255', 'IC5088', 'UGC01684', 'NGC7618', 'NGC5084', 'NGC0524', 'PGC3093211', 'PGC3076997', 'NGC6240', 'PGC046656', 'NGC3115', 'PGC2065632', 'PGC025055', 'NGC1505', 'NGC0890', 'NGC4594', 'NGC6868', 'IC1459', 'IC4261', 'NGC3886', 'PGC062122', 'UGC04972', 'NGC6903', 'ESO528-019', 'PGC021993', 'NGC5018', 'NGC7213', 'NGC4526', 'NGC6812', 'PGC2793386', 'PGC011389', 'NGC4686', 'NGC3937', 'ESO488-027', 'PGC016867', 'NGC4594', 'UGC03355', 'A3565BCG', 'NGC6454', 'PGC161869', 'PGC3097105', 'NGC4472', 'NGC5090', 'PGC068799', 'PGC053913', 'NGC3661', 'PGC030503', 'PGC165939', 'NGC1399', 'PGC030503', 'PGC2190496', 'NGC7242', 'NGC1060', 'NGC1060', 'ESO045-011', 'NGC3115', 'NGC5101', 'NGC2320', 'IC1860', 'NGC5846', 'NGC6893', 'NGC6935', 'ESO185-054', 'NGC1294', 'UGC11950', 'NGC7049', 'NGC3099', 'NGC7583', 'NGC7619', 'NGC1316', 'NGC5078', 'NGC6251', 'PGC042795', 'NGC0507', 'NGC4884', '2MASXJ0400270', 'NGC4594', '2MASXJ0209257', 'NGC4594', 'PGC2075044', 'ESO462-015', 'PGC2030397', '2MASXJ2020022', 'IC4350', 'NGC3115', 'NGC6816', 'NGC5061', 'ESO121-028', 'NGC3923', 'NGC7123', 'NGC4594', 'PGC134589', 'ESO342-027', 'PGC075991', 'NGC4594', 'PGC057257', 'PGC345398', 'NGC4594', 'NGC0128', 'ESO323-077', 'NGC4382', 'NGC1060', 'PGC062122', 'PGC033000', 'NGC2746', 'NGC2554', 'NGC4472', 'ESO341-029', 'NGC4696', 'NGC5548', 'ESO185-054', 'ESO280-007', 'UGC03792', 'NGC0323', 'PGC374930', 'IC4815', 'NGC2496', 'NGC4594', 'PGC045227', 'IC1633', 'UGC10078', 'IC1116', 'NGC4645A', 'NGC5101', 'NGC6861', 'PGC000320', 'NGC4884', 'PGC1281329', 'NGC7749', 'UGC02783', 'PGC065215', 'NGC0810', 'ESO136-023', 'NGC1272', 'NGC5011', 'NGC1692', 'NGC2507', 'UGC08483', 'NGC5306', 'PGC028363', 'NGC2274', 'NGC0057', 'NGC3406', 'NGC4104', 'PGC200509', 'NGC6868', 'NGC4374', 'ESO460-026', 'NGC0612', 'PGC061513', 'PGC048313', 'IC4926', 'NGC5540', 'NGC1765', 'NGC5232', 'NGC0897', 'NGC4526', 'NGC4594', 'NGC4594', 'PGC002145', 'NGC0071', 'NGC7728', 'NGC4649', 'NGC6183', 'NGC5292', 'PGC043378', 'NGC3139', 'UGC03023', 'PGC128797', 'NGC4382', 'UGC10579', 'UGC12036', 'NGC1218', 'NGC4649', 'NGC3309', 'NGC3348', 'NGC5061', 'NGC4789', 'NGC2663', 'PGC141864', 'ESO445-001', 'NGC4782', 'NGC1167', 'NGC7014', 'NGC0547', 'NGC6998', 'IC4765', 'PGC021599', 'ESO575-043', 'NGC7562', 'NGC3557', 'NGC3348', 'IC0144', 'PGC210402', 'ESO267-011', 'A3565BCG', 'ESO035-011', 'ESO461-007', 'NGC4472', 'PGC013533', 'NGC5345', 'NGC1275', 'NGC4382', 'NGC0682', 'PGC019394', 'PGC011576', 'UGC03549', '2MASXJ0708113', 'UGC10275', 'NGC4921', 'NGC3311', 'PGC148459', 'PGC064509', 'NGC5353', 'NGC4594', '2MASXJ2024063', 'PGC029829', 'PGC017033', 'ESO325-040', 'NGC0828', 'PGC017076', 'NGC2484', 'PGC063074', 'NGC3940', 'ESO197-021', 'PGC200509', 'PGC036212', 'NGC4594', 'NGC5084', 'UGC12733', 'NGC0439', 'PGC012717', 'NGC3923', 'NGC3886', 'NGC4594', 'NGC5084', 'NGC1316', 'ESO005-010', 'PGC127625', 'NGC6921', 'PGC200208', 'PGC055231', 'PGC2246289', 'NGC4884', 'IC4742', 'NGC2332', 'NGC4594', 'NGC4594', 'ESO552-014', 'ESO445-002', 'PGC096373', 'NGC3557', 'ESO264-031', 'PGC130400', 'A3565BCG', 'NGC7761', 'NGC6903', 'ESO360-011', 'UGC10918', 'NGC6150', 'PGC2793346', 'PGC055917', 'NGC4594', 'NGC6861', 'NGC1045', 'PGC054352', 'PGC408201', 'NGC1167', 'NGC6454', 'NGC6861', 'NGC4649', 'NGC5846', 'IC4931', 'NGC4382', 'NGC1399', 'NGC4374', 'IC1079', 'PGC2373130', 'NGC4472', 'IC1459', 'NGC7284', 'NGC3873', 'NGC4594', 'PGC041275', 'UGC02783', 'NGC4374', 'NGC2974', 'PGC059108', 'PGC482919', 'ESO156-018', 'PGC2705130', 'NGC3115', 'PGC804815', 'NGC3115', 'NGC4374', 'NGC5883', 'NGC3923', 'PGC048213', 'NGC4594', 'NGC3665', 'PGC1085650', 'NGC6816', 'NGC1700', 'NGC3884', 'NGC4594', 'UGC03894', 'NGC4594', 'ESO308-005', 'NGC4594', 'IC1989', 'NGC0777', 'NGC1380', 'NGC3311', 'UGC00367', 'PGC237369', 'NGC4526', 'PGC3097015', 'NGC4373', 'PGC019747', 'IC5250B', 'NGC5333', 'NGC5061', 'NGC1275', 'A3565BCG', 'NGC4526', '2MASXJ1841506', 'PGC055245', 'NGC3216', 'NGC1217', 'NGC0118', 'ESO100-022', 'PGC065597', 'NGC3115', 'ESO364-040', 'ESO285-024', 'NGC6127', 'NGC4374', 'NGC3250', 'UGC06394', 'NGC7049', 'ESO415-003', 'NGC0410', 'NGC3923', 'PGC054225', 'PGC046059', 'NGC5011', 'PGC2816684', 'UGC03683', 'PGC095527', 'NGC4374', 'NGC0897', 'PGC3077780', 'NGC4335', 'NGC7771', 'PGC030432', 'NGC5101', 'NGC4382', 'ESO175-001', 'NGC4594', 'IC1812', 'NGC4594', 'NGC2305', 'NGC4594', 'NGC5333', 'NGC1399', 'NGC6876', 'NGC4709', 'ESO349-013', 'ESO137-007', 'PGC2800916', 'ESO255-010', 'ESO193-017', 'NGC7680', 'PGC059108', 'NGC1167', 'ESO542-023', 'PGC242280', 'NGC0240', 'NGC2332', 'ESO507-045', 'NGC4936', 'A3565BCG', 'NGC2675', 'NGC2974', 'NGC0524', 'PGC059632', 'PGC026250', 'NGC1631', 'PGC065084', 'PGC080752', 'NGC6398', 'ESO284-053', '2MASXJ2024063', 'UGC08431', 'NGC1600', 'PGC200505', 'UGC03525', 'PGC054143', 'NGC4594', 'NGC5902', 'NGC4594', 'PGC025354', 'ESO509-018', 'NGC0533', 'UGC03021', 'UGC03192', 'NGC1399', 'IC1143', 'PGC026829', 'NGC0315', 'NGC6261', 'PGC029829', 'NGC6968', 'NGC5078', 'UGC10410', 'IC0725', 'PGC059827', 'PGC021646', 'PGC022498', 'UGC03105', 'NGC3283', 'NGC1380', 'IC0171', 'UGC04639', 'NGC6868', 'PGC053321', 'UGC05291', 'NGC4594', '2MASXJ1011283', 'NGC5322', 'NGC4594', 'PGC016513', 'NGC6776', 'NGC7556', 'IC5304', 'NGC4594', 'A3565BCG', 'NGC3823', 'UGC02468', 'PGC016583', 'PGC1126051', 'PGC045031', 'NGC3158', 'PGC070605', 'NGC6876', 'NGC2507', 'NGC4382', 'NGC4382', 'PGC060191', 'ESO552-026', 'ESO445-002', 'IC1625', 'NGC4410B', 'NGC4696', 'NGC1600', 'NGC6160', 'NGC4594', 'PGC022985', 'NGC6868', 'NGC3115', 'NGC0708', 'PGC063102', 'NGC6935', 'NGC6370', 'NGC4382', 'NGC0023', 'NGC0547', 'NGC4760', 'PGC3097064', 'NGC5078', 'NGC4594', 'NGC1277', 'NGC4374', 'NGC4874', 'PGC989455', 'ESO175-001', 'NGC6660', 'PGC000320', 'NGC3348', 'PGC2023632', 'PGC088269', 'NGC4125', 'PGC2269458', 'ESO284-053', 'IC4352', 'ESO346-003', 'NGC2974', 'NGC0323', 'NGC1316', 'IC1392', 'PGC030606', 'ESO112-008A', 'NGC6876', 'NGC5490', 'NGC1275', 'NGC4594', 'NGC1572', 'PGC130523', 'A3565BCG', 'NGC5078', 'NGC0665', 'NGC4472', 'NGC2513', 'PGC065893', 'NGC4594', 'NGC5557', 'NGC4472', 'NGC4594', 'PGC037785', 'IC1549', 'NGC4594', 'NGC4374', 'PGC027107', 'NGC5011', 'NGC1726', 'UGC12282', 'PGC003929', 'NGC3923', 'NGC3115', 'ESO408-037', 'NGC4594', 'ESO327-023', 'UGC10283', 'NGC4944', 'ESO527-005', 'UGC05182', 'NGC4921', 'PGC1279224', 'PGC2793259', 'NGC7149', 'NGC7771', 'UGC02902', 'ESO565-030', 'NGC3842', 'NGC4760', 'NGC5208', 'ESO443-052', 'NGC1107', 'NGC4783', 'NGC3280A', 'A3565BCG', 'ESO440-025', 'ESO443-028', 'NGC7503', 'NGC1275', 'NGC4594', 'ESO234-052', 'NGC3115', 'NGC3706', 'NGC1316', 'PGC2772950', 'ESO251-023', 'ESO137-010', 'NGC5865', 'NGC7578B', 'NGC5846', 'ESO349-010', 'NGC7213', 'NGC3311', 'NGC5111', 'NGC4594', 'NGC1700', 'NGC0766', 'UGC05074', 'NGC7284', 'NGC4594', 'PGC029744', 'NGC3311', 'NGC5077', 'NGC0708', 'ESO507-025', 'PGC017387', 'PGC1029314', 'ESO306-017', 'NGC3311', 'PGC811705', 'NGC4649', 'ESO207-019', 'NGC4594', 'NGC2693', 'PGC058492', 'ESO464-031', '6dFJ1225054-5', 'PGC050523', 'PGC036495', 'NGC1332', 'NGC6758', '2MASXJ2024063', '2MASXJ2024063', '2MASXJ2024063', '2MASXJ2024063', '2MASXJ2024063']\n",
      "['NGC1332', 'IC0659', 'PGC059596', '2MASXJ2024063', 'PGC209223', 'UGC00621', 'PGC054671', 'ESO306-017', 'NGC3115', 'NGC7265', 'NGC5090', 'NGC4760', 'NGC3562', 'PGC031277', 'NGC3557', 'NGC6850', 'NGC5322', 'NGC3115', 'IC4255', 'UGC01684', 'NGC7618', 'NGC5084', 'NGC0524', 'PGC3093211', 'PGC3076997', 'NGC3115', 'PGC2065632', 'PGC025055', 'NGC1505', 'NGC0890', 'IC1459', 'NGC3886', 'PGC062122', 'UGC04972', 'ESO528-019', 'PGC021993', 'NGC4526', 'NGC4686', 'NGC3937', 'ESO488-027', 'PGC016867', 'UGC03355', 'A3565BCG', 'NGC6454', 'PGC3097105', 'NGC4472', 'NGC5090', 'PGC068799', 'PGC165939', 'NGC1399', 'PGC030503', 'NGC7242', 'NGC1060', 'NGC3115', 'NGC5101', 'NGC2320', 'IC1860', 'NGC5846', 'NGC6893', 'NGC6935', 'ESO185-054', 'NGC7049', 'NGC1316', 'NGC6251', 'PGC042795', 'NGC0507', '2MASXJ0209257', 'ESO462-015', 'PGC2030397', '2MASXJ2020022', 'IC4350', 'NGC3115', 'NGC6816', 'ESO121-028', 'NGC3923', 'NGC7123', 'NGC4594', 'PGC075991', 'PGC345398', 'NGC4594', 'NGC0128', 'ESO323-077', 'NGC4382', 'PGC062122', 'PGC033000', 'NGC2746', 'NGC4472', 'ESO341-029', 'ESO185-054', 'ESO280-007', 'UGC03792', 'NGC0323', 'IC4815', 'PGC045227', 'IC1633', 'UGC10078', 'NGC4645A', 'PGC000320', 'PGC1281329', 'UGC02783', 'PGC065215', 'NGC0810', 'NGC1272', 'NGC1692', 'NGC2507', 'NGC2274', 'NGC0057', 'NGC3406', 'NGC4104', 'PGC200509', 'NGC4374', 'PGC061513', 'PGC048313', 'NGC5540', 'NGC1765', 'NGC0897', 'NGC4526', 'NGC4594', 'NGC4649', 'NGC6183', 'NGC3139', 'UGC03023', 'UGC10579', 'NGC1218', 'NGC4649', 'NGC3348', 'NGC2663', 'ESO445-001', 'NGC1167', 'NGC7014', 'NGC0547', 'IC4765', 'PGC021599', 'ESO575-043', 'NGC7562', 'NGC3557', 'NGC3348', 'IC0144', 'PGC210402', 'ESO035-011', 'NGC4472', 'NGC1275', 'NGC0682', 'PGC011576', 'UGC10275', 'PGC148459', 'NGC5353', 'NGC4594', '2MASXJ2024063', 'PGC017033', 'PGC017076', 'PGC036212', 'NGC4594', 'NGC5084', 'UGC12733', 'NGC3886', 'NGC1316', 'NGC6921', 'PGC200208', 'PGC055231', 'NGC4884', 'IC4742', 'NGC2332', 'NGC4594', 'NGC4594', 'ESO552-014', 'ESO445-002', 'NGC3557', 'ESO264-031', 'A3565BCG', 'NGC7761', 'NGC6903', 'UGC10918', 'NGC6150', 'PGC2793346', 'NGC4594', 'NGC6861', 'NGC1045', 'PGC408201', 'NGC1167', 'NGC6454', 'NGC6861', 'NGC4649', 'NGC5846', 'NGC1399', 'NGC4374', 'IC1079', 'NGC4472', 'IC1459', 'UGC02783', 'NGC4374', 'NGC2974', 'PGC482919', 'ESO156-018', 'NGC3115', 'NGC3115', 'NGC4374', 'NGC3665', 'PGC1085650', 'NGC6816', 'ESO308-005', 'NGC0777', 'NGC1380', 'NGC3311', 'UGC00367', 'PGC237369', 'NGC4526', 'NGC4373', 'NGC5333', 'NGC5061', 'NGC1275', 'A3565BCG', 'PGC055245', 'NGC3216', 'NGC1217', 'ESO100-022', 'PGC065597', 'NGC3115', 'ESO285-024', 'NGC6127', 'NGC4374', 'NGC3250', 'UGC06394', 'NGC7049', 'ESO415-003', 'NGC3923', 'PGC054225', 'NGC5011', 'PGC095527', 'NGC4374', 'PGC3077780', 'NGC4335', 'NGC4382', 'ESO175-001', 'NGC4594', 'IC1812', 'NGC4594', 'NGC2305', 'NGC4594', 'NGC5333', 'NGC1399', 'NGC6876', 'NGC4709', 'ESO137-007', 'ESO255-010', 'PGC059108', 'NGC1167', 'PGC242280', 'ESO507-045', 'NGC4936', 'NGC0524', 'PGC059632', 'PGC026250', 'PGC080752', 'ESO284-053', '2MASXJ2024063', 'UGC08431', 'UGC03525', 'NGC4594', 'NGC5902', 'ESO509-018', 'NGC0533', 'NGC1399', 'IC1143', 'NGC0315', 'NGC6968', 'NGC5078', 'UGC10410', 'PGC059827', 'PGC021646', 'UGC03105', 'NGC3283', 'NGC1380', 'NGC6868', 'PGC053321', 'UGC05291', 'NGC4594', 'PGC016513', 'A3565BCG', 'NGC3823', 'UGC02468', 'PGC016583', 'PGC1126051', 'PGC045031', 'NGC3158', 'NGC6876', 'NGC4382', 'NGC4382', 'ESO552-026', 'ESO445-002', 'IC1625', 'NGC4410B', 'NGC4594', 'PGC022985', 'NGC3115', 'NGC0708', 'PGC063102', 'NGC4594', 'NGC1277', 'NGC4374', 'NGC4874', 'ESO175-001', 'NGC6660', 'PGC2023632', 'PGC088269', 'ESO284-053', 'ESO346-003', 'NGC2974', 'NGC0323', 'NGC1316', 'ESO112-008A', 'NGC1275', 'A3565BCG', 'NGC5078', 'NGC0665', 'NGC4472', 'NGC2513', 'PGC065893', 'NGC4594', 'NGC5557', 'NGC4472', 'NGC4594', 'PGC027107', 'NGC5011', 'UGC12282', 'NGC3923', 'NGC3115', 'NGC7771', 'UGC02902', 'NGC3842', 'NGC5208', 'ESO443-052', 'NGC1107', 'NGC4783', 'A3565BCG', 'ESO440-025', 'NGC1275', 'ESO234-052', 'NGC3115', 'NGC1316', 'NGC5865', 'NGC7578B', 'NGC5846', 'ESO349-010', 'NGC7213', 'NGC3311', 'NGC5111', 'NGC1700', 'NGC7284', 'NGC4594', 'PGC029744', 'NGC3311', 'NGC5077', 'NGC0708', 'ESO306-017', 'NGC3311', 'NGC4649', 'ESO464-031', '6dFJ1225054-5', 'PGC050523', 'NGC1332', '2MASXJ2024063', '2MASXJ2024063', '2MASXJ2024063', '2MASXJ2024063', '2MASXJ2024063']\n"
     ]
    }
   ],
   "source": [
    "# 25 yrs white noise, 2 sigma\n",
    "iptaDetectedF3, iptaDetectedS3, iptaDetectedN3, iptaDetectedMc3, iptaDetectedQ3, iptaDetectedPi3, iptaDetectedLum3, \\\n",
    "iptaDetectedDist3 = find_detected_sr(simFreq3,simStrain3)\n",
    "        \n",
    "# 25 yrs white noise, 3 sigma\n",
    "iptaDetectedF6, iptaDetectedS6, iptaDetectedN6, iptaDetectedMc6, iptaDetectedQ6, iptaDetectedPi6, iptaDetectedLum6, \\\n",
    "iptaDetectedDist6 = find_detected_sr(simFreq6,simStrain6)\n",
    "            \n",
    "# 25 yrs white noise, 1e-4 sigma\n",
    "iptaDetectedF9, iptaDetectedS9, iptaDetectedN9, iptaDetectedMc9, iptaDetectedQ9, iptaDetectedPi9, iptaDetectedLum9, \\\n",
    "iptaDetectedDist9 = find_detected_sr(simFreq9,simStrain9)\n"
   ]
  },
  {
   "cell_type": "code",
   "execution_count": 24,
   "metadata": {},
   "outputs": [
    {
     "name": "stdout",
     "output_type": "stream",
     "text": [
      "['NGC0890', 'PGC065597', 'NGC3115', 'NGC4374', 'NGC4382', 'NGC1316', 'NGC1275', 'NGC1316']\n"
     ]
    }
   ],
   "source": [
    "# 25 yrs RED noise, 3 sigma\n",
    "RiptaDetectedF6, RiptaDetectedS6, RiptaDetectedN6, RiptaDetectedMc6, RiptaDetectedQ6, RiptaDetectedPi6, RiptaDetectedLum6, \\\n",
    "RiptaDetectedDist6 = find_detected_sr(RsimFreq6,RsimStrain6)"
   ]
  },
  {
   "cell_type": "code",
   "execution_count": 25,
   "metadata": {},
   "outputs": [
    {
     "name": "stdout",
     "output_type": "stream",
     "text": [
      "['NGC3115', 'NGC4382', 'NGC1316']\n"
     ]
    }
   ],
   "source": [
    "RiptaDetectedF1, RiptaDetectedS1, RiptaDetectedN1, RiptaDetectedMc1, RiptaDetectedQ1, RiptaDetectedPi1, RiptaDetectedLum1, \\\n",
    "RiptaDetectedDist1 = find_detected_sr(RsimFreq1,RsimStrain1)"
   ]
  },
  {
   "cell_type": "code",
   "execution_count": 26,
   "metadata": {},
   "outputs": [
    {
     "name": "stdout",
     "output_type": "stream",
     "text": [
      "['NGC0890', 'NGC7562', 'PGC065597', 'NGC3115', 'PGC095527', 'NGC4374', 'NGC4382', 'NGC1316', 'NGC1275', 'NGC1316', 'NGC1700']\n"
     ]
    }
   ],
   "source": [
    "RiptaDetectedF2, RiptaDetectedS2, RiptaDetectedN2, RiptaDetectedMc2, RiptaDetectedQ2, RiptaDetectedPi2, RiptaDetectedLum2, \\\n",
    "RiptaDetectedDist2 = find_detected_sr(RsimFreq2,RsimStrain2)"
   ]
  },
  {
   "cell_type": "code",
   "execution_count": 27,
   "metadata": {},
   "outputs": [
    {
     "name": "stdout",
     "output_type": "stream",
     "text": [
      "['NGC5084', 'NGC0890', 'ESO528-019', 'ESO323-077', 'NGC7562', 'IC1459', 'PGC065597', 'NGC3115', 'PGC095527', 'NGC4374', 'NGC1399', 'ESO284-053', 'NGC4382', 'NGC1316', 'NGC1275', 'NGC1316', 'NGC1700']\n"
     ]
    }
   ],
   "source": [
    "RiptaDetectedF3, RiptaDetectedS3, RiptaDetectedN3, RiptaDetectedMc3, RiptaDetectedQ3, RiptaDetectedPi3, RiptaDetectedLum3, \\\n",
    "RiptaDetectedDist3 = find_detected_sr(RsimFreq3,RsimStrain3)"
   ]
  },
  {
   "cell_type": "code",
   "execution_count": 28,
   "metadata": {},
   "outputs": [
    {
     "name": "stdout",
     "output_type": "stream",
     "text": [
      "23\n",
      "11\n",
      "7\n",
      "\n",
      "332\n",
      "136\n",
      "59\n",
      "\n",
      "1556\n",
      "629\n",
      "366\n",
      "\n",
      "0.018883415435139574\n",
      "0.0090311986863711\n",
      "0.005747126436781609\n",
      "\n",
      "0.27257799671592775\n",
      "0.1116584564860427\n",
      "0.048440065681444995\n",
      "\n",
      "1.277504105090312\n",
      "0.5164203612479474\n",
      "0.30049261083743845\n"
     ]
    }
   ],
   "source": [
    "num_realizations = len(RA_all)\n",
    "\n",
    "#15 years\n",
    "print(len(iptaDetectedF))\n",
    "print(len(iptaDetectedF4))\n",
    "print(len(iptaDetectedF7))\n",
    "\n",
    "print(\"\")\n",
    "\n",
    "#20 years\n",
    "print(len(iptaDetectedF2))\n",
    "print(len(iptaDetectedF5))\n",
    "print(len(iptaDetectedF8))\n",
    "\n",
    "print(\"\")\n",
    "\n",
    "#25 years\n",
    "print(len(iptaDetectedF3))\n",
    "print(len(iptaDetectedF6))\n",
    "print(len(iptaDetectedF9))\n",
    "\n",
    "print(\"\")\n",
    "\n",
    "#15 years\n",
    "print((len(iptaDetectedF))/num_realizations)\n",
    "print((len(iptaDetectedF4))/num_realizations)\n",
    "print((len(iptaDetectedF7))/num_realizations)\n",
    "\n",
    "print(\"\")\n",
    "\n",
    "#20 years\n",
    "print((len(iptaDetectedF2)) /num_realizations)\n",
    "print((len(iptaDetectedF5))/num_realizations)\n",
    "print((len(iptaDetectedF8))/num_realizations)\n",
    "\n",
    "print(\"\")\n",
    "\n",
    "#25 years\n",
    "print((len(iptaDetectedF3))/num_realizations)\n",
    "print((len(iptaDetectedF6))/num_realizations)\n",
    "print((len(iptaDetectedF9))/num_realizations)"
   ]
  },
  {
   "cell_type": "markdown",
   "metadata": {
    "collapsed": true
   },
   "source": [
    "# PLOTTING AND SORTING LISTS OF GALAXIES"
   ]
  },
  {
   "cell_type": "code",
   "execution_count": 29,
   "metadata": {},
   "outputs": [],
   "source": [
    "#Example: How to ask how many times a galaxy was found, with NGC 4486"
   ]
  },
  {
   "cell_type": "code",
   "execution_count": 30,
   "metadata": {},
   "outputs": [],
   "source": [
    "#white noise\n",
    "catalog_list = iptaDetectedN6\n",
    "\n",
    "#red_noise\n",
    "#catalog_list = RiptaDetectedN6"
   ]
  },
  {
   "cell_type": "code",
   "execution_count": 31,
   "metadata": {},
   "outputs": [],
   "source": [
    "histo_data = dict((x, catalog_list.count(x)) for x in catalog_list)\n",
    "d = histo_data\n"
   ]
  },
  {
   "cell_type": "code",
   "execution_count": 32,
   "metadata": {},
   "outputs": [],
   "source": [
    "# try using a sorted list"
   ]
  },
  {
   "cell_type": "code",
   "execution_count": 33,
   "metadata": {},
   "outputs": [],
   "source": [
    "histo_data = sorted(histo_data.items(), key=lambda x:x[1]) # sort histogram by count\n"
   ]
  },
  {
   "cell_type": "code",
   "execution_count": 34,
   "metadata": {},
   "outputs": [],
   "source": [
    "value = np.zeros([len(histo_data)])\n",
    "label = []\n",
    "\n",
    "for j in range(len(histo_data)):\n",
    "    value[j] = histo_data[j][1]\n",
    "    label.append(histo_data[j][0])"
   ]
  },
  {
   "cell_type": "code",
   "execution_count": 35,
   "metadata": {},
   "outputs": [],
   "source": [
    "def find_gal_idx_4val(nameList, val):\n",
    "    ans = [i for i, x in enumerate(nameList) if x >= val]\n",
    "    return ans"
   ]
  },
  {
   "cell_type": "code",
   "execution_count": 36,
   "metadata": {},
   "outputs": [],
   "source": [
    "value = value.tolist()"
   ]
  },
  {
   "cell_type": "code",
   "execution_count": 57,
   "metadata": {},
   "outputs": [
    {
     "data": {
      "text/plain": [
       "[430, 431, 432, 433, 434, 435, 436, 437, 438]"
      ]
     },
     "execution_count": 57,
     "metadata": {},
     "output_type": "execute_result"
    }
   ],
   "source": [
    "# What is the minimum number of counts we are interested in for plotting?\n",
    "minval = 5\n",
    "goodCounts = find_gal_idx_4val(value, minval)\n",
    "\n",
    "#want around 5-8 galaxies\n",
    "goodCounts"
   ]
  },
  {
   "cell_type": "code",
   "execution_count": 58,
   "metadata": {},
   "outputs": [
    {
     "data": {
      "text/plain": [
       "['NGC3923',\n",
       " 'NGC3311',\n",
       " 'NGC4472',\n",
       " '2MASXJ2024063',\n",
       " 'A3565BCG',\n",
       " 'NGC4382',\n",
       " 'NGC4374',\n",
       " 'NGC3115',\n",
       " 'NGC4594']"
      ]
     },
     "execution_count": 58,
     "metadata": {},
     "output_type": "execute_result"
    }
   ],
   "source": [
    "toPlot_val = value[goodCounts[0]:goodCounts[-1]+1]\n",
    "toPlot_name = label[goodCounts[0]:goodCounts[-1]+1]\n",
    "\n",
    "toPlot_name "
   ]
  },
  {
   "cell_type": "code",
   "execution_count": 59,
   "metadata": {},
   "outputs": [],
   "source": [
    "# RED NOISE SOURCES"
   ]
  },
  {
   "cell_type": "code",
   "execution_count": 60,
   "metadata": {},
   "outputs": [
    {
     "data": {
      "image/png": "[encoded data removed]",
      "text/plain": [
       "<Figure size 244.354x151.019 with 1 Axes>"
      ]
     },
     "metadata": {
      "image/png": {
       "height": 149,
       "width": 240
      }
     },
     "output_type": "display_data"
    }
   ],
   "source": [
    "\"\"\"ONLY RUN WITH RED NOISE DATA\"\"\"\n",
    "X = np.arange(len(toPlot_val))\n",
    "fig = plt.figure()\n",
    "ax = fig.add_subplot(111)\n",
    "ax.barh(X, toPlot_val, alpha=0.8, linewidth = 0.4, color = \"C1\")\n",
    "ax.set_yticks(X)\n",
    "plt.setp(ax.get_yticklabels(), fontsize=7)\n",
    "ax.set_yticklabels(toPlot_name)\n",
    "majorLocator = MultipleLocator(4)\n",
    "minorLocator = MultipleLocator(1)\n",
    "ax.xaxis.set_minor_locator(minorLocator)\n",
    "ax.xaxis.set_major_locator(majorLocator)\n",
    "#plt.xticks(np.arange(100,))\n",
    "plt.xlabel(\"Count\")\n",
    "#plt.title(\"25 year dataset, FAP $3\\sigma$, DP$=95\\%$, Red Noise\")\n",
    "#plt.ylabel(\"Galaxy Name\")\n",
    "plt.tight_layout()\n",
    "#plt.savefig(\"plots_sigma_114/step_5/RN_histList_3sigma_mm13_sig_114.pdf\")"
   ]
  },
  {
   "cell_type": "markdown",
   "metadata": {
    "collapsed": true
   },
   "source": [
    "# PLOTTING FOR WHITE NOISE SOURCES"
   ]
  },
  {
   "cell_type": "code",
   "execution_count": 61,
   "metadata": {},
   "outputs": [
    {
     "data": {
      "image/png": "[encoded data removed]",
      "text/plain": [
       "<Figure size 244.354x151.019 with 1 Axes>"
      ]
     },
     "metadata": {
      "image/png": {
       "height": 149,
       "width": 240
      }
     },
     "output_type": "display_data"
    }
   ],
   "source": [
    "\"\"\"ONLY RUN WITH WHITE NOISE\"\"\"\n",
    "X = np.arange(len(toPlot_val))\n",
    "fig = plt.figure()\n",
    "ax = fig.add_subplot(111)\n",
    "ax.barh(X, toPlot_val, alpha=0.8, linewidth = 0.4, color=\"C1\")\n",
    "ax.set_yticks(X)\n",
    "plt.setp(ax.get_yticklabels(), fontsize=6)\n",
    "ax.set_yticklabels(toPlot_name)\n",
    "majorLocator = MultipleLocator(450)\n",
    "minorLocator = MultipleLocator(150)\n",
    "ax.xaxis.set_minor_locator(minorLocator)\n",
    "ax.xaxis.set_major_locator(majorLocator)\n",
    "#plt.xticks(np.arange(0,))\n",
    "plt.xlabel(\"Count\")\n",
    "#plt.title(\"25 year dataset, FAP $3\\sigma$, DP$=95\\%$, White Noise\")\n",
    "\n",
    "#plt.ylabel(\"Galaxy Name\")\n",
    "plt.tight_layout()\n",
    "#plt.savefig(\"WN_3sigma_20Mar17.pdf\")\n",
    "#plt.savefig(\"plots_bul_34/step_5/WN_3sigma_5_mm13_bul_ppt.pdf\")"
   ]
  },
  {
   "cell_type": "code",
   "execution_count": 63,
   "metadata": {},
   "outputs": [],
   "source": [
    "def hist_weight(lst):\n",
    "    return np.ones_like(lst)/len(lst)\n",
    "\n",
    "def auto_bin(bin_size, min_edge, max_edge):\n",
    "    # for nice looking bins\n",
    "    N = (max_edge-min_edge)/bin_size; Nplus1 = N + 1\n",
    "    bin_list = np.linspace(min_edge, max_edge, Nplus1)\n",
    "    return bin_list"
   ]
  },
  {
   "cell_type": "code",
   "execution_count": 64,
   "metadata": {},
   "outputs": [
    {
     "name": "stderr",
     "output_type": "stream",
     "text": [
      "/anaconda3/lib/python3.6/site-packages/ipykernel_launcher.py:2: VisibleDeprecationWarning: Reading unicode strings without specifying the encoding argument is deprecated. Set the encoding, use None for the system default.\n",
      "  \n"
     ]
    }
   ],
   "source": [
    "# detected sky realizations\n",
    "sky_file = np.genfromtxt(\"../../detectedSkies/final_skies/mm13_mbul_final_test0126.txt\",dtype=None)\n",
    "\n",
    "detF = []\n",
    "detS = []\n",
    "for ii in range(len(sky_file)):\n",
    "    detF.append(sky_file[ii][5])\n",
    "    detS.append(sky_file[ii][6])"
   ]
  },
  {
   "cell_type": "code",
   "execution_count": 65,
   "metadata": {},
   "outputs": [],
   "source": [
    "# read in sensitivity curve. This is an upper limit curve, not a detection curve, needs to be updated\n",
    "dataSB_W = np.genfromtxt(\"../SensWhole.dat\",skip_header=1)#, dtype=float, sep=\"  \")"
   ]
  },
  {
   "cell_type": "code",
   "execution_count": 66,
   "metadata": {},
   "outputs": [
    {
     "name": "stdout",
     "output_type": "stream",
     "text": [
      "23\n"
     ]
    }
   ],
   "source": [
    "print(len(detF))"
   ]
  },
  {
   "cell_type": "code",
   "execution_count": 67,
   "metadata": {},
   "outputs": [],
   "source": [
    "newF = []\n",
    "newS = []\n",
    "newMc = []"
   ]
  },
  {
   "cell_type": "code",
   "execution_count": 69,
   "metadata": {},
   "outputs": [],
   "source": [
    "for j in range(len(freq_all)):\n",
    "    newF.append(freq_all[j])\n",
    "    newS.append(strain_all[j])\n",
    "    newMc.append(mc_all[j])"
   ]
  },
  {
   "cell_type": "code",
   "execution_count": 70,
   "metadata": {},
   "outputs": [],
   "source": [
    "flatF = [item for sublist in newF for item in sublist]\n",
    "flatS = [item for sublist in newS for item in sublist]\n",
    "flatMc = [item for sublist in newMc for item in sublist]"
   ]
  },
  {
   "cell_type": "code",
   "execution_count": 71,
   "metadata": {},
   "outputs": [
    {
     "data": {
      "text/plain": [
       "2.2396068945668918e-09"
      ]
     },
     "execution_count": 71,
     "metadata": {},
     "output_type": "execute_result"
    }
   ],
   "source": [
    "flatF[0]"
   ]
  },
  {
   "cell_type": "code",
   "execution_count": 72,
   "metadata": {},
   "outputs": [
    {
     "name": "stdout",
     "output_type": "stream",
     "text": [
      "0.9892430155714941 2114812265.5829716\n"
     ]
    }
   ],
   "source": [
    "index = detS.index(max(detS))\n",
    "loudS = detS[index]\n",
    "loudF = detF[index]\n",
    "print(loudS, loudF)\n"
   ]
  },
  {
   "cell_type": "markdown",
   "metadata": {},
   "source": [
    "# Comment and uncomment to make different FAP curves"
   ]
  },
  {
   "cell_type": "code",
   "execution_count": 73,
   "metadata": {},
   "outputs": [
    {
     "data": {
      "text/plain": [
       "<matplotlib.legend.Legend at 0x81fcbe4a8>"
      ]
     },
     "execution_count": 73,
     "metadata": {},
     "output_type": "execute_result"
    },
    {
     "data": {
      "image/png": "[encoded data removed]",
      "text/plain": [
       "<Figure size 244.354x151.019 with 1 Axes>"
      ]
     },
     "metadata": {
      "image/png": {
       "height": 148,
       "width": 240
      }
     },
     "output_type": "display_data"
    }
   ],
   "source": [
    "fig = plt.figure()\n",
    "ax = plt.subplot(111)\n",
    "plt.scatter(flatF, flatS, edgecolors='none', color='C1', alpha=0.8, s=10, rasterized=True, label = \"MM13\") #skies\n",
    "#plt.scatter(detF, detS, edgecolors='none', color='C1', alpha=0.8, s=9, rasterized=True, label = \"MM13\") #skies\n",
    "#plt.scatter(loudF, loudS, edgecolors='none', color='C3', alpha=0.8, s=10, rasterized=True) #skies\n",
    "\n",
    "\n",
    "\n",
    "#plt.loglog(dataSB_W[:,0], dataSB_W[:, 1], color ='black') #sensitivity\n",
    "#plt.loglog(dataSB_W[:,0], dataSB_W[:, 1], color ='black', label = 'Current EPTA') #sensitivity\n",
    "# EPTA is really 7-18 yrs baselines up to 2014; Desvignes et al 2016\n",
    "\n",
    "#plt.loglog(RsimFreq1,RsimStrain1,  label='15 yrs', lw = 1, linestyle = \":\", color = 'C0',alpha = 0.8)#2sigma\n",
    "#plt.loglog(simFreq4,simStrain4,  label='15 yrs', lw = 1, linestyle = \":\", color = 'C0', alpha = 0.8)\n",
    "plt.loglog(simFreq7,simStrain7,  label='now', lw = 1, linestyle = \":\", color = 'C0', alpha = 0.8)\n",
    "\n",
    "\n",
    "#plt.loglog(RsimFreq2,RsimStrain2,  label='20 yrs', lw = 1, linestyle = \"--\", color = 'C3',alpha = 0.8)#2sigma\n",
    "#plt.loglog(simFreq5,simStrain5,  label='20 yrs', lw = 1, linestyle = \"--\", color = 'C3', alpha = 0.8)\n",
    "plt.loglog(simFreq8,simStrain8,  label='5 yrs', lw = 1, linestyle = \"--\", color = 'C3', alpha = 0.8)\n",
    "\n",
    "\n",
    "#plt.loglog(RsimFreq3,RsimStrain3,  label='25 yrs', lw = 1, linestyle = \"-\",  color = 'black',alpha = 0.8) #2sigma\n",
    "#plt.loglog(simFreq6,simStrain6,  label='25 yrs', lw = 1, linestyle = \"-\", color = 'black', alpha = 0.8)\n",
    "#plt.loglog(simFreq9,simStrain9,  label='25 yrs', lw = 1, linestyle = \"-\", color = 'black', alpha = 0.8) #1e-4\n",
    "plt.loglog(simFreq9,simStrain9,  label='10 yrs', lw = 1, linestyle = \"-\", color = 'black', alpha = 0.8)\n",
    "\n",
    "\n",
    "plt.xlim(1e-9,3e-7)\n",
    "plt.ylim(1e-18, 5e-12)\n",
    "plt.xlabel(\"Gravitational Wave Frequency [Hz]\", size = \"10\")\n",
    "plt.ylabel(\"Strain\", size = \"10\")\n",
    "plt.tight_layout() \n",
    "ax.legend(frameon = False, loc = \"lower right\")\n",
    "#plt.title(\"Time to detection, 95$\\%$ detection probability\")\n",
    "plt.legend(frameon=False,loc=4)\n",
    "#plt.savefig(\"detectiontime_mm13_test.pdf\", dpi=400, bbox_inches='tight')\n",
    "\n",
    "#plt.title(\"MM13: Time to Detection\")\n",
    "\n",
    "#plt.savefig(\"single_1e-4_predictions_WN.pdf\", dpi=400, bbox_inches='tight')\n",
    "\n",
    "#color = '#1f77b4' (blue) , '#ff7f0e' (orange), '#2ca02c' (green), '#d62728' (red), #9467bd (purple)\n",
    "#plt.savefig(\"plots_bul_34/step_5/loudest_detected_skies_detetcion_probability_mm13_ppt.pdf\")\n",
    "\n",
    "\n",
    "\n",
    "\n"
   ]
  },
  {
   "cell_type": "code",
   "execution_count": 74,
   "metadata": {},
   "outputs": [
    {
     "name": "stdout",
     "output_type": "stream",
     "text": [
      "23\n"
     ]
    }
   ],
   "source": [
    "#Count how many are above the  epta line\n",
    "count = 0\n",
    "epta_strain = dataSB_W[:,1]\n",
    "epta_freq = dataSB_W[:,0]\n",
    "\n",
    "def find_nearest(array,value):\n",
    "    # http://stackoverflow.com/questions/2566412/find-nearest-value-in-numpy-array#\n",
    "    idx = (np.abs(array-value)).argmin()\n",
    "    return idx #return index of array\n",
    "\n",
    "for i in range(len(detS)):\n",
    "    ind = find_nearest(epta_freq, detF[i])\n",
    "    if detS[i] > epta_strain[ind]:\n",
    "        count+=1\n",
    "        \n",
    "#printed number is the number of sources ABOVE the epta strain line\n",
    "print(count)"
   ]
  },
  {
   "cell_type": "code",
   "execution_count": 75,
   "metadata": {},
   "outputs": [],
   "source": [
    "#get chirp mass for all points above the curve lines\n",
    "strain_15 = simStrain7\n",
    "freq_15 = simFreq7\n",
    "\n",
    "strain_20 = simStrain8\n",
    "freq_20 = simFreq8\n",
    "\n",
    "strain_25 = simStrain9\n",
    "freq_25 = simFreq9\n",
    "\n",
    "mc_above = []\n",
    "\n",
    "\n",
    "def find_nearest(array,value):\n",
    "    # http://stackoverflow.com/questions/2566412/find-nearest-value-in-numpy-array#\n",
    "    idx = (np.abs(array-value)).argmin()\n",
    "    return idx #return index of array\n",
    "\n",
    "for i in range(len(flatS)):\n",
    "    ind = find_nearest(freq_15, flatF[i])\n",
    "    if flatS[i] > strain_15[ind]:\n",
    "        mc_above.append(flatMc[i])\n",
    "\n"
   ]
  },
  {
   "cell_type": "code",
   "execution_count": 76,
   "metadata": {},
   "outputs": [
    {
     "name": "stderr",
     "output_type": "stream",
     "text": [
      "/anaconda3/lib/python3.6/site-packages/ipykernel_launcher.py:7: DeprecationWarning: object of type <class 'float'> cannot be safely interpreted as an integer.\n",
      "  import sys\n"
     ]
    },
    {
     "data": {
      "text/plain": [
       "Text(8.13869,0.5,'Probability')"
      ]
     },
     "execution_count": 76,
     "metadata": {},
     "output_type": "execute_result"
    },
    {
     "data": {
      "image/png": "[encoded data removed]",
      "text/plain": [
       "<Figure size 244.354x151.019 with 1 Axes>"
      ]
     },
     "metadata": {
      "image/png": {
       "height": 159,
       "width": 251
      }
     },
     "output_type": "display_data"
    }
   ],
   "source": [
    "log_mc = np.log10(mc_above)\n",
    "\n",
    "bin_list = auto_bin(0.1,7,12)\n",
    "\n",
    "weights_mc = hist_weight(log_mc)\n",
    "plt.hist(log_mc, bin_list, weights = weights_mc, alpha = 0.8, align='left', edgecolor = 'black', label = \"15 years\")\n",
    "\n",
    "plt.legend(frameon=False)\n",
    "plt.tight_layout()\n",
    "\n",
    "plt.xlabel(\"$log10$ Chirp Mass\")\n",
    "plt.ylabel(\"Probability\")\n",
    "#plt.savefig(\"plots_bul_34/step_5/above_mc_distribution_bul_34.pdf\")\n",
    "\n",
    "\n"
   ]
  },
  {
   "cell_type": "code",
   "execution_count": null,
   "metadata": {},
   "outputs": [],
   "source": [
    "len(newS)"
   ]
  },
  {
   "cell_type": "markdown",
   "metadata": {},
   "source": [
    "# Histograms for 25 yr detected skies"
   ]
  },
  {
   "cell_type": "code",
   "execution_count": 77,
   "metadata": {},
   "outputs": [],
   "source": [
    "def find_gal_idx(nameList, name):\n",
    "    ans = [i for i, x in enumerate(nameList) if x == name]\n",
    "    return ans\n",
    "\n",
    "def find_gal_dec_idx(nameList, dec):\n",
    "    ans = [i for i, x in enumerate(nameList) if x >= dec]\n",
    "    return ans\n",
    "\n",
    "def find_gal_dec_idx_neg(nameList, dec):\n",
    "    ans = [i for i, x in enumerate(nameList) if x <= dec]\n",
    "    return ans\n",
    "\n",
    "def hist_weight(lst):\n",
    "    return np.ones_like(lst)/len(lst)\n",
    "\n",
    "def auto_bin(bin_size, min_edge, max_edge):\n",
    "    #bin_size = 0.05; min_edge = -3.5; max_edge = -1\n",
    "    N = (max_edge-min_edge)/bin_size; Nplus1 = N + 1\n",
    "    bin_list = np.linspace(min_edge, max_edge, Nplus1)\n",
    "    return bin_list"
   ]
  },
  {
   "cell_type": "code",
   "execution_count": 78,
   "metadata": {},
   "outputs": [
    {
     "name": "stderr",
     "output_type": "stream",
     "text": [
      "/anaconda3/lib/python3.6/site-packages/ipykernel_launcher.py:19: DeprecationWarning: object of type <class 'float'> cannot be safely interpreted as an integer.\n"
     ]
    },
    {
     "data": {
      "image/png": "[encoded data removed]",
      "text/plain": [
       "<Figure size 244.354x151.019 with 1 Axes>"
      ]
     },
     "metadata": {
      "image/png": {
       "height": 148,
       "width": 239
      }
     },
     "output_type": "display_data"
    }
   ],
   "source": [
    "bin_list = auto_bin(0.15,-15,-12)\n",
    "weights1 = hist_weight(np.log10(iptaDetectedS6))\n",
    "weights2 = hist_weight(np.log10(RiptaDetectedS6))\n",
    "plt.hist(np.log10(RiptaDetectedS6),bin_list, align='left',  alpha=0.8, edgecolor = 'black', \\\n",
    "         label = \"red noise\", color = \"C1\", weights = weights2)\n",
    "plt.hist(np.log10(iptaDetectedS6),bin_list, align='left',  alpha=0.8, edgecolor = 'black', \\\n",
    "         label = \"white noise\", color = \"C0\", weights = weights1)\n",
    "#plt.hist(np.log10(RiptaDetectedS6),bin_list, align='left',  alpha=0.8, edgecolor = 'black', \\\n",
    "        # label = \"red noise\", color = \"C1\")\n",
    "\n",
    "#plt.xlim(-9.7,-7.7)\n",
    "plt.xlabel(r\"Distribution of strain $\\log_{10}(h)$, 25 year data\")\n",
    "plt.ylabel(\"Probability\")\n",
    "#plt.legend(frameon=False)\n",
    "plt.tight_layout()\n",
    "#plt.savefig(\"plots_sigma_114/step_5/strain_distribution_mm13_sig_114.pdf\")"
   ]
  },
  {
   "cell_type": "code",
   "execution_count": 79,
   "metadata": {},
   "outputs": [
    {
     "name": "stdout",
     "output_type": "stream",
     "text": [
      "[5.08115433150501e-15, 6.6588422682588715e-15, 8.332688738071618e-15, 5.2043628918674344e-15, 1.0953527251888386e-14, 1.3077413810011684e-14, 8.332987439910596e-15, 2.7350359381781402e-14]\n"
     ]
    }
   ],
   "source": [
    "print(RiptaDetectedS6)"
   ]
  },
  {
   "cell_type": "code",
   "execution_count": 80,
   "metadata": {},
   "outputs": [
    {
     "name": "stderr",
     "output_type": "stream",
     "text": [
      "/anaconda3/lib/python3.6/site-packages/ipykernel_launcher.py:19: DeprecationWarning: object of type <class 'float'> cannot be safely interpreted as an integer.\n"
     ]
    },
    {
     "data": {
      "image/png": "[encoded data removed]",
      "text/plain": [
       "<Figure size 244.354x151.019 with 1 Axes>"
      ]
     },
     "metadata": {
      "image/png": {
       "height": 148,
       "width": 241
      }
     },
     "output_type": "display_data"
    }
   ],
   "source": [
    "# What is the distribution of frequencies where sources were detected?\n",
    "bin_list = auto_bin(0.1,-9.6,-7.4)\n",
    "weights1 = hist_weight(np.log10(iptaDetectedF6))\n",
    "weights2 = hist_weight(np.log10(RiptaDetectedF6))\n",
    "plt.hist(np.log10(iptaDetectedF6),bin_list, align='left',  alpha=0.8, edgecolor = 'black', \\\n",
    "         weights = weights1 , label = \"white noise\")\n",
    "plt.hist(np.log10(RiptaDetectedF6),bin_list, align='left',  alpha=0.8, edgecolor = 'black', \\\n",
    "         weights = weights2 , label = \"red noise\")\n",
    "#plt.xlim(-9.7,-7.7)\n",
    "plt.xlabel(r\"Distribution of $\\log_{10}(f_\\mathrm{GW})$, 25 year data [Hz]\")\n",
    "plt.ylabel(\"Probability\")\n",
    "#plt.legend(frameon=False)\n",
    "plt.tight_layout()\n",
    "plt.savefig(\"plots_sigma_114/step_5/frequency_distribution_sig_114.pdf\")"
   ]
  },
  {
   "cell_type": "code",
   "execution_count": 81,
   "metadata": {},
   "outputs": [
    {
     "ename": "NameError",
     "evalue": "name 'mchirp_recLog2' is not defined",
     "output_type": "error",
     "traceback": [
      "\u001b[0;31m---------------------------------------------------------------------------\u001b[0m",
      "\u001b[0;31mNameError\u001b[0m                                 Traceback (most recent call last)",
      "\u001b[0;32m<ipython-input-81-2c3dc5ed7deb>\u001b[0m in \u001b[0;36m<module>\u001b[0;34m()\u001b[0m\n\u001b[0;32m----> 1\u001b[0;31m \u001b[0mmax\u001b[0m\u001b[0;34m(\u001b[0m\u001b[0mmchirp_recLog2\u001b[0m\u001b[0;34m)\u001b[0m\u001b[0;34m\u001b[0m\u001b[0m\n\u001b[0m",
      "\u001b[0;31mNameError\u001b[0m: name 'mchirp_recLog2' is not defined"
     ]
    }
   ],
   "source": [
    "max(mchirp_recLog2)"
   ]
  },
  {
   "cell_type": "code",
   "execution_count": null,
   "metadata": {},
   "outputs": [],
   "source": [
    "mchirp_recLog2 = np.log10(RiptaDetectedMc6)\n",
    "mchirp_recLog = np.log10(iptaDetectedMc6)\n",
    "\n",
    "bin_list = auto_bin(.1,8.3,10.3)\n",
    "weights1 = hist_weight(mchirp_recLog)\n",
    "weights2 = hist_weight(mchirp_recLog2)\n",
    "\n",
    "plt.hist(mchirp_recLog ,bin_list, align='left',  alpha=0.8, edgecolor = 'black', weights = weights1, \\\n",
    "        label = \"white noise\")\n",
    "plt.hist(mchirp_recLog2 ,bin_list, align='left',  alpha=0.8, edgecolor = 'black', weights = weights2, \\\n",
    "        label = 'red noise')\n",
    "\n",
    "plt.xlabel(r\"Log Chirp Mass $\\mathcal{M}_c$ $[M_\\odot]$, 25 year data\")\n",
    "plt.ylabel(\"Probability\")\n",
    "#plt.legend(frameon=False)\n",
    "plt.tight_layout()\n",
    "#plt.savefig(\"plots_sigma_114/step_5/chirp_mass_distribution_sig_114.pdf\")"
   ]
  },
  {
   "cell_type": "code",
   "execution_count": null,
   "metadata": {},
   "outputs": [],
   "source": [
    "fig = plt.figure()\n",
    "ax = fig.add_subplot(111)\n",
    "bin_list = auto_bin(.05,.2,1)\n",
    "weights1 = hist_weight(iptaDetectedQ6)\n",
    "weights2 = hist_weight(RiptaDetectedQ6)\n",
    "\n",
    "plt.hist(iptaDetectedQ6,bin_list, alpha=0.8, edgecolor = 'black', align = 'left', weights = weights1,\\\n",
    "        label = \"white noise\")\n",
    "plt.hist(RiptaDetectedQ6,bin_list, alpha=0.8, edgecolor = 'black', align = 'left', weights = weights2, \\\n",
    "        label= 'red noise')\n",
    "\n",
    "plt.xlabel(r\"Mass Ratio ($q$), 25 year dataset \")\n",
    "plt.ylabel(\"Probability\")\n",
    "plt.xlim(0.2,1.0)\n",
    "majorLocator = MultipleLocator(.25)\n",
    "minorLocator = MultipleLocator(0.05)\n",
    "ax.xaxis.set_minor_locator(minorLocator)\n",
    "ax.xaxis.set_major_locator(majorLocator)\n",
    "#plt.legend(frameon=False)\n",
    "plt.tight_layout()\n",
    "\n",
    "#plt.savefig(\"plots_sigma_114/step_5/mass_ratio_distribution_sig_114.pdf\")"
   ]
  },
  {
   "cell_type": "code",
   "execution_count": null,
   "metadata": {},
   "outputs": [],
   "source": [
    "ax = fig.add_subplot(111)\n",
    "bin_list = auto_bin(.1,-27,-24.9)\n",
    "weights1 = hist_weight(iptaDetectedLum6)\n",
    "weights2 = hist_weight(RiptaDetectedLum6)\n",
    "\n",
    "plt.hist(iptaDetectedLum6,bin_list, alpha=0.8, edgecolor = 'black', align = 'left', weights = weights1)\n",
    "plt.hist(RiptaDetectedLum6,bin_list, alpha=0.8, edgecolor = 'black', align = 'left', weights = weights2)\n",
    "plt.xlim(-27,-24.9)\n",
    "plt.ylabel(\"Probability\")\n",
    "plt.xlabel(r\"2MASS K-band Luminosity ($M_K$), 25 year dataset \")\n",
    "#plt.legend(frameon=False)\n",
    "plt.tight_layout()\n",
    "plt.savefig(\"plots_sigma_114/step_5/kLum_distribution_sig_114.pdf\")"
   ]
  },
  {
   "cell_type": "code",
   "execution_count": null,
   "metadata": {},
   "outputs": [],
   "source": [
    "bin_list = auto_bin(5,10,220)\n",
    "weights1 = hist_weight(iptaDetectedDist6)\n",
    "weights2 = hist_weight(RiptaDetectedDist6)\n",
    "\n",
    "ax = fig.add_subplot(111)\n",
    "plt.hist(iptaDetectedDist6, bin_list, weights=weights1, alpha = 0.8, align='left', edgecolor = 'black',\\\n",
    "         label = \"white noise\")\n",
    "plt.hist(RiptaDetectedDist6, bin_list, weights=weights2, alpha = 0.8, align='left', edgecolor = 'black', \\\n",
    "        label = \"red noise\")\n",
    "\n",
    "\n",
    "majorLocator = MultipleLocator(25)\n",
    "minorLocator = MultipleLocator(5)\n",
    "ax.xaxis.set_minor_locator(minorLocator)\n",
    "ax.xaxis.set_major_locator(majorLocator)\n",
    "plt.xlabel(\"Distance to Galaxy (Mpc), detected 25 year\")\n",
    "plt.ylabel(\"Probability\")\n",
    "plt.vlines(22,0,.08, colors='C3', linestyles='-.')\n",
    "plt.vlines(108,0,.08,colors='C4', linestyles='-.')\n",
    "plt.annotate('Virgo', (24,.07), color = 'C3')\n",
    "plt.annotate('Coma', (111,.07), color = 'C4')\n",
    "\n",
    "#plt.legend(frameon=False)\n",
    "plt.tight_layout()\n",
    "plt.savefig(\"plots_sigma_114/step_5/distance_distribution_sig_114.pdf\")"
   ]
  },
  {
   "cell_type": "code",
   "execution_count": null,
   "metadata": {},
   "outputs": [],
   "source": []
  },
  {
   "cell_type": "code",
   "execution_count": null,
   "metadata": {},
   "outputs": [],
   "source": []
  }
 ],
 "metadata": {
  "kernelspec": {
   "display_name": "Python 3",
   "language": "python",
   "name": "python3"
  },
  "language_info": {
   "codemirror_mode": {
    "name": "ipython",
    "version": 3
   },
   "file_extension": ".py",
   "mimetype": "text/x-python",
   "name": "python",
   "nbconvert_exporter": "python",
   "pygments_lexer": "ipython3",
   "version": "3.6.5"
  }
 },
 "nbformat": 4,
 "nbformat_minor": 1
}
