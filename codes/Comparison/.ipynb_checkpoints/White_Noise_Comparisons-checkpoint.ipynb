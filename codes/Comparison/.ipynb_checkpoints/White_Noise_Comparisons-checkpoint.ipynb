{
 "cells": [
  {
   "cell_type": "code",
   "execution_count": 42,
   "metadata": {},
   "outputs": [],
   "source": [
    "#!/usr/bin/env python\n",
    "from __future__ import division\n",
    "import sys, os\n",
    "import math\n",
    "import numpy as np\n",
    "import matplotlib.pyplot as plt\n",
    "from math import pi, cos, sin, log10\n",
    "import healpy as hp\n",
    "import plot_mpl2\n",
    "import collections\n",
    "from matplotlib.ticker import FormatStrFormatter, LinearLocator, NullFormatter, NullLocator, MultipleLocator\n",
    "\n",
    "from scipy.stats import norm\n",
    "\n",
    "%matplotlib inline\n",
    "%config InlineBackend.figure_format = \"retina\""
   ]
  },
  {
   "cell_type": "code",
   "execution_count": 30,
   "metadata": {},
   "outputs": [],
   "source": [
    "def hist_weight(lst):\n",
    "    return np.ones_like(lst)/len(lst)\n",
    "\n",
    "def auto_bin(bin_size, min_edge, max_edge):\n",
    "    #bin_size = 0.05; min_edge = -3.5; max_edge = -1\n",
    "    N = (max_edge-min_edge)/bin_size; Nplus1 = N + 1\n",
    "    bin_list = np.linspace(min_edge, max_edge, Nplus1)\n",
    "    return bin_list"
   ]
  },
  {
   "cell_type": "code",
   "execution_count": 3,
   "metadata": {},
   "outputs": [],
   "source": [
    "# all realizations\n",
    "mm_files = []\n",
    "\n",
    "for i in os.listdir('../../rusty_data/MM13_Reg/34_dex/'):\n",
    "    if i.endswith('.txt'):\n",
    "        mm_files.append(i)"
   ]
  },
  {
   "cell_type": "code",
   "execution_count": 4,
   "metadata": {},
   "outputs": [],
   "source": [
    "# all realizations\n",
    "kh_files = []\n",
    "\n",
    "for i in os.listdir('../../rusty_data/KH13_Reg/29_dex/'):\n",
    "    if i.endswith('.txt'):\n",
    "        kh_files.append(i)"
   ]
  },
  {
   "cell_type": "code",
   "execution_count": 5,
   "metadata": {},
   "outputs": [],
   "source": [
    "# all points for detected skies\n",
    "mm_allF = []\n",
    "mm_allS = []\n",
    "mm_allMc = []\n",
    "mm_allQ = []\n",
    "mm_allPi = []\n",
    "mm_allLum = []\n",
    "mm_all_name = []\n",
    "mm_allD = []\n",
    "\n",
    "for filename in mm_files:\n",
    "    allFile = np.genfromtxt(\"../../rusty_data/MM13_Reg/34_dex/\"+filename, usecols=(2,3,4,5,7,8,9))\n",
    "    mm_allF.append(allFile[:,0])\n",
    "    mm_allS.append(allFile[:,1])\n",
    "    mm_allMc.append(allFile[:,2])\n",
    "    mm_allQ.append(allFile[:,3])\n",
    "    mm_allD.append(allFile[:,4])\n",
    "    mm_allLum.append(allFile[:,5]) \n",
    "    mm_allPi.append(allFile[:,6])\n",
    "    mm_all_name.append(np.genfromtxt(\"../../rusty_data/MM13_Reg/34_dex/\"+filename, usecols=(6), dtype = \"U9\"))\n",
    "\n",
    "\n"
   ]
  },
  {
   "cell_type": "code",
   "execution_count": 6,
   "metadata": {},
   "outputs": [
    {
     "data": {
      "text/plain": [
       "116150"
      ]
     },
     "execution_count": 6,
     "metadata": {},
     "output_type": "execute_result"
    }
   ],
   "source": [
    "len(mm_allMc)"
   ]
  },
  {
   "cell_type": "code",
   "execution_count": 8,
   "metadata": {},
   "outputs": [],
   "source": [
    "# all points for detected skies\n",
    "kh_allF = []\n",
    "kh_allS = []\n",
    "kh_allMc = []\n",
    "kh_allQ = []\n",
    "kh_allPi = []\n",
    "kh_allLum = []\n",
    "kh_all_name = []\n",
    "kh_allD = []\n",
    "\n",
    "for filename in kh_files:\n",
    "    allFile = np.genfromtxt(\"../../rusty_data/KH13_Reg/29_dex/\"+filename, usecols=(2,3,4,5,7,8,9))\n",
    "    kh_allF.append(allFile[:,0])\n",
    "    kh_allS.append(allFile[:,1])\n",
    "    kh_allMc.append(allFile[:,2])\n",
    "    kh_allQ.append(allFile[:,3])\n",
    "    kh_allD.append(allFile[:,4])\n",
    "    kh_allLum.append(allFile[:,5]) \n",
    "    kh_allPi.append(allFile[:,6])\n",
    "    kh_all_name.append(np.genfromtxt(\"../../rusty_data/KH13_Reg/29_dex/\"+filename, usecols=(6), dtype = \"U9\"))\n"
   ]
  },
  {
   "cell_type": "code",
   "execution_count": 9,
   "metadata": {},
   "outputs": [
    {
     "data": {
      "text/plain": [
       "115281"
      ]
     },
     "execution_count": 9,
     "metadata": {},
     "output_type": "execute_result"
    }
   ],
   "source": [
    "len(kh_allMc)"
   ]
  },
  {
   "cell_type": "code",
   "execution_count": 10,
   "metadata": {},
   "outputs": [],
   "source": [
    "# simulated CW curves (white noise)\n",
    "sim1a = np.loadtxt(\"../../detection_curves/cw_simulation_Ared_0_dp_0.95_fap_0.05_T_15.txt\") # 2sigma, DP=0.95, 15 yrs\n",
    "sim2b = np.loadtxt(\"../../detection_curves/cw_simulation_Ared_0_dp_0.95_fap_0.05_T_20.txt\") # 2sigma, DP=0.95, 20 yrs\n",
    "sim3c = np.loadtxt(\"../../detection_curves/cw_simulation_Ared_0_dp_0.95_fap_0.05_T_25.txt\") # 2sigma, DP=0.95, 25 yrs\n",
    "\n",
    "sim1d = np.loadtxt(\"../../detection_curves/cw_simulation_Ared_0_dp_0.95_fap_0.003_T_15.txt\") # 3sigma, DP=0.95, 15 yrs\n",
    "sim2e = np.loadtxt(\"../../detection_curves/cw_simulation_Ared_0_dp_0.95_fap_0.003_T_20.txt\") # 3sigma, DP=0.95, 20 yrs\n",
    "sim3f = np.loadtxt(\"../../detection_curves/cw_simulation_Ared_0_dp_0.95_fap_0.003_T_25.txt\") # 3sigma, DP=0.95, 25 yrs\n",
    "\n",
    "sim1g = np.loadtxt(\"../../detection_curves/cw_simulation_Ared_0_dp_0.95_fap_0.0001_T_15.txt\") # 1e-4, DP=0.95, 15 yrs\n",
    "sim2h = np.loadtxt(\"../../detection_curves/cw_simulation_Ared_0_dp_0.95_fap_0.0001_T_20.txt\") # 1e-4, DP=0.95, 20 yrs\n",
    "sim3i = np.loadtxt(\"../../detection_curves/cw_simulation_Ared_0_dp_0.95_fap_0.0001_T_25.txt\") # 1e-4, DP=0.95, 25 yrs"
   ]
  },
  {
   "cell_type": "code",
   "execution_count": 11,
   "metadata": {},
   "outputs": [],
   "source": [
    "# simulated frequency and strain\n",
    "simStrain1 = sim1a[:,1] # 15 yrs, 0 red noise, 2sigma\n",
    "simFreq1 = sim1a[:,0]\n",
    "simStrain2 = sim2b[:,1] # 20 yrs, 0 red noise, 2sigma\n",
    "simFreq2 = sim2b[:,0]\n",
    "simStrain3 = sim3c[:,1] # 25 yrs, 0 red noise, 2sigma\n",
    "simFreq3 = sim3c[:,0]\n",
    "\n",
    "simStrain4 = sim1d[:,1] # 15 yrs, 0 red noise, 3 sigma\n",
    "simFreq4 = sim1d[:,0]\n",
    "simStrain5 = sim2e[:,1] # 20 yrs, 0 red noise, 3 sigma\n",
    "simFreq5 = sim2e[:,0]\n",
    "simStrain6 = sim3f[:,1] # 25 yrs, 0 red noise, 3 sigma\n",
    "simFreq6 = sim3f[:,0]\n",
    "\n",
    "simStrain7 = sim1g[:,1] # 15 yrs, 0 red noise, 1e-4\n",
    "simFreq7 = sim1g[:,0]\n",
    "simStrain8 = sim2h[:,1] # 20 yrs, 0 red noise, 1e-4\n",
    "simFreq8 = sim2h[:,0]\n",
    "simStrain9 = sim3i[:,1] # 25 yrs, 0 red noise, 1e-4\n",
    "simFreq9 = sim3i[:,0]\n",
    "\n",
    "\n"
   ]
  },
  {
   "cell_type": "code",
   "execution_count": 12,
   "metadata": {},
   "outputs": [],
   "source": [
    "def find_nearest(array,value):\n",
    "    # http://stackoverflow.com/questions/2566412/find-nearest-value-in-numpy-array\n",
    "    idx = (np.abs(array-value)).argmin()\n",
    "    return idx #return index of array"
   ]
  },
  {
   "cell_type": "code",
   "execution_count": 25,
   "metadata": {},
   "outputs": [],
   "source": [
    "def kh_find_detected_sr(simFreq,simStrain):\n",
    "    iptaDetectedF = []\n",
    "    iptaDetectedS = []\n",
    "    iptaDetectedN = []\n",
    "    iptaDetectedMc = []\n",
    "    iptaDetectedQ = []\n",
    "    iptaDetectedPi = []\n",
    "    iptaDetectedLum = []\n",
    "    iptaDetectedDist = []\n",
    "\n",
    "    for i in range(len(kh_allF)):\n",
    "        for j in range(len(kh_allF[i])):\n",
    "            compareFreq = find_nearest(simFreq, kh_allF[i][j]) # find the closest freq in inteprolated values to source freq, report index\n",
    "            simStrainX = simStrain[compareFreq] # what is the strain of that source?\n",
    "            if kh_allS[i][j] > simStrainX: # can we detect that source?\n",
    "                iptaDetectedF.append(kh_allF[i][j]) # add it to a detected list\n",
    "                iptaDetectedS.append(kh_allS[i][j]) \n",
    "                iptaDetectedN.append(kh_all_name[i][j]) \n",
    "                iptaDetectedMc.append(kh_allMc[i][j]) \n",
    "                iptaDetectedQ.append(kh_allQ[i][j]) \n",
    "                iptaDetectedPi.append(kh_allPi[i][j]) \n",
    "                iptaDetectedLum.append(kh_allLum[i][j]) \n",
    "                iptaDetectedDist.append(kh_allD[i][j])\n",
    "    return iptaDetectedF, iptaDetectedS, iptaDetectedN, iptaDetectedMc, iptaDetectedQ, iptaDetectedPi, iptaDetectedLum, iptaDetectedDist"
   ]
  },
  {
   "cell_type": "code",
   "execution_count": 26,
   "metadata": {},
   "outputs": [],
   "source": [
    "def mm_find_detected_sr(simFreq,simStrain):\n",
    "    iptaDetectedF = []\n",
    "    iptaDetectedS = []\n",
    "    iptaDetectedN = []\n",
    "    iptaDetectedMc = []\n",
    "    iptaDetectedQ = []\n",
    "    iptaDetectedPi = []\n",
    "    iptaDetectedLum = []\n",
    "    iptaDetectedDist = []\n",
    "\n",
    "    for i in range(len(mm_allF)):\n",
    "        for j in range(len(mm_allF[i])):\n",
    "            compareFreq = find_nearest(simFreq, mm_allF[i][j]) # find the closest freq in inteprolated values to source freq, report index\n",
    "            simStrainX = simStrain[compareFreq] # what is the strain of that source?\n",
    "            if mm_allS[i][j] > simStrainX: # can we detect that source?\n",
    "                iptaDetectedF.append(mm_allF[i][j]) # add it to a detected list\n",
    "                iptaDetectedS.append(mm_allS[i][j]) \n",
    "                iptaDetectedN.append(mm_all_name[i][j]) \n",
    "                iptaDetectedMc.append(mm_allMc[i][j]) \n",
    "                iptaDetectedQ.append(mm_allQ[i][j]) \n",
    "                iptaDetectedPi.append(mm_allPi[i][j]) \n",
    "                iptaDetectedLum.append(mm_allLum[i][j]) \n",
    "                iptaDetectedDist.append(mm_allD[i][j])\n",
    "    return iptaDetectedF, iptaDetectedS, iptaDetectedN, iptaDetectedMc, iptaDetectedQ, iptaDetectedPi, iptaDetectedLum, iptaDetectedDist"
   ]
  },
  {
   "cell_type": "code",
   "execution_count": 27,
   "metadata": {},
   "outputs": [],
   "source": [
    "# 25 yrs white noise, 3 sigma\n",
    "mm_iptaDetectedF6, mm_iptaDetectedS6, mm_iptaDetectedN6, mm_iptaDetectedMc6, mm_iptaDetectedQ6, mm_iptaDetectedPi6, mm_iptaDetectedLum6, \\\n",
    "mm_iptaDetectedDist6 = mm_find_detected_sr(simFreq6,simStrain6)"
   ]
  },
  {
   "cell_type": "code",
   "execution_count": 28,
   "metadata": {},
   "outputs": [],
   "source": [
    "# 25 yrs white noise, 3 sigma\n",
    "kh_iptaDetectedF6, kh_iptaDetectedS6, kh_iptaDetectedN6, kh_iptaDetectedMc6, kh_iptaDetectedQ6, kh_iptaDetectedPi6, kh_iptaDetectedLum6, \\\n",
    "kh_iptaDetectedDist6 = kh_find_detected_sr(simFreq6,simStrain6)"
   ]
  },
  {
   "cell_type": "code",
   "execution_count": 43,
   "metadata": {},
   "outputs": [
    {
     "name": "stderr",
     "output_type": "stream",
     "text": [
      "/anaconda3/lib/python3.6/site-packages/ipykernel_launcher.py:7: DeprecationWarning: object of type <class 'float'> cannot be safely interpreted as an integer.\n",
      "  import sys\n"
     ]
    },
    {
     "name": "stdout",
     "output_type": "stream",
     "text": [
      "KH13:  9.097798902546357\n",
      "MM13:  8.97639588392341\n",
      "KH13:  0.3095248432984451\n",
      "MM13:  0.2912071502391178\n",
      "KH13:  0.3095248432984451\n",
      "MM13:  0.2912071502391178\n",
      "KH13:  9.097798902546357\n",
      "MM13:  8.97639588392341\n"
     ]
    },
    {
     "data": {
      "image/png": "[encoded data removed]",
      "text/plain": [
       "<Figure size 432x288 with 1 Axes>"
      ]
     },
     "metadata": {
      "image/png": {
       "height": 276,
       "width": 422
      }
     },
     "output_type": "display_data"
    }
   ],
   "source": [
    "mm_mchirp = np.log10(mm_iptaDetectedMc6)\n",
    "kh_mchirp = np.log10(kh_iptaDetectedMc6)\n",
    "\n",
    "bin_list = auto_bin(.07,8.3,10.3)\n",
    "mm_weight = hist_weight(mm_mchirp)\n",
    "kh_weight = hist_weight(kh_mchirp)\n",
    "\n",
    "\n",
    "plt.hist(kh_mchirp ,bin_list, align='left',  alpha=0.8, edgecolor = 'black', weights = kh_weight, \\\n",
    "        label = \"KH13\", color = \"C1\")\n",
    "plt.hist(mm_mchirp ,bin_list, align='left',  alpha=0.8, edgecolor = 'black', weights = mm_weight, \\\n",
    "        label = \"MM13\", color = \"C0\")\n",
    "\n",
    "plt.xlabel(r\"Log Chirp Mass $\\mathcal{M}_c$ $[M_\\odot]$, 25 year data\")\n",
    "plt.ylabel(\"Probability\")\n",
    "plt.legend(frameon=False)\n",
    "plt.tight_layout()\n",
    "\n",
    "kh_mu = np.mean(kh_mchirp)\n",
    "mm_mu = np.mean(mm_mchirp)\n",
    "print(\"KH13: \", kh_mu)\n",
    "print(\"MM13: \", mm_mu)\n",
    "\n",
    "kh_std = np.std(kh_mchirp)\n",
    "mm_std = np.std(mm_mchirp)\n",
    "\n",
    "print(\"KH13: \", kh_std)\n",
    "print(\"MM13: \", mm_std)\n",
    "\n",
    "(kh_mu, kh_sigma) = norm.fit(kh_mchirp)\n",
    "(mm_mu, mm_sigma) = norm.fit(mm_mchirp)\n",
    "\n",
    "print(\"KH13: \", kh_sigma)\n",
    "print(\"MM13: \", mm_sigma)\n",
    "print(\"KH13: \", kh_mu)\n",
    "print(\"MM13: \", mm_mu)\n",
    "#plt.savefig(\"plots_comparison/chirp_mass_kh13_mm13_white_noise_3sig.pdf\")\n",
    "\n",
    "\n"
   ]
  },
  {
   "cell_type": "code",
   "execution_count": 39,
   "metadata": {},
   "outputs": [
    {
     "name": "stderr",
     "output_type": "stream",
     "text": [
      "/anaconda3/lib/python3.6/site-packages/ipykernel_launcher.py:7: DeprecationWarning: object of type <class 'float'> cannot be safely interpreted as an integer.\n",
      "  import sys\n"
     ]
    },
    {
     "name": "stdout",
     "output_type": "stream",
     "text": [
      "KH13:  109.92907137686404\n",
      "MM13:  95.30068717710363\n"
     ]
    },
    {
     "data": {
      "image/png": "[encoded data removed]",
      "text/plain": [
       "<Figure size 432x288 with 1 Axes>"
      ]
     },
     "metadata": {
      "image/png": {
       "height": 278,
       "width": 424
      }
     },
     "output_type": "display_data"
    }
   ],
   "source": [
    "bin_list = auto_bin(5,10,220)\n",
    "\n",
    "fig = plt.figure()\n",
    "\n",
    "mm_weight = hist_weight(mm_iptaDetectedDist6)\n",
    "kh_weight = hist_weight(kh_iptaDetectedDist6)\n",
    "\n",
    "ax = fig.add_subplot(111)\n",
    "\n",
    "plt.hist(mm_iptaDetectedDist6, bin_list, weights=mm_weight, alpha = 0.8, align='left', edgecolor = 'black',\\\n",
    "         label = \"MM13\", color = \"C0\")\n",
    "plt.hist(kh_iptaDetectedDist6, bin_list, weights=kh_weight, alpha = 0.8, align='left', edgecolor = 'black', \\\n",
    "        label = \"KH13\", color = \"C1\")\n",
    "\n",
    "\n",
    "majorLocator = MultipleLocator(25)\n",
    "minorLocator = MultipleLocator(5)\n",
    "ax.xaxis.set_minor_locator(minorLocator)\n",
    "ax.xaxis.set_major_locator(majorLocator)\n",
    "plt.xlabel(\"Distance to Galaxy (Mpc), detected 25 year\")\n",
    "plt.ylabel(\"Probability\")\n",
    "plt.vlines(22,0,.08, colors='C3', linestyles='-.')\n",
    "plt.vlines(108,0,.08,colors='C4', linestyles='-.')\n",
    "plt.annotate('Virgo', (24,.07), color = 'C3')\n",
    "plt.annotate('Coma', (111,.07), color = 'C4')\n",
    "\n",
    "plt.legend(frameon=False)\n",
    "plt.tight_layout()\n",
    "\n",
    "kh_mu = np.mean(kh_iptaDetectedDist6)\n",
    "mm_mu = np.mean(mm_iptaDetectedDist6)\n",
    "print(\"KH13: \", kh_mu)\n",
    "print(\"MM13: \", mm_mu)\n",
    "\n",
    "plt.savefig(\"plots_comparison/distance_kh13_mm13_white_noise_3sig.pdf\")\n",
    "\n",
    "\n",
    "\n"
   ]
  },
  {
   "cell_type": "code",
   "execution_count": null,
   "metadata": {},
   "outputs": [],
   "source": []
  }
 ],
 "metadata": {
  "kernelspec": {
   "display_name": "Python 3",
   "language": "python",
   "name": "python3"
  },
  "language_info": {
   "codemirror_mode": {
    "name": "ipython",
    "version": 3
   },
   "file_extension": ".py",
   "mimetype": "text/x-python",
   "name": "python",
   "nbconvert_exporter": "python",
   "pygments_lexer": "ipython3",
   "version": "3.6.5"
  }
 },
 "nbformat": 4,
 "nbformat_minor": 2
}
