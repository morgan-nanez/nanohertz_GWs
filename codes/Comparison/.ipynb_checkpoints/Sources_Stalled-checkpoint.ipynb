{
 "cells": [
  {
   "cell_type": "code",
   "execution_count": null,
   "metadata": {},
   "outputs": [],
   "source": [
    "from __future__ import division\n",
    "import os\n",
    "from IPython.display import display, Math, Latex\n",
    "import math\n",
    "from math import sqrt, cos, sin, pi\n",
    "import numpy as np\n",
    "import statsmodels.api as sm\n",
    "from scipy.interpolate import interp1d\n",
    "import scipy.integrate\n",
    "import matplotlib.pyplot as plt\n",
    "import matplotlib.mlab as ml\n",
    "from matplotlib.ticker import FormatStrFormatter, LinearLocator, NullFormatter, NullLocator, MultipleLocator\n",
    "import matplotlib.ticker\n",
    "import matplotlib.colors\n",
    "from matplotlib.font_manager import FontProperties\n",
    "from matplotlib import rc, text\n",
    "import healpy as hp\n",
    "#import plot_mpI2\n",
    "from astropy import units as u\n",
    "from astropy.coordinates import SkyCoord\n",
    "from astropy.io import fits\n",
    "from scipy.stats import norm\n",
    "import matplotlib.mlab as mlab\n",
    "from scipy.stats import lognorm\n",
    "from scipy import stats\n",
    "\n",
    "\n",
    "%matplotlib inline\n",
    "%config InlineBackend.figure_format = \"retina\""
   ]
  },
  {
   "cell_type": "code",
   "execution_count": null,
   "metadata": {},
   "outputs": [],
   "source": [
    "kh_files = []\n",
    "# this is the path to where you store all the GW realizations\n",
    "#for i in os.listdir('../../rusty_data/KH13_Reg/29dex'):\n",
    "for i in os.listdir('../../rusty_data/KH13_Reg/29_dex'):\n",
    "    if i.endswith('.txt'):\n",
    "        kh_files.append(i)"
   ]
  },
  {
   "cell_type": "code",
   "execution_count": null,
   "metadata": {},
   "outputs": [],
   "source": [
    "\"\"\"this is the path to where you store all the GW realizations\"\"\"\n",
    "\n",
    "mm_files = []\n",
    "for i in os.listdir('../../rusty_data/MM13_Reg/34_dex'):\n",
    "    if i.endswith('.txt'):\n",
    "        mm_files.append(i)"
   ]
  },
  {
   "cell_type": "code",
   "execution_count": null,
   "metadata": {},
   "outputs": [],
   "source": [
    "hr_files = []\n",
    "# this is the path to where you store all the GW realizations\n",
    "for i in os.listdir('../../rusty_data/HR04_Reg/30_dex/'):\n",
    "    if i.endswith('.txt'):\n",
    "        hr_files.append(i)"
   ]
  },
  {
   "cell_type": "code",
   "execution_count": null,
   "metadata": {},
   "outputs": [],
   "source": [
    "no_of_skies = len(kh_files)\n",
    "kh_source = []\n",
    "kh_stall = []\n",
    "\n",
    "# remember to update the path here to the one with all your realizations\n",
    "for jj in range(no_of_skies):\n",
    "    filename = kh_files[jj]\n",
    "    sim_sky = np.genfromtxt(\"../../rusty_data/KH13_Reg/29_dex/\" + str(filename))  \n",
    "    \n",
    "    ex = sim_sky[:,0] #phi, add pi to this for healpix maps\n",
    "    kh_source.append(ex.size) # number of galaxies in file\n",
    "    kh_stall.append(sim_sky[0][18])"
   ]
  },
  {
   "cell_type": "code",
   "execution_count": null,
   "metadata": {},
   "outputs": [],
   "source": [
    "no_of_skies = len(mm_files)\n",
    "mm_source = []\n",
    "mm_stall = []\n",
    "\n",
    "# remember to update the path here to the one with all your realizations\n",
    "for jj in range(no_of_skies):\n",
    "    filename = mm_files[jj]\n",
    "    sim_sky = np.genfromtxt(\"../../rusty_data/MM13_Reg/34_dex/\" + str(filename))  \n",
    "    \n",
    "    ex = sim_sky[:,0] #phi, add pi to this for healpix maps\n",
    "    mm_source.append(ex.size) # number of galaxies in file\n",
    "    mm_stall.append(sim_sky[0][18])"
   ]
  },
  {
   "cell_type": "code",
   "execution_count": null,
   "metadata": {},
   "outputs": [],
   "source": [
    "no_of_skies = len(hr_files)\n",
    "hr_source = []\n",
    "hr_stall = []\n",
    "\n",
    "# remember to update the path here to the one with all your realizations\n",
    "for jj in range(no_of_skies):\n",
    "    filename = hr_files[jj]\n",
    "    sim_sky = np.genfromtxt(\"../../rusty_data/HR04_Reg/30_dex/\" + str(filename))  \n",
    "    \n",
    "    ex = sim_sky[:,0] #phi, add pi to this for healpix maps\n",
    "    hr_source.append(ex.size) # number of galaxies in file\n",
    "    hr_stall.append(sim_sky[0][18])"
   ]
  },
  {
   "cell_type": "code",
   "execution_count": null,
   "metadata": {},
   "outputs": [],
   "source": [
    "kh_weightsSt =  np.ones_like(kh_stall)/len(kt_stall)\n",
    "mm_weightsSt =  np.ones_like(mm_stall)/len(mm_stall)\n",
    "hr_weightsSt =  np.ones_like(hr_stall)/len(hr_stall)"
   ]
  },
  {
   "cell_type": "code",
   "execution_count": null,
   "metadata": {},
   "outputs": [],
   "source": [
    "kh_weightsG = np.ones_like(kh_source)/len(kh_source)\n",
    "mm_weightsG = np.ones_like(mm_source)/len(mm_source)\n",
    "hr_weightsG = np.ones_like(hr_source)/len(hr_source)"
   ]
  },
  {
   "cell_type": "code",
   "execution_count": null,
   "metadata": {},
   "outputs": [],
   "source": [
    "#plot all relations against each other\n",
    "#sources\n",
    "bin_size = 1; min_edge = 0; max_edge = 600\n",
    "N = (max_edge-min_edge)/bin_size; Nplus1 = N + 1\n",
    "bin_list = np.linspace(min_edge, max_edge, Nplus1)\n",
    "\n",
    "plt.hist(kh_stall, bin_list, weights = kh_weightsSt, alpha =0.8, align='left')\n",
    "plt.hist(mm_stall, bin_list, weights = mm_weightsSt, alpha =0.8, align='left')\n",
    "plt.hist(hr_stall, bin_list, weights = hr_weightsSt, alpha =0.8, align='left')\n",
    "\n",
    "plt.ylabel(\"Probability\")\n",
    "plt.xlabel(\"Number of Stalled Binaries per realization\")\n",
    "plt.tight_layout()\n",
    "\n",
    "#plt.savefig(\"plots_mm13_34/step_2/34_no_stalled_mm13.pdf\")\n",
    "\n"
   ]
  },
  {
   "cell_type": "code",
   "execution_count": null,
   "metadata": {},
   "outputs": [],
   "source": [
    "#plot all relations against each other\n",
    "#stalled\n",
    "\n",
    "bin_size = 1; min_edge = 0; max_edge = 600\n",
    "N = (max_edge-min_edge)/bin_size; Nplus1 = N + 1\n",
    "bin_list = np.linspace(min_edge, max_edge, Nplus1)\n",
    "\n",
    "plt.hist(kh_source, bin_list, weights = kh_weightsG, alpha =0.8, align='left')\n",
    "plt.hist(mm_source, bin_list, weights = mm_weightsG, alpha =0.8, align='left')\n",
    "plt.hist(hr_source, bin_list, weights = hr_weightsG, alpha =0.8, align='left')\n",
    "\n",
    "plt.ylabel(\"Probability\")\n",
    "plt.xlabel(\"Number of Stalled Binaries per realization\")\n",
    "plt.tight_layout()"
   ]
  },
  {
   "cell_type": "code",
   "execution_count": null,
   "metadata": {},
   "outputs": [],
   "source": [
    "#plot only kh13 and mm13 relations against each other \n",
    "#sources\n",
    "\n",
    "bin_size = 1; min_edge = 0; max_edge = 600\n",
    "N = (max_edge-min_edge)/bin_size; Nplus1 = N + 1\n",
    "bin_list = np.linspace(min_edge, max_edge, Nplus1)\n",
    "\n",
    "plt.hist(kh_source, bin_list, weights = kh_weightsG, alpha =0.8, align='left')\n",
    "plt.hist(mm_source, bin_list, weights = mm_weightsG, alpha =0.8, align='left')\n",
    "\n",
    "plt.ylabel(\"Probability\")\n",
    "plt.xlabel(\"Number of Stalled Binaries per realization\")\n",
    "plt.tight_layout()"
   ]
  },
  {
   "cell_type": "code",
   "execution_count": null,
   "metadata": {},
   "outputs": [],
   "source": [
    "#plot only kh13 and mm13 relations against each other \n",
    "#sstalled\n",
    "\n",
    "bin_size = 1; min_edge = 0; max_edge = 600\n",
    "N = (max_edge-min_edge)/bin_size; Nplus1 = N + 1\n",
    "bin_list = np.linspace(min_edge, max_edge, Nplus1)\n",
    "\n",
    "plt.hist(kh_stall, bin_list, weights = kh_weightsSt, alpha =0.8, align='left')\n",
    "plt.hist(mm_stall, bin_list, weights = mm_weightsSt, alpha =0.8, align='left')\n",
    "\n",
    "plt.ylabel(\"Probability\")\n",
    "plt.xlabel(\"Number of Stalled Binaries per realization\")\n",
    "plt.tight_layout()"
   ]
  }
 ],
 "metadata": {
  "kernelspec": {
   "display_name": "Python 3",
   "language": "python",
   "name": "python3"
  },
  "language_info": {
   "codemirror_mode": {
    "name": "ipython",
    "version": 3
   },
   "file_extension": ".py",
   "mimetype": "text/x-python",
   "name": "python",
   "nbconvert_exporter": "python",
   "pygments_lexer": "ipython3",
   "version": "3.6.5"
  }
 },
 "nbformat": 4,
 "nbformat_minor": 2
}
