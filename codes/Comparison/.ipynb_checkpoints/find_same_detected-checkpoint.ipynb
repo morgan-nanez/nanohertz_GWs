{
 "cells": [
  {
   "cell_type": "code",
   "execution_count": null,
   "metadata": {},
   "outputs": [],
   "source": [
    "#!/usr/bin/env python\n",
    "\"\"\"choose_skies.ipynb: a notebook to create and examine GW backgrounds \"\"\"\n",
    "\n",
    "__author__ = \"Chiara M. F. Mingarelli\"\n",
    "__copyright__ = \"Copyright 2016, GWASAP project\"\n",
    "__credits__ = [\"Chiara Mingarelli\", \"Stephen Taylor\"]\n",
    "__license__ = \"GPL\"\n",
    "__version__ = \"0.0.1\"\n",
    "__maintainer__ = \"Chiara Mingarelli\"\n",
    "__email__ = \"mingarelli@gmail.com\"\n",
    "\n"
   ]
  },
  {
   "cell_type": "code",
   "execution_count": 1,
   "metadata": {},
   "outputs": [],
   "source": [
    "from __future__ import division\n",
    "from IPython.display import display, Math, Latex\n",
    "import math\n",
    "from math import sqrt, cos, sin, pi\n",
    "import numpy as np\n",
    "import matplotlib.pyplot as plt\n",
    "import matplotlib.mlab as ml\n",
    "from matplotlib.ticker import FormatStrFormatter, LinearLocator, NullFormatter, NullLocator, MultipleLocator\n",
    "import matplotlib.ticker\n",
    "import matplotlib.colors\n",
    "from matplotlib.font_manager import FontProperties\n",
    "from matplotlib import rc, text\n",
    "import healpy as hp\n",
    "import plot_mpl2 as plot\n",
    "from astropy.io import fits\n",
    "\n",
    "import AnisCoefficients_pix as cbylm_pix \n",
    "\n",
    "%matplotlib inline\n",
    "%config InlineBackend.figure_format = \"retina\""
   ]
  },
  {
   "cell_type": "code",
   "execution_count": 3,
   "metadata": {},
   "outputs": [],
   "source": [
    "#gets data from the final skies\n",
    "name_hr = np.genfromtxt(\"../detectedSkies/final_skies/hr04_mbul_100_final.txt\", usecols = 0, dtype='str')\n",
    "final_galname_68 = np.genfromtxt(\"../detectedSkies/final_skies/kh13_mbul_29_final.txt\", usecols = 0, dtype='str')\n",
    "final_galname_102 = np.genfromtxt(\"../detectedSkies/final_skies/mm13_mbul_34_final.txt\", usecols = 0, dtype='str')"
   ]
  },
  {
   "cell_type": "code",
   "execution_count": null,
   "metadata": {},
   "outputs": [],
   "source": [
    "same = []"
   ]
  },
  {
   "cell_type": "code",
   "execution_count": 10,
   "metadata": {},
   "outputs": [],
   "source": [
    "check_1 = [i for i in final_galname_51 if (i in final_galname_68)]\n",
    "same = [i for i in check_1 if (i in final_galname_102)]"
   ]
  },
  {
   "cell_type": "code",
   "execution_count": 4,
   "metadata": {},
   "outputs": [
    {
     "name": "stdout",
     "output_type": "stream",
     "text": [
      "['NGC5995' 'NGC6363' 'NGC2663' 'PGC3097016' 'NGC7578B' 'NGC4382'\n",
      " 'ESO509-021' 'NGC7213' 'NGC4649' 'ESO317-014' 'IC1071' 'NGC4373'\n",
      " 'UGC03792' 'NGC5846' 'NGC7315' 'NGC4472' 'PGC029634' 'ESO575-043'\n",
      " 'ESO373-014' 'NGC2663' 'NGC2484' 'NGC7500' 'NGC1468' 'NGC4373'\n",
      " 'PGC082066' 'IC4630' 'UGC09396' 'PGC054403' 'ESO383-076' 'PGC063832'\n",
      " 'NGC4472' 'PGC051156' 'NGC1316' 'NGC5078' 'ESO197-010' 'IC5083'\n",
      " 'UGC01651' 'NGC4649' 'NGC5333' 'NGC6442' 'NGC5846' 'NGC2974' 'PGC059827']\n",
      "['PGC1016399' 'PGC020721' 'IC1080' 'PGC052055' 'NGC4472' 'NGC4382'\n",
      " 'NGC7618' 'PGC061374' 'NGC5482' 'PGC066077' 'NGC2656' 'PGC046874'\n",
      " 'PGC032383' 'NGC4472' 'NGC7052' 'NGC5028' 'NGC2639' 'NGC4649' 'NGC5131'\n",
      " 'PGC053829' 'ESO268-004' 'NGC7052' 'PGC048301' 'NGC5959' 'NGC4649'\n",
      " 'ESO307-013' 'PGC046187' 'NGC6085' 'PGC100091' 'PGC055874' 'PGC056587'\n",
      " 'NGC6903' 'PGC017931' 'NGC2974' 'NGC1316' 'PGC057418' 'ESO464-018'\n",
      " 'PGC024221' 'PGC095534' 'NGC4526' 'PGC021061' 'NGC6233' 'NGC5266'\n",
      " 'ESO156-018' 'ESO576-056' 'NGC4472' 'PGC060064' 'NGC1509' 'UGC01185'\n",
      " 'ESO235-054' 'IC2437' 'NGC4472' 'NGC5306' 'NGC5111' 'NGC1407' 'PGC058060'\n",
      " 'PGC014758' 'NGC4926' 'PGC069406' 'PGC062828' 'NGC1600' 'IC4556'\n",
      " 'NGC4696' 'UGC03957' 'NGC4472' 'NGC7170' 'PGC066830' 'NGC5203'\n",
      " 'ESO267-011' 'NGC6146' 'NGC5328' 'NGC4841A' 'IC1230' 'NGC7213'\n",
      " 'PGC026679' 'PGC059152' 'NGC2496' 'ESO462-015' 'NGC5090' 'PGC038038'\n",
      " 'NGC6162' 'NGC2974' 'ESO511-035' 'IC5250B' 'NGC7213' 'PGC166868'\n",
      " 'NGC5959' 'NGC4472' 'PGC033312' 'NGC5627' 'IC1165' 'ESO399-010' 'NGC4486'\n",
      " 'ESO185-054' 'NGC4912' 'NGC5790']\n"
     ]
    }
   ],
   "source": [
    "print(final_galname_51)\n",
    "print(final_galname_68)"
   ]
  },
  {
   "cell_type": "code",
   "execution_count": 11,
   "metadata": {},
   "outputs": [
    {
     "data": {
      "text/plain": [
       "['NGC7213', 'NGC4649', 'NGC4472', 'NGC4472', 'NGC1316', 'NGC4649']"
      ]
     },
     "execution_count": 11,
     "metadata": {},
     "output_type": "execute_result"
    }
   ],
   "source": [
    "same"
   ]
  },
  {
   "cell_type": "code",
   "execution_count": null,
   "metadata": {},
   "outputs": [],
   "source": []
  }
 ],
 "metadata": {
  "kernelspec": {
   "display_name": "Python 3",
   "language": "python",
   "name": "python3"
  },
  "language_info": {
   "codemirror_mode": {
    "name": "ipython",
    "version": 3
   },
   "file_extension": ".py",
   "mimetype": "text/x-python",
   "name": "python",
   "nbconvert_exporter": "python",
   "pygments_lexer": "ipython3",
   "version": "3.6.5"
  }
 },
 "nbformat": 4,
 "nbformat_minor": 2
}
