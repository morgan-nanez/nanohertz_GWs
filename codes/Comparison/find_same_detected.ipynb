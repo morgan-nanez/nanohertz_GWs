{
 "cells": [
  {
   "cell_type": "code",
   "execution_count": 2,
   "metadata": {},
   "outputs": [],
   "source": [
    "#!/usr/bin/env python\n",
    "\"\"\"choose_skies.ipynb: a notebook to create and examine GW backgrounds \"\"\"\n",
    "\n",
    "__author__ = \"Chiara M. F. Mingarelli\"\n",
    "__copyright__ = \"Copyright 2016, GWASAP project\"\n",
    "__credits__ = [\"Chiara Mingarelli\", \"Stephen Taylor\"]\n",
    "__license__ = \"GPL\"\n",
    "__version__ = \"0.0.1\"\n",
    "__maintainer__ = \"Chiara Mingarelli\"\n",
    "__email__ = \"mingarelli@gmail.com\"\n",
    "\n"
   ]
  },
  {
   "cell_type": "code",
   "execution_count": 3,
   "metadata": {},
   "outputs": [],
   "source": [
    "from __future__ import division\n",
    "from IPython.display import display, Math, Latex\n",
    "import math\n",
    "from math import sqrt, cos, sin, pi\n",
    "import numpy as np\n",
    "import matplotlib.pyplot as plt\n",
    "import matplotlib.mlab as ml\n",
    "from matplotlib.ticker import FormatStrFormatter, LinearLocator, NullFormatter, NullLocator, MultipleLocator\n",
    "import matplotlib.ticker\n",
    "import matplotlib.colors\n",
    "from matplotlib.font_manager import FontProperties\n",
    "from matplotlib import rc, text\n",
    "import healpy as hp\n",
    "import plot_mpl2 as plot\n",
    "from astropy.io import fits\n",
    "\n",
    "import AnisCoefficients_pix as cbylm_pix \n",
    "\n",
    "%matplotlib inline\n",
    "%config InlineBackend.figure_format = \"retina\""
   ]
  },
  {
   "cell_type": "code",
   "execution_count": 9,
   "metadata": {},
   "outputs": [],
   "source": [
    "#gets data from the final skies\n",
    "name_hr = np.genfromtxt(\"../../detectedSkies/final_skies/hr04_mbul_100_final.txt\", usecols = 0, dtype='str')\n",
    "name_kh = np.genfromtxt(\"../../detectedSkies/final_skies/kh13_mbul_29_final.txt\", usecols = 0, dtype='str')\n",
    "name_mm = np.genfromtxt(\"../../detectedSkies/final_skies/mm13_mbul_34_final.txt\", usecols = 0, dtype='str')"
   ]
  },
  {
   "cell_type": "code",
   "execution_count": 10,
   "metadata": {},
   "outputs": [],
   "source": [
    "same = []"
   ]
  },
  {
   "cell_type": "code",
   "execution_count": 11,
   "metadata": {},
   "outputs": [],
   "source": [
    "check_1 = [i for i in name_hr if (i in name_kh)]\n",
    "same = [i for i in check_1 if (i in name_mm)]"
   ]
  },
  {
   "cell_type": "code",
   "execution_count": 12,
   "metadata": {},
   "outputs": [
    {
     "ename": "NameError",
     "evalue": "name 'final_galname_51' is not defined",
     "output_type": "error",
     "traceback": [
      "\u001b[0;31m---------------------------------------------------------------------------\u001b[0m",
      "\u001b[0;31mNameError\u001b[0m                                 Traceback (most recent call last)",
      "\u001b[0;32m<ipython-input-12-41895bdd00ed>\u001b[0m in \u001b[0;36m<module>\u001b[0;34m()\u001b[0m\n\u001b[0;32m----> 1\u001b[0;31m \u001b[0mprint\u001b[0m\u001b[0;34m(\u001b[0m\u001b[0mfinal_galname_51\u001b[0m\u001b[0;34m)\u001b[0m\u001b[0;34m\u001b[0m\u001b[0m\n\u001b[0m\u001b[1;32m      2\u001b[0m \u001b[0mprint\u001b[0m\u001b[0;34m(\u001b[0m\u001b[0mfinal_galname_68\u001b[0m\u001b[0;34m)\u001b[0m\u001b[0;34m\u001b[0m\u001b[0m\n",
      "\u001b[0;31mNameError\u001b[0m: name 'final_galname_51' is not defined"
     ]
    }
   ],
   "source": []
  },
  {
   "cell_type": "code",
   "execution_count": 13,
   "metadata": {},
   "outputs": [
    {
     "data": {
      "text/plain": [
       "['NGC5995',\n",
       " 'NGC4696',\n",
       " 'NGC5791',\n",
       " 'NGC4472',\n",
       " 'IC1459',\n",
       " 'NGC5018',\n",
       " 'NGC4472',\n",
       " 'NGC4472',\n",
       " 'NGC6868',\n",
       " 'NGC4472',\n",
       " 'NGC4649',\n",
       " 'NGC4649',\n",
       " 'NGC4649',\n",
       " 'NGC4472',\n",
       " 'NGC4472',\n",
       " 'NGC4472',\n",
       " 'IC1459',\n",
       " 'NGC7619',\n",
       " 'NGC2974',\n",
       " 'NGC4472',\n",
       " 'NGC4472',\n",
       " 'NGC4472',\n",
       " 'NGC4472',\n",
       " 'NGC1407',\n",
       " 'NGC4649',\n",
       " 'IC1459',\n",
       " 'NGC4472',\n",
       " 'NGC4472',\n",
       " 'NGC4696',\n",
       " 'NGC4472',\n",
       " 'NGC4472',\n",
       " 'IC1459',\n",
       " 'NGC4649',\n",
       " 'NGC5419',\n",
       " 'NGC4696',\n",
       " 'NGC4649',\n",
       " 'NGC4472',\n",
       " 'NGC4486',\n",
       " 'NGC4696',\n",
       " 'IC1459',\n",
       " 'NGC6482',\n",
       " 'NGC4696',\n",
       " 'NGC4889',\n",
       " 'NGC4486',\n",
       " 'NGC3923',\n",
       " 'NGC4486',\n",
       " 'NGC4649',\n",
       " 'IC1459',\n",
       " 'NGC4472',\n",
       " 'NGC4472',\n",
       " 'IC1459',\n",
       " 'NGC6482',\n",
       " 'NGC4472',\n",
       " 'ESO137-010',\n",
       " 'NGC4649',\n",
       " 'NGC4472',\n",
       " 'NGC4649',\n",
       " 'NGC1407',\n",
       " 'NGC4486',\n",
       " 'NGC2974',\n",
       " 'NGC6482',\n",
       " 'NGC4382',\n",
       " 'NGC4472',\n",
       " 'NGC4472',\n",
       " 'NGC5266',\n",
       " 'NGC4472',\n",
       " 'NGC4472',\n",
       " 'NGC4649',\n",
       " 'NGC4472']"
      ]
     },
     "execution_count": 13,
     "metadata": {},
     "output_type": "execute_result"
    }
   ],
   "source": [
    "same"
   ]
  },
  {
   "cell_type": "code",
   "execution_count": 19,
   "metadata": {},
   "outputs": [],
   "source": [
    "name_mm = list(name_mm)\n",
    "name_kh = list(name_kh)\n",
    "name_hr = list(name_hr)"
   ]
  },
  {
   "cell_type": "code",
   "execution_count": 20,
   "metadata": {},
   "outputs": [],
   "source": [
    "name_dict_mm = dict((x, name_mm.count(x)) for x in name_mm)\n",
    "name_dict_kh = dict((x, name_kh.count(x)) for x in name_kh)\n",
    "name_dict_hr = dict((x, name_hr.count(x)) for x in name_hr)"
   ]
  },
  {
   "cell_type": "code",
   "execution_count": 21,
   "metadata": {},
   "outputs": [
    {
     "name": "stdout",
     "output_type": "stream",
     "text": [
      "{'PGC395099': 1, 'NGC5101': 2, 'NGC4486': 17, 'NGC4472': 22, 'ESO137-006': 5, 'PGC055714': 1, 'NGC5846': 7, 'NGC4382': 9, 'PGC053805': 1, 'NGC4709': 1, 'NGC4889': 3, 'NGC0315': 1, 'NGC2974': 5, 'IC1459': 5, 'NGC6482': 3, 'NGC1407': 1, 'ESO137-019': 1, 'NGC5419': 5, 'PGC173205': 1, 'IC1568': 1, 'PGC3092200': 1, 'NGC4526': 2, 'NGC4825': 1, 'NGC5865': 1, 'NGC5061': 1, 'PGC084885': 1, 'NGC6868': 3, 'NGC7619': 1, 'NGC0410': 1, 'ESO336-008': 1, 'IC0959': 1, 'NGC3923': 2, 'PGC1412540': 1, 'ESO187-059': 1, 'PGC200789': 1, 'NGC5077': 1, 'NGC4767': 1, 'NGC7049': 1, 'NGC5322': 2, 'NGC5546': 1, 'NGC3158': 1, 'PGC166868': 1, 'ESO185-054': 1, 'NGC6338': 1, 'PGC984620': 1, 'NGC5872': 1, 'NGC6921': 1, 'PGC026587': 1, 'NGC4645': 1, 'PGC1109773': 1, 'PGC3097059': 1, 'ESO383-076': 1, 'NGC4649': 2, 'IC2378': 1, 'NGC6805': 1, 'UGC11592': 1, 'UGC10144': 1, 'ESO575-023': 1, 'NGC4686': 1, 'PGC3082686': 1, 'ESO137-010': 1, 'NGC6861': 1, 'UGC09798': 1, 'NGC5791': 1, 'NGC7832': 1, 'PGC056138': 1, 'PGC048979': 1, 'NGC5557': 1, 'PGC051994': 1, 'NGC7774': 1, 'NGC5959': 1, 'PGC041004': 1, 'UGC11465': 1, 'PGC058492': 1, 'UGC01735': 1, 'NGC5911': 1, 'IC5370': 1, 'PGC159657': 1, 'PGC056443': 1, 'NGC2675': 1, 'NGC5266': 1, 'UGC09799': 1, 'NGC4874': 1, '2MASXJ1916284': 1, 'NGC4696': 2, 'NGC6768': 1, 'PGC2793219': 1, 'PGC072562': 1, 'NGC5306': 1, 'ESO137-012': 1, 'UGC04974': 1, 'IC1071': 1, 'ESO577-009': 1, 'PGC061291': 1, 'NGC6893': 1, 'PGC054213': 1, 'ESO387-028': 1, 'ESO100-022': 1, 'PGC060288': 1, 'NGC6269': 1, 'NGC5644': 1, 'NGC5232': 1, 'PGC066744': 1, 'IC1633': 1, 'UGC01185': 1, 'PGC3079813': 1, 'NGC5018': 1, 'NGC4006': 1, 'PGC210402': 1, 'NGC5995': 1}\n"
     ]
    }
   ],
   "source": [
    "print(name_dict_mm)"
   ]
  },
  {
   "cell_type": "code",
   "execution_count": 22,
   "metadata": {},
   "outputs": [
    {
     "name": "stdout",
     "output_type": "stream",
     "text": [
      "['PGC395099', 'NGC5101', 'NGC4486', 'NGC4472', 'ESO137-006', 'PGC055714', 'ESO137-006', 'NGC5846', 'NGC4486', 'NGC4472', 'NGC4382', 'NGC4486', 'NGC4382', 'ESO137-006', 'PGC053805', 'NGC4709', 'NGC5846', 'NGC4472', 'NGC4889', 'NGC0315', 'NGC2974', 'NGC4472', 'IC1459', 'NGC6482', 'NGC5846', 'NGC1407', 'ESO137-019', 'NGC5419', 'PGC173205', 'IC1568', 'PGC3092200', 'NGC4526', 'NGC4825', 'NGC5865', 'NGC6482', 'NGC5061', 'NGC4472', 'NGC5419', 'PGC084885', 'NGC4472', 'NGC6868', 'NGC7619', 'NGC0410', 'ESO336-008', 'IC0959', 'NGC3923', 'PGC1412540', 'ESO187-059', 'PGC200789', 'IC1459', 'NGC5077', 'NGC4486', 'NGC4382', 'NGC4767', 'NGC5846', 'NGC4472', 'NGC5419', 'NGC7049', 'NGC6482', 'NGC4472', 'NGC4382', 'NGC5322', 'NGC5546', 'NGC3158', 'NGC4382', 'PGC166868', 'NGC4486', 'ESO185-054', 'NGC6338', 'ESO137-006', 'PGC984620', 'NGC5872', 'NGC6921', 'NGC4486', 'NGC4486', 'NGC4526', 'NGC4486', 'IC1459', 'NGC4889', 'PGC026587', 'NGC5419', 'NGC4645', 'PGC1109773', 'PGC3097059', 'ESO383-076', 'NGC5846', 'NGC4649', 'IC2378', 'NGC6805', 'NGC4472', 'UGC11592', 'UGC10144', 'ESO575-023', 'NGC4472', 'NGC2974', 'NGC4686', 'PGC3082686', 'ESO137-010', 'NGC4889', 'NGC4486', 'NGC6861', 'NGC4486', 'NGC4486', 'NGC4472', 'UGC09798', 'NGC5791', 'NGC4472', 'NGC7832', 'PGC056138', 'PGC048979', 'NGC4472', 'NGC5557', 'NGC4649', 'PGC051994', 'NGC7774', 'NGC4472', 'NGC4382', 'NGC4472', 'NGC4382', 'NGC5959', 'PGC041004', 'UGC11465', 'NGC5322', 'PGC058492', 'UGC01735', 'NGC4486', 'NGC4472', 'NGC4472', 'NGC5846', 'NGC5911', 'IC1459', 'IC5370', 'PGC159657', 'PGC056443', 'NGC2675', 'NGC5266', 'NGC4472', 'NGC4472', 'UGC09799', 'NGC4486', 'NGC4874', '2MASXJ1916284', 'NGC4696', 'NGC6768', 'NGC4486', 'NGC4486', 'PGC2793219', 'NGC4382', 'NGC3923', 'PGC072562', 'NGC4472', 'NGC5306', 'ESO137-012', 'UGC04974', 'IC1071', 'NGC6868', 'ESO577-009', 'NGC4472', 'PGC061291', 'ESO137-006', 'NGC6893', 'PGC054213', 'NGC4472', 'NGC4486', 'NGC5846', 'NGC5101', 'ESO387-028', 'NGC2974', 'ESO100-022', 'PGC060288', 'NGC6269', 'NGC5644', 'NGC2974', 'NGC4486', 'NGC5232', 'NGC4382', 'NGC5419', 'PGC066744', 'NGC6868', 'IC1633', 'NGC4696', 'UGC01185', 'IC1459', 'PGC3079813', 'NGC5018', 'NGC4006', 'PGC210402', 'NGC5995', 'NGC2974']\n"
     ]
    }
   ],
   "source": []
  },
  {
   "cell_type": "code",
   "execution_count": null,
   "metadata": {},
   "outputs": [],
   "source": []
  }
 ],
 "metadata": {
  "kernelspec": {
   "display_name": "Python 3",
   "language": "python",
   "name": "python3"
  },
  "language_info": {
   "codemirror_mode": {
    "name": "ipython",
    "version": 3
   },
   "file_extension": ".py",
   "mimetype": "text/x-python",
   "name": "python",
   "nbconvert_exporter": "python",
   "pygments_lexer": "ipython3",
   "version": "3.6.5"
  }
 },
 "nbformat": 4,
 "nbformat_minor": 2
}
