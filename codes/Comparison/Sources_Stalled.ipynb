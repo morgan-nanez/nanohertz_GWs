{
 "cells": [
  {
   "cell_type": "code",
   "execution_count": 1,
   "metadata": {},
   "outputs": [],
   "source": [
    "from __future__ import division\n",
    "import os\n",
    "from IPython.display import display, Math, Latex\n",
    "import math\n",
    "from math import sqrt, cos, sin, pi\n",
    "import numpy as np\n",
    "import statsmodels.api as sm\n",
    "from scipy.interpolate import interp1d\n",
    "import scipy.integrate\n",
    "import matplotlib.pyplot as plt\n",
    "import matplotlib.mlab as ml\n",
    "from matplotlib.ticker import FormatStrFormatter, LinearLocator, NullFormatter, NullLocator, MultipleLocator\n",
    "import matplotlib.ticker\n",
    "import matplotlib.colors\n",
    "from matplotlib.font_manager import FontProperties\n",
    "from matplotlib import rc, text\n",
    "import healpy as hp\n",
    "#import plot_mpI2\n",
    "from astropy import units as u\n",
    "from astropy.coordinates import SkyCoord\n",
    "from astropy.io import fits\n",
    "from scipy.stats import norm\n",
    "import matplotlib.mlab as mlab\n",
    "from scipy.stats import lognorm\n",
    "from scipy import stats\n",
    "\n",
    "\n",
    "%matplotlib inline\n",
    "%config InlineBackend.figure_format = \"retina\""
   ]
  },
  {
   "cell_type": "code",
   "execution_count": 2,
   "metadata": {},
   "outputs": [],
   "source": [
    "kh_files = []\n",
    "# this is the path to where you store all the GW realizations\n",
    "#for i in os.listdir('../../rusty_data/KH13_Reg/29dex'):\n",
    "for i in os.listdir('../../rusty_data/KH13_Reg/29_dex'):\n",
    "    if i.endswith('.txt'):\n",
    "        kh_files.append(i)"
   ]
  },
  {
   "cell_type": "code",
   "execution_count": 3,
   "metadata": {},
   "outputs": [],
   "source": [
    "\"\"\"this is the path to where you store all the GW realizations\"\"\"\n",
    "\n",
    "mm_files = []\n",
    "for i in os.listdir('../../rusty_data/MM13_Reg/34_dex'):\n",
    "    if i.endswith('.txt'):\n",
    "        mm_files.append(i)"
   ]
  },
  {
   "cell_type": "code",
   "execution_count": 4,
   "metadata": {},
   "outputs": [],
   "source": [
    "hr_files = []\n",
    "# this is the path to where you store all the GW realizations\n",
    "for i in os.listdir('../../rusty_data/HR04_Reg/30_dex/'):\n",
    "    if i.endswith('.txt'):\n",
    "        hr_files.append(i)"
   ]
  },
  {
   "cell_type": "code",
   "execution_count": 5,
   "metadata": {},
   "outputs": [],
   "source": [
    "no_of_skies = len(kh_files)\n",
    "kh_source = []\n",
    "kh_stall = []\n",
    "\n",
    "# remember to update the path here to the one with all your realizations\n",
    "for jj in range(no_of_skies):\n",
    "    filename = kh_files[jj]\n",
    "    sim_sky = np.genfromtxt(\"../../rusty_data/KH13_Reg/29_dex/\" + str(filename))  \n",
    "    \n",
    "    ex = sim_sky[:,0] #phi, add pi to this for healpix maps\n",
    "    kh_source.append(ex.size) # number of galaxies in file\n",
    "    kh_stall.append(sim_sky[0][18])"
   ]
  },
  {
   "cell_type": "code",
   "execution_count": 6,
   "metadata": {},
   "outputs": [],
   "source": [
    "no_of_skies = len(mm_files)\n",
    "mm_source = []\n",
    "mm_stall = []\n",
    "\n",
    "# remember to update the path here to the one with all your realizations\n",
    "for jj in range(no_of_skies):\n",
    "    filename = mm_files[jj]\n",
    "    sim_sky = np.genfromtxt(\"../../rusty_data/MM13_Reg/34_dex/\" + str(filename))  \n",
    "    \n",
    "    ex = sim_sky[:,0] #phi, add pi to this for healpix maps\n",
    "    mm_source.append(ex.size) # number of galaxies in file\n",
    "    mm_stall.append(sim_sky[0][18])"
   ]
  },
  {
   "cell_type": "code",
   "execution_count": 7,
   "metadata": {},
   "outputs": [],
   "source": [
    "no_of_skies = len(hr_files)\n",
    "hr_source = []\n",
    "hr_stall = []\n",
    "\n",
    "# remember to update the path here to the one with all your realizations\n",
    "for jj in range(no_of_skies):\n",
    "    filename = hr_files[jj]\n",
    "    sim_sky = np.genfromtxt(\"../../rusty_data/HR04_Reg/30_dex/\" + str(filename))  \n",
    "    \n",
    "    ex = sim_sky[:,0] #phi, add pi to this for healpix maps\n",
    "    hr_source.append(ex.size) # number of galaxies in file\n",
    "    hr_stall.append(sim_sky[0][18])"
   ]
  },
  {
   "cell_type": "code",
   "execution_count": 9,
   "metadata": {},
   "outputs": [],
   "source": [
    "kh_weightsSt =  np.ones_like(kh_stall)/len(kh_stall)\n",
    "mm_weightsSt =  np.ones_like(mm_stall)/len(mm_stall)\n",
    "hr_weightsSt =  np.ones_like(hr_stall)/len(hr_stall)"
   ]
  },
  {
   "cell_type": "code",
   "execution_count": 10,
   "metadata": {},
   "outputs": [],
   "source": [
    "kh_weightsG = np.ones_like(kh_source)/len(kh_source)\n",
    "mm_weightsG = np.ones_like(mm_source)/len(mm_source)\n",
    "hr_weightsG = np.ones_like(hr_source)/len(hr_source)"
   ]
  },
  {
   "cell_type": "code",
   "execution_count": null,
   "metadata": {},
   "outputs": [],
   "source": [
    "#plot all relations against each other\n",
    "#sources\n",
    "bin_size = 1; min_edge = 0; max_edge = 600\n",
    "N = (max_edge-min_edge)/bin_size; Nplus1 = N + 1\n",
    "bin_list = np.linspace(min_edge, max_edge, Nplus1)\n",
    "\n",
    "plt.hist(kh_stall, bin_list, weights = kh_weightsSt, alpha =0.8, align='left')\n",
    "plt.hist(mm_stall, bin_list, weights = mm_weightsSt, alpha =0.8, align='left')\n",
    "plt.hist(hr_stall, bin_list, weights = hr_weightsSt, alpha =0.8, align='left')\n",
    "\n",
    "plt.ylabel(\"Probability\")\n",
    "plt.xlabel(\"Number of Stalled Binaries per realization\")\n",
    "plt.tight_layout()\n",
    "\n",
    "plt.savefig(\"plots_comparison/no_stalled_all.pdf\")"
   ]
  },
  {
   "cell_type": "code",
   "execution_count": null,
   "metadata": {},
   "outputs": [],
   "source": [
    "#plot all relations against each other\n",
    "#stalled\n",
    "\n",
    "bin_size = 1; min_edge = 0; max_edge = 600\n",
    "N = (max_edge-min_edge)/bin_size; Nplus1 = N + 1\n",
    "bin_list = np.linspace(min_edge, max_edge, Nplus1)\n",
    "\n",
    "plt.hist(kh_source, bin_list, weights = kh_weightsG, alpha =0.8, align='left')\n",
    "plt.hist(mm_source, bin_list, weights = mm_weightsG, alpha =0.8, align='left')\n",
    "plt.hist(hr_source, bin_list, weights = hr_weightsG, alpha =0.8, align='left')\n",
    "\n",
    "plt.ylabel(\"Probability\")\n",
    "plt.xlabel(\"Number of Sources per realization\")\n",
    "plt.tight_layout()\n",
    "\n",
    "plt.savefig(\"plots_comparison/no_sources_all.pdf\")"
   ]
  },
  {
   "cell_type": "code",
   "execution_count": 17,
   "metadata": {},
   "outputs": [
    {
     "name": "stderr",
     "output_type": "stream",
     "text": [
      "/anaconda3/lib/python3.6/site-packages/ipykernel_launcher.py:8: DeprecationWarning: object of type <class 'float'> cannot be safely interpreted as an integer.\n",
      "  \n"
     ]
    },
    {
     "data": {
      "image/png": "[encoded data removed]",
      "text/plain": [
       "<Figure size 432x288 with 1 Axes>"
      ]
     },
     "metadata": {
      "image/png": {
       "height": 278,
       "width": 422
      }
     },
     "output_type": "display_data"
    }
   ],
   "source": [
    "#plot only kh13 and mm13 relations against each other \n",
    "#sources\n",
    "\n",
    "fig, ax = plt.subplots() \n",
    "\n",
    "bin_size = 1; min_edge = 0; max_edge = 125\n",
    "N = (max_edge-min_edge)/bin_size; Nplus1 = N + 1\n",
    "bin_list = np.linspace(min_edge, max_edge, Nplus1)\n",
    "\n",
    "plt.hist(kh_source, bin_list, weights = kh_weightsG, alpha =0.8, align='left', label = \"KH13\")\n",
    "plt.hist(mm_source, bin_list, weights = mm_weightsG, alpha =0.8, align='left', label = \"MM13\")\n",
    "\n",
    "plt.ylabel(\"Probability\")\n",
    "plt.xlabel(\"Number of Sources per realization\")\n",
    "\n",
    "ax.legend(frameon=False)\n",
    "\n",
    "plt.tight_layout()\n",
    "\n",
    "plt.savefig(\"plots_comparison/no_sources_kh13_mm13.pdf\")"
   ]
  },
  {
   "cell_type": "code",
   "execution_count": 18,
   "metadata": {},
   "outputs": [
    {
     "name": "stderr",
     "output_type": "stream",
     "text": [
      "/anaconda3/lib/python3.6/site-packages/ipykernel_launcher.py:6: DeprecationWarning: object of type <class 'float'> cannot be safely interpreted as an integer.\n",
      "  \n"
     ]
    },
    {
     "data": {
      "image/png": "[encoded data removed]",
      "text/plain": [
       "<Figure size 432x288 with 1 Axes>"
      ]
     },
     "metadata": {
      "image/png": {
       "height": 278,
       "width": 422
      }
     },
     "output_type": "display_data"
    }
   ],
   "source": [
    "#plot only kh13 and mm13 relations against each other \n",
    "#sstalled\n",
    "\n",
    "bin_size = 1; min_edge = 0; max_edge = 15\n",
    "N = (max_edge-min_edge)/bin_size; Nplus1 = N + 1\n",
    "bin_list = np.linspace(min_edge, max_edge, Nplus1)\n",
    "\n",
    "fig, ax = plt.subplots() \n",
    "\n",
    "plt.hist(kh_stall, bin_list, weights = kh_weightsSt, alpha =0.8, align='left', label = \"KH13\")\n",
    "plt.hist(mm_stall, bin_list, weights = mm_weightsSt, alpha =0.8, align='left', label = \"MM13\")\n",
    "\n",
    "ax.legend(frameon=False)\n",
    "\n",
    "plt.ylabel(\"Probability\")\n",
    "plt.xlabel(\"Number of Stalled Binaries per realization\")\n",
    "plt.tight_layout()\n",
    "plt.savefig(\"plots_comparison/no_stalled_kh13_mm13.pdf\")"
   ]
  },
  {
   "cell_type": "code",
   "execution_count": 19,
   "metadata": {},
   "outputs": [],
   "source": [
    "(mu_kh, sigma_kh) = norm.fit(kh_stall)\n",
    "(mu_mm, sigma_mm) = norm.fit(mm_stall)"
   ]
  },
  {
   "cell_type": "code",
   "execution_count": 20,
   "metadata": {},
   "outputs": [
    {
     "name": "stdout",
     "output_type": "stream",
     "text": [
      "1.1267771792402912 0.3788749367847872\n",
      "7.297615152819629 2.509103596061141\n"
     ]
    }
   ],
   "source": [
    "print(mu_kh, sigma_kh)\n",
    "print(mu_mm, sigma_mm)"
   ]
  },
  {
   "cell_type": "code",
   "execution_count": null,
   "metadata": {},
   "outputs": [],
   "source": []
  }
 ],
 "metadata": {
  "kernelspec": {
   "display_name": "Python 3",
   "language": "python",
   "name": "python3"
  },
  "language_info": {
   "codemirror_mode": {
    "name": "ipython",
    "version": 3
   },
   "file_extension": ".py",
   "mimetype": "text/x-python",
   "name": "python",
   "nbconvert_exporter": "python",
   "pygments_lexer": "ipython3",
   "version": "3.6.5"
  }
 },
 "nbformat": 4,
 "nbformat_minor": 2
}
